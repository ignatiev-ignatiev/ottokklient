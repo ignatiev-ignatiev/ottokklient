{
 "cells": [
  {
   "cell_type": "markdown",
   "metadata": {
    "toc": true
   },
   "source": [
    "<h1>Содержание<span class=\"tocSkip\"></span></h1>\n",
    "<div class=\"toc\"><ul class=\"toc-item\"><li><span><a href=\"#Подготовка-данных\" data-toc-modified-id=\"Подготовка-данных-1\"><span class=\"toc-item-num\">1&nbsp;&nbsp;</span>Подготовка данных</a></span></li><li><span><a href=\"#Исследование-задачи\" data-toc-modified-id=\"Исследование-задачи-2\"><span class=\"toc-item-num\">2&nbsp;&nbsp;</span>Исследование задачи</a></span></li><li><span><a href=\"#Борьба-с-дисбалансом\" data-toc-modified-id=\"Борьба-с-дисбалансом-3\"><span class=\"toc-item-num\">3&nbsp;&nbsp;</span>Борьба с дисбалансом</a></span></li><li><span><a href=\"#Тестирование-модели\" data-toc-modified-id=\"Тестирование-модели-4\"><span class=\"toc-item-num\">4&nbsp;&nbsp;</span>Тестирование модели</a></span></li><li><span><a href=\"#Чек-лист-готовности-проекта\" data-toc-modified-id=\"Чек-лист-готовности-проекта-5\"><span class=\"toc-item-num\">5&nbsp;&nbsp;</span>Чек-лист готовности проекта</a></span></li></ul></div>"
   ]
  },
  {
   "cell_type": "markdown",
   "metadata": {},
   "source": [
    "# Отток клиентов"
   ]
  },
  {
   "cell_type": "markdown",
   "metadata": {},
   "source": [
    "Из «Бета-Банка» стали уходить клиенты. Каждый месяц. Немного, но заметно. Банковские маркетологи посчитали: сохранять текущих клиентов дешевле, чем привлекать новых.\n",
    "\n",
    "Нужно спрогнозировать, уйдёт клиент из банка в ближайшее время или нет. Вам предоставлены исторические данные о поведении клиентов и расторжении договоров с банком. \n",
    "\n",
    "Постройте модель с предельно большим значением *F1*-меры. Чтобы сдать проект успешно, нужно довести метрику до 0.59. Проверьте *F1*-меру на тестовой выборке самостоятельно.\n",
    "\n",
    "Дополнительно измеряйте *AUC-ROC*, сравнивайте её значение с *F1*-мерой.\n",
    "\n",
    "Источник данных: [https://www.kaggle.com/barelydedicated/bank-customer-churn-modeling](https://www.kaggle.com/barelydedicated/bank-customer-churn-modeling)"
   ]
  },
  {
   "cell_type": "markdown",
   "metadata": {},
   "source": [
    "## Подготовка данных"
   ]
  },
  {
   "cell_type": "code",
   "execution_count": 1,
   "metadata": {},
   "outputs": [],
   "source": [
    "import pandas as pd\n",
    "import matplotlib.pyplot as plt\n",
    "import numpy as np\n",
    "from sklearn.tree import DecisionTreeClassifier\n",
    "from sklearn.ensemble import RandomForestClassifier\n",
    "from sklearn.linear_model import LogisticRegression\n",
    "from sklearn.model_selection import train_test_split\n",
    "from sklearn.preprocessing import OrdinalEncoder\n",
    "from sklearn.preprocessing import StandardScaler\n",
    "from sklearn.metrics import f1_score\n",
    "from sklearn.utils import shuffle\n",
    "from sklearn.metrics import roc_curve\n",
    "from sklearn.metrics import roc_auc_score\n",
    "from sklearn.metrics import accuracy_score\n",
    "from sklearn.metrics import confusion_matrix\n",
    "from sklearn.metrics import recall_score\n",
    "from sklearn.metrics import precision_score"
   ]
  },
  {
   "cell_type": "code",
   "execution_count": 2,
   "metadata": {},
   "outputs": [],
   "source": [
    "data = pd.read_csv('/datasets/Churn.csv')"
   ]
  },
  {
   "cell_type": "code",
   "execution_count": 3,
   "metadata": {},
   "outputs": [
    {
     "data": {
      "text/html": [
       "<div>\n",
       "<style scoped>\n",
       "    .dataframe tbody tr th:only-of-type {\n",
       "        vertical-align: middle;\n",
       "    }\n",
       "\n",
       "    .dataframe tbody tr th {\n",
       "        vertical-align: top;\n",
       "    }\n",
       "\n",
       "    .dataframe thead th {\n",
       "        text-align: right;\n",
       "    }\n",
       "</style>\n",
       "<table border=\"1\" class=\"dataframe\">\n",
       "  <thead>\n",
       "    <tr style=\"text-align: right;\">\n",
       "      <th></th>\n",
       "      <th>RowNumber</th>\n",
       "      <th>CustomerId</th>\n",
       "      <th>Surname</th>\n",
       "      <th>CreditScore</th>\n",
       "      <th>Geography</th>\n",
       "      <th>Gender</th>\n",
       "      <th>Age</th>\n",
       "      <th>Tenure</th>\n",
       "      <th>Balance</th>\n",
       "      <th>NumOfProducts</th>\n",
       "      <th>HasCrCard</th>\n",
       "      <th>IsActiveMember</th>\n",
       "      <th>EstimatedSalary</th>\n",
       "      <th>Exited</th>\n",
       "    </tr>\n",
       "  </thead>\n",
       "  <tbody>\n",
       "    <tr>\n",
       "      <th>0</th>\n",
       "      <td>1</td>\n",
       "      <td>15634602</td>\n",
       "      <td>Hargrave</td>\n",
       "      <td>619</td>\n",
       "      <td>France</td>\n",
       "      <td>Female</td>\n",
       "      <td>42</td>\n",
       "      <td>2.0</td>\n",
       "      <td>0.00</td>\n",
       "      <td>1</td>\n",
       "      <td>1</td>\n",
       "      <td>1</td>\n",
       "      <td>101348.88</td>\n",
       "      <td>1</td>\n",
       "    </tr>\n",
       "    <tr>\n",
       "      <th>1</th>\n",
       "      <td>2</td>\n",
       "      <td>15647311</td>\n",
       "      <td>Hill</td>\n",
       "      <td>608</td>\n",
       "      <td>Spain</td>\n",
       "      <td>Female</td>\n",
       "      <td>41</td>\n",
       "      <td>1.0</td>\n",
       "      <td>83807.86</td>\n",
       "      <td>1</td>\n",
       "      <td>0</td>\n",
       "      <td>1</td>\n",
       "      <td>112542.58</td>\n",
       "      <td>0</td>\n",
       "    </tr>\n",
       "    <tr>\n",
       "      <th>2</th>\n",
       "      <td>3</td>\n",
       "      <td>15619304</td>\n",
       "      <td>Onio</td>\n",
       "      <td>502</td>\n",
       "      <td>France</td>\n",
       "      <td>Female</td>\n",
       "      <td>42</td>\n",
       "      <td>8.0</td>\n",
       "      <td>159660.80</td>\n",
       "      <td>3</td>\n",
       "      <td>1</td>\n",
       "      <td>0</td>\n",
       "      <td>113931.57</td>\n",
       "      <td>1</td>\n",
       "    </tr>\n",
       "    <tr>\n",
       "      <th>3</th>\n",
       "      <td>4</td>\n",
       "      <td>15701354</td>\n",
       "      <td>Boni</td>\n",
       "      <td>699</td>\n",
       "      <td>France</td>\n",
       "      <td>Female</td>\n",
       "      <td>39</td>\n",
       "      <td>1.0</td>\n",
       "      <td>0.00</td>\n",
       "      <td>2</td>\n",
       "      <td>0</td>\n",
       "      <td>0</td>\n",
       "      <td>93826.63</td>\n",
       "      <td>0</td>\n",
       "    </tr>\n",
       "    <tr>\n",
       "      <th>4</th>\n",
       "      <td>5</td>\n",
       "      <td>15737888</td>\n",
       "      <td>Mitchell</td>\n",
       "      <td>850</td>\n",
       "      <td>Spain</td>\n",
       "      <td>Female</td>\n",
       "      <td>43</td>\n",
       "      <td>2.0</td>\n",
       "      <td>125510.82</td>\n",
       "      <td>1</td>\n",
       "      <td>1</td>\n",
       "      <td>1</td>\n",
       "      <td>79084.10</td>\n",
       "      <td>0</td>\n",
       "    </tr>\n",
       "    <tr>\n",
       "      <th>...</th>\n",
       "      <td>...</td>\n",
       "      <td>...</td>\n",
       "      <td>...</td>\n",
       "      <td>...</td>\n",
       "      <td>...</td>\n",
       "      <td>...</td>\n",
       "      <td>...</td>\n",
       "      <td>...</td>\n",
       "      <td>...</td>\n",
       "      <td>...</td>\n",
       "      <td>...</td>\n",
       "      <td>...</td>\n",
       "      <td>...</td>\n",
       "      <td>...</td>\n",
       "    </tr>\n",
       "    <tr>\n",
       "      <th>9995</th>\n",
       "      <td>9996</td>\n",
       "      <td>15606229</td>\n",
       "      <td>Obijiaku</td>\n",
       "      <td>771</td>\n",
       "      <td>France</td>\n",
       "      <td>Male</td>\n",
       "      <td>39</td>\n",
       "      <td>5.0</td>\n",
       "      <td>0.00</td>\n",
       "      <td>2</td>\n",
       "      <td>1</td>\n",
       "      <td>0</td>\n",
       "      <td>96270.64</td>\n",
       "      <td>0</td>\n",
       "    </tr>\n",
       "    <tr>\n",
       "      <th>9996</th>\n",
       "      <td>9997</td>\n",
       "      <td>15569892</td>\n",
       "      <td>Johnstone</td>\n",
       "      <td>516</td>\n",
       "      <td>France</td>\n",
       "      <td>Male</td>\n",
       "      <td>35</td>\n",
       "      <td>10.0</td>\n",
       "      <td>57369.61</td>\n",
       "      <td>1</td>\n",
       "      <td>1</td>\n",
       "      <td>1</td>\n",
       "      <td>101699.77</td>\n",
       "      <td>0</td>\n",
       "    </tr>\n",
       "    <tr>\n",
       "      <th>9997</th>\n",
       "      <td>9998</td>\n",
       "      <td>15584532</td>\n",
       "      <td>Liu</td>\n",
       "      <td>709</td>\n",
       "      <td>France</td>\n",
       "      <td>Female</td>\n",
       "      <td>36</td>\n",
       "      <td>7.0</td>\n",
       "      <td>0.00</td>\n",
       "      <td>1</td>\n",
       "      <td>0</td>\n",
       "      <td>1</td>\n",
       "      <td>42085.58</td>\n",
       "      <td>1</td>\n",
       "    </tr>\n",
       "    <tr>\n",
       "      <th>9998</th>\n",
       "      <td>9999</td>\n",
       "      <td>15682355</td>\n",
       "      <td>Sabbatini</td>\n",
       "      <td>772</td>\n",
       "      <td>Germany</td>\n",
       "      <td>Male</td>\n",
       "      <td>42</td>\n",
       "      <td>3.0</td>\n",
       "      <td>75075.31</td>\n",
       "      <td>2</td>\n",
       "      <td>1</td>\n",
       "      <td>0</td>\n",
       "      <td>92888.52</td>\n",
       "      <td>1</td>\n",
       "    </tr>\n",
       "    <tr>\n",
       "      <th>9999</th>\n",
       "      <td>10000</td>\n",
       "      <td>15628319</td>\n",
       "      <td>Walker</td>\n",
       "      <td>792</td>\n",
       "      <td>France</td>\n",
       "      <td>Female</td>\n",
       "      <td>28</td>\n",
       "      <td>NaN</td>\n",
       "      <td>130142.79</td>\n",
       "      <td>1</td>\n",
       "      <td>1</td>\n",
       "      <td>0</td>\n",
       "      <td>38190.78</td>\n",
       "      <td>0</td>\n",
       "    </tr>\n",
       "  </tbody>\n",
       "</table>\n",
       "<p>10000 rows × 14 columns</p>\n",
       "</div>"
      ],
      "text/plain": [
       "      RowNumber  CustomerId    Surname  CreditScore Geography  Gender  Age  \\\n",
       "0             1    15634602   Hargrave          619    France  Female   42   \n",
       "1             2    15647311       Hill          608     Spain  Female   41   \n",
       "2             3    15619304       Onio          502    France  Female   42   \n",
       "3             4    15701354       Boni          699    France  Female   39   \n",
       "4             5    15737888   Mitchell          850     Spain  Female   43   \n",
       "...         ...         ...        ...          ...       ...     ...  ...   \n",
       "9995       9996    15606229   Obijiaku          771    France    Male   39   \n",
       "9996       9997    15569892  Johnstone          516    France    Male   35   \n",
       "9997       9998    15584532        Liu          709    France  Female   36   \n",
       "9998       9999    15682355  Sabbatini          772   Germany    Male   42   \n",
       "9999      10000    15628319     Walker          792    France  Female   28   \n",
       "\n",
       "      Tenure    Balance  NumOfProducts  HasCrCard  IsActiveMember  \\\n",
       "0        2.0       0.00              1          1               1   \n",
       "1        1.0   83807.86              1          0               1   \n",
       "2        8.0  159660.80              3          1               0   \n",
       "3        1.0       0.00              2          0               0   \n",
       "4        2.0  125510.82              1          1               1   \n",
       "...      ...        ...            ...        ...             ...   \n",
       "9995     5.0       0.00              2          1               0   \n",
       "9996    10.0   57369.61              1          1               1   \n",
       "9997     7.0       0.00              1          0               1   \n",
       "9998     3.0   75075.31              2          1               0   \n",
       "9999     NaN  130142.79              1          1               0   \n",
       "\n",
       "      EstimatedSalary  Exited  \n",
       "0           101348.88       1  \n",
       "1           112542.58       0  \n",
       "2           113931.57       1  \n",
       "3            93826.63       0  \n",
       "4            79084.10       0  \n",
       "...               ...     ...  \n",
       "9995         96270.64       0  \n",
       "9996        101699.77       0  \n",
       "9997         42085.58       1  \n",
       "9998         92888.52       1  \n",
       "9999         38190.78       0  \n",
       "\n",
       "[10000 rows x 14 columns]"
      ]
     },
     "execution_count": 3,
     "metadata": {},
     "output_type": "execute_result"
    }
   ],
   "source": [
    "data"
   ]
  },
  {
   "cell_type": "code",
   "execution_count": 4,
   "metadata": {},
   "outputs": [
    {
     "name": "stdout",
     "output_type": "stream",
     "text": [
      "<class 'pandas.core.frame.DataFrame'>\n",
      "RangeIndex: 10000 entries, 0 to 9999\n",
      "Data columns (total 14 columns):\n",
      " #   Column           Non-Null Count  Dtype  \n",
      "---  ------           --------------  -----  \n",
      " 0   RowNumber        10000 non-null  int64  \n",
      " 1   CustomerId       10000 non-null  int64  \n",
      " 2   Surname          10000 non-null  object \n",
      " 3   CreditScore      10000 non-null  int64  \n",
      " 4   Geography        10000 non-null  object \n",
      " 5   Gender           10000 non-null  object \n",
      " 6   Age              10000 non-null  int64  \n",
      " 7   Tenure           9091 non-null   float64\n",
      " 8   Balance          10000 non-null  float64\n",
      " 9   NumOfProducts    10000 non-null  int64  \n",
      " 10  HasCrCard        10000 non-null  int64  \n",
      " 11  IsActiveMember   10000 non-null  int64  \n",
      " 12  EstimatedSalary  10000 non-null  float64\n",
      " 13  Exited           10000 non-null  int64  \n",
      "dtypes: float64(3), int64(8), object(3)\n",
      "memory usage: 1.1+ MB\n"
     ]
    }
   ],
   "source": [
    "data.info()"
   ]
  },
  {
   "cell_type": "markdown",
   "metadata": {},
   "source": [
    "* RowNumber — индекс строки в данных\n",
    "\n",
    "* CustomerId — уникальный идентификатор клиента\n",
    "\n",
    "* Surname — фамилия\n",
    "\n",
    "* CreditScore — кредитный рейтинг\n",
    "\n",
    "* Geography — страна проживания\n",
    "\n",
    "* Gender — пол\n",
    "\n",
    "* Age — возраст\n",
    "\n",
    "* Tenure — сколько лет человек является клиентом банка\n",
    "\n",
    "* Balance — баланс на счёте\n",
    "\n",
    "* NumOfProducts — количество продуктов банка, используемых клиентом\n",
    "\n",
    "* HasCrCard — наличие кредитной карты\n",
    "\n",
    "* IsActiveMember — активность клиента\n",
    "\n",
    "* EstimatedSalary — предполагаемая зарплата\n",
    "\n",
    "Целевым признаком является столбец Exited — факт ухода клиента"
   ]
  },
  {
   "cell_type": "code",
   "execution_count": 5,
   "metadata": {},
   "outputs": [
    {
     "data": {
      "text/html": [
       "<div>\n",
       "<style scoped>\n",
       "    .dataframe tbody tr th:only-of-type {\n",
       "        vertical-align: middle;\n",
       "    }\n",
       "\n",
       "    .dataframe tbody tr th {\n",
       "        vertical-align: top;\n",
       "    }\n",
       "\n",
       "    .dataframe thead th {\n",
       "        text-align: right;\n",
       "    }\n",
       "</style>\n",
       "<table border=\"1\" class=\"dataframe\">\n",
       "  <thead>\n",
       "    <tr style=\"text-align: right;\">\n",
       "      <th></th>\n",
       "      <th>RowNumber</th>\n",
       "      <th>CustomerId</th>\n",
       "      <th>Surname</th>\n",
       "      <th>CreditScore</th>\n",
       "      <th>Geography</th>\n",
       "      <th>Gender</th>\n",
       "      <th>Age</th>\n",
       "      <th>Tenure</th>\n",
       "      <th>Balance</th>\n",
       "      <th>NumOfProducts</th>\n",
       "      <th>HasCrCard</th>\n",
       "      <th>IsActiveMember</th>\n",
       "      <th>EstimatedSalary</th>\n",
       "      <th>Exited</th>\n",
       "    </tr>\n",
       "  </thead>\n",
       "  <tbody>\n",
       "    <tr>\n",
       "      <th>0</th>\n",
       "      <td>1</td>\n",
       "      <td>15634602</td>\n",
       "      <td>Hargrave</td>\n",
       "      <td>619</td>\n",
       "      <td>France</td>\n",
       "      <td>Female</td>\n",
       "      <td>42</td>\n",
       "      <td>2.0</td>\n",
       "      <td>0.00</td>\n",
       "      <td>1</td>\n",
       "      <td>1</td>\n",
       "      <td>1</td>\n",
       "      <td>101348.88</td>\n",
       "      <td>1</td>\n",
       "    </tr>\n",
       "    <tr>\n",
       "      <th>1</th>\n",
       "      <td>2</td>\n",
       "      <td>15647311</td>\n",
       "      <td>Hill</td>\n",
       "      <td>608</td>\n",
       "      <td>Spain</td>\n",
       "      <td>Female</td>\n",
       "      <td>41</td>\n",
       "      <td>1.0</td>\n",
       "      <td>83807.86</td>\n",
       "      <td>1</td>\n",
       "      <td>0</td>\n",
       "      <td>1</td>\n",
       "      <td>112542.58</td>\n",
       "      <td>0</td>\n",
       "    </tr>\n",
       "    <tr>\n",
       "      <th>2</th>\n",
       "      <td>3</td>\n",
       "      <td>15619304</td>\n",
       "      <td>Onio</td>\n",
       "      <td>502</td>\n",
       "      <td>France</td>\n",
       "      <td>Female</td>\n",
       "      <td>42</td>\n",
       "      <td>8.0</td>\n",
       "      <td>159660.80</td>\n",
       "      <td>3</td>\n",
       "      <td>1</td>\n",
       "      <td>0</td>\n",
       "      <td>113931.57</td>\n",
       "      <td>1</td>\n",
       "    </tr>\n",
       "    <tr>\n",
       "      <th>3</th>\n",
       "      <td>4</td>\n",
       "      <td>15701354</td>\n",
       "      <td>Boni</td>\n",
       "      <td>699</td>\n",
       "      <td>France</td>\n",
       "      <td>Female</td>\n",
       "      <td>39</td>\n",
       "      <td>1.0</td>\n",
       "      <td>0.00</td>\n",
       "      <td>2</td>\n",
       "      <td>0</td>\n",
       "      <td>0</td>\n",
       "      <td>93826.63</td>\n",
       "      <td>0</td>\n",
       "    </tr>\n",
       "    <tr>\n",
       "      <th>4</th>\n",
       "      <td>5</td>\n",
       "      <td>15737888</td>\n",
       "      <td>Mitchell</td>\n",
       "      <td>850</td>\n",
       "      <td>Spain</td>\n",
       "      <td>Female</td>\n",
       "      <td>43</td>\n",
       "      <td>2.0</td>\n",
       "      <td>125510.82</td>\n",
       "      <td>1</td>\n",
       "      <td>1</td>\n",
       "      <td>1</td>\n",
       "      <td>79084.10</td>\n",
       "      <td>0</td>\n",
       "    </tr>\n",
       "    <tr>\n",
       "      <th>5</th>\n",
       "      <td>6</td>\n",
       "      <td>15574012</td>\n",
       "      <td>Chu</td>\n",
       "      <td>645</td>\n",
       "      <td>Spain</td>\n",
       "      <td>Male</td>\n",
       "      <td>44</td>\n",
       "      <td>8.0</td>\n",
       "      <td>113755.78</td>\n",
       "      <td>2</td>\n",
       "      <td>1</td>\n",
       "      <td>0</td>\n",
       "      <td>149756.71</td>\n",
       "      <td>1</td>\n",
       "    </tr>\n",
       "    <tr>\n",
       "      <th>6</th>\n",
       "      <td>7</td>\n",
       "      <td>15592531</td>\n",
       "      <td>Bartlett</td>\n",
       "      <td>822</td>\n",
       "      <td>France</td>\n",
       "      <td>Male</td>\n",
       "      <td>50</td>\n",
       "      <td>7.0</td>\n",
       "      <td>0.00</td>\n",
       "      <td>2</td>\n",
       "      <td>1</td>\n",
       "      <td>1</td>\n",
       "      <td>10062.80</td>\n",
       "      <td>0</td>\n",
       "    </tr>\n",
       "    <tr>\n",
       "      <th>7</th>\n",
       "      <td>8</td>\n",
       "      <td>15656148</td>\n",
       "      <td>Obinna</td>\n",
       "      <td>376</td>\n",
       "      <td>Germany</td>\n",
       "      <td>Female</td>\n",
       "      <td>29</td>\n",
       "      <td>4.0</td>\n",
       "      <td>115046.74</td>\n",
       "      <td>4</td>\n",
       "      <td>1</td>\n",
       "      <td>0</td>\n",
       "      <td>119346.88</td>\n",
       "      <td>1</td>\n",
       "    </tr>\n",
       "    <tr>\n",
       "      <th>8</th>\n",
       "      <td>9</td>\n",
       "      <td>15792365</td>\n",
       "      <td>He</td>\n",
       "      <td>501</td>\n",
       "      <td>France</td>\n",
       "      <td>Male</td>\n",
       "      <td>44</td>\n",
       "      <td>4.0</td>\n",
       "      <td>142051.07</td>\n",
       "      <td>2</td>\n",
       "      <td>0</td>\n",
       "      <td>1</td>\n",
       "      <td>74940.50</td>\n",
       "      <td>0</td>\n",
       "    </tr>\n",
       "    <tr>\n",
       "      <th>9</th>\n",
       "      <td>10</td>\n",
       "      <td>15592389</td>\n",
       "      <td>H?</td>\n",
       "      <td>684</td>\n",
       "      <td>France</td>\n",
       "      <td>Male</td>\n",
       "      <td>27</td>\n",
       "      <td>2.0</td>\n",
       "      <td>134603.88</td>\n",
       "      <td>1</td>\n",
       "      <td>1</td>\n",
       "      <td>1</td>\n",
       "      <td>71725.73</td>\n",
       "      <td>0</td>\n",
       "    </tr>\n",
       "  </tbody>\n",
       "</table>\n",
       "</div>"
      ],
      "text/plain": [
       "   RowNumber  CustomerId   Surname  CreditScore Geography  Gender  Age  \\\n",
       "0          1    15634602  Hargrave          619    France  Female   42   \n",
       "1          2    15647311      Hill          608     Spain  Female   41   \n",
       "2          3    15619304      Onio          502    France  Female   42   \n",
       "3          4    15701354      Boni          699    France  Female   39   \n",
       "4          5    15737888  Mitchell          850     Spain  Female   43   \n",
       "5          6    15574012       Chu          645     Spain    Male   44   \n",
       "6          7    15592531  Bartlett          822    France    Male   50   \n",
       "7          8    15656148    Obinna          376   Germany  Female   29   \n",
       "8          9    15792365        He          501    France    Male   44   \n",
       "9         10    15592389        H?          684    France    Male   27   \n",
       "\n",
       "   Tenure    Balance  NumOfProducts  HasCrCard  IsActiveMember  \\\n",
       "0     2.0       0.00              1          1               1   \n",
       "1     1.0   83807.86              1          0               1   \n",
       "2     8.0  159660.80              3          1               0   \n",
       "3     1.0       0.00              2          0               0   \n",
       "4     2.0  125510.82              1          1               1   \n",
       "5     8.0  113755.78              2          1               0   \n",
       "6     7.0       0.00              2          1               1   \n",
       "7     4.0  115046.74              4          1               0   \n",
       "8     4.0  142051.07              2          0               1   \n",
       "9     2.0  134603.88              1          1               1   \n",
       "\n",
       "   EstimatedSalary  Exited  \n",
       "0        101348.88       1  \n",
       "1        112542.58       0  \n",
       "2        113931.57       1  \n",
       "3         93826.63       0  \n",
       "4         79084.10       0  \n",
       "5        149756.71       1  \n",
       "6         10062.80       0  \n",
       "7        119346.88       1  \n",
       "8         74940.50       0  \n",
       "9         71725.73       0  "
      ]
     },
     "execution_count": 5,
     "metadata": {},
     "output_type": "execute_result"
    }
   ],
   "source": [
    "data.head(10)"
   ]
  },
  {
   "cell_type": "code",
   "execution_count": 6,
   "metadata": {},
   "outputs": [
    {
     "data": {
      "text/plain": [
       "RowNumber            0\n",
       "CustomerId           0\n",
       "Surname              0\n",
       "CreditScore          0\n",
       "Geography            0\n",
       "Gender               0\n",
       "Age                  0\n",
       "Tenure             909\n",
       "Balance              0\n",
       "NumOfProducts        0\n",
       "HasCrCard            0\n",
       "IsActiveMember       0\n",
       "EstimatedSalary      0\n",
       "Exited               0\n",
       "dtype: int64"
      ]
     },
     "execution_count": 6,
     "metadata": {},
     "output_type": "execute_result"
    }
   ],
   "source": [
    "data.isnull().sum()"
   ]
  },
  {
   "cell_type": "code",
   "execution_count": 7,
   "metadata": {},
   "outputs": [
    {
     "data": {
      "text/plain": [
       "0"
      ]
     },
     "execution_count": 7,
     "metadata": {},
     "output_type": "execute_result"
    }
   ],
   "source": [
    "data.duplicated().sum()"
   ]
  },
  {
   "cell_type": "code",
   "execution_count": 8,
   "metadata": {},
   "outputs": [
    {
     "data": {
      "text/html": [
       "<div>\n",
       "<style scoped>\n",
       "    .dataframe tbody tr th:only-of-type {\n",
       "        vertical-align: middle;\n",
       "    }\n",
       "\n",
       "    .dataframe tbody tr th {\n",
       "        vertical-align: top;\n",
       "    }\n",
       "\n",
       "    .dataframe thead th {\n",
       "        text-align: right;\n",
       "    }\n",
       "</style>\n",
       "<table border=\"1\" class=\"dataframe\">\n",
       "  <thead>\n",
       "    <tr style=\"text-align: right;\">\n",
       "      <th></th>\n",
       "      <th>RowNumber</th>\n",
       "      <th>CustomerId</th>\n",
       "      <th>CreditScore</th>\n",
       "      <th>Age</th>\n",
       "      <th>Tenure</th>\n",
       "      <th>Balance</th>\n",
       "      <th>NumOfProducts</th>\n",
       "      <th>HasCrCard</th>\n",
       "      <th>IsActiveMember</th>\n",
       "      <th>EstimatedSalary</th>\n",
       "      <th>Exited</th>\n",
       "    </tr>\n",
       "  </thead>\n",
       "  <tbody>\n",
       "    <tr>\n",
       "      <th>count</th>\n",
       "      <td>10000.00000</td>\n",
       "      <td>1.000000e+04</td>\n",
       "      <td>10000.000000</td>\n",
       "      <td>10000.000000</td>\n",
       "      <td>9091.000000</td>\n",
       "      <td>10000.000000</td>\n",
       "      <td>10000.000000</td>\n",
       "      <td>10000.00000</td>\n",
       "      <td>10000.000000</td>\n",
       "      <td>10000.000000</td>\n",
       "      <td>10000.000000</td>\n",
       "    </tr>\n",
       "    <tr>\n",
       "      <th>mean</th>\n",
       "      <td>5000.50000</td>\n",
       "      <td>1.569094e+07</td>\n",
       "      <td>650.528800</td>\n",
       "      <td>38.921800</td>\n",
       "      <td>4.997690</td>\n",
       "      <td>76485.889288</td>\n",
       "      <td>1.530200</td>\n",
       "      <td>0.70550</td>\n",
       "      <td>0.515100</td>\n",
       "      <td>100090.239881</td>\n",
       "      <td>0.203700</td>\n",
       "    </tr>\n",
       "    <tr>\n",
       "      <th>std</th>\n",
       "      <td>2886.89568</td>\n",
       "      <td>7.193619e+04</td>\n",
       "      <td>96.653299</td>\n",
       "      <td>10.487806</td>\n",
       "      <td>2.894723</td>\n",
       "      <td>62397.405202</td>\n",
       "      <td>0.581654</td>\n",
       "      <td>0.45584</td>\n",
       "      <td>0.499797</td>\n",
       "      <td>57510.492818</td>\n",
       "      <td>0.402769</td>\n",
       "    </tr>\n",
       "    <tr>\n",
       "      <th>min</th>\n",
       "      <td>1.00000</td>\n",
       "      <td>1.556570e+07</td>\n",
       "      <td>350.000000</td>\n",
       "      <td>18.000000</td>\n",
       "      <td>0.000000</td>\n",
       "      <td>0.000000</td>\n",
       "      <td>1.000000</td>\n",
       "      <td>0.00000</td>\n",
       "      <td>0.000000</td>\n",
       "      <td>11.580000</td>\n",
       "      <td>0.000000</td>\n",
       "    </tr>\n",
       "    <tr>\n",
       "      <th>25%</th>\n",
       "      <td>2500.75000</td>\n",
       "      <td>1.562853e+07</td>\n",
       "      <td>584.000000</td>\n",
       "      <td>32.000000</td>\n",
       "      <td>2.000000</td>\n",
       "      <td>0.000000</td>\n",
       "      <td>1.000000</td>\n",
       "      <td>0.00000</td>\n",
       "      <td>0.000000</td>\n",
       "      <td>51002.110000</td>\n",
       "      <td>0.000000</td>\n",
       "    </tr>\n",
       "    <tr>\n",
       "      <th>50%</th>\n",
       "      <td>5000.50000</td>\n",
       "      <td>1.569074e+07</td>\n",
       "      <td>652.000000</td>\n",
       "      <td>37.000000</td>\n",
       "      <td>5.000000</td>\n",
       "      <td>97198.540000</td>\n",
       "      <td>1.000000</td>\n",
       "      <td>1.00000</td>\n",
       "      <td>1.000000</td>\n",
       "      <td>100193.915000</td>\n",
       "      <td>0.000000</td>\n",
       "    </tr>\n",
       "    <tr>\n",
       "      <th>75%</th>\n",
       "      <td>7500.25000</td>\n",
       "      <td>1.575323e+07</td>\n",
       "      <td>718.000000</td>\n",
       "      <td>44.000000</td>\n",
       "      <td>7.000000</td>\n",
       "      <td>127644.240000</td>\n",
       "      <td>2.000000</td>\n",
       "      <td>1.00000</td>\n",
       "      <td>1.000000</td>\n",
       "      <td>149388.247500</td>\n",
       "      <td>0.000000</td>\n",
       "    </tr>\n",
       "    <tr>\n",
       "      <th>max</th>\n",
       "      <td>10000.00000</td>\n",
       "      <td>1.581569e+07</td>\n",
       "      <td>850.000000</td>\n",
       "      <td>92.000000</td>\n",
       "      <td>10.000000</td>\n",
       "      <td>250898.090000</td>\n",
       "      <td>4.000000</td>\n",
       "      <td>1.00000</td>\n",
       "      <td>1.000000</td>\n",
       "      <td>199992.480000</td>\n",
       "      <td>1.000000</td>\n",
       "    </tr>\n",
       "  </tbody>\n",
       "</table>\n",
       "</div>"
      ],
      "text/plain": [
       "         RowNumber    CustomerId   CreditScore           Age       Tenure  \\\n",
       "count  10000.00000  1.000000e+04  10000.000000  10000.000000  9091.000000   \n",
       "mean    5000.50000  1.569094e+07    650.528800     38.921800     4.997690   \n",
       "std     2886.89568  7.193619e+04     96.653299     10.487806     2.894723   \n",
       "min        1.00000  1.556570e+07    350.000000     18.000000     0.000000   \n",
       "25%     2500.75000  1.562853e+07    584.000000     32.000000     2.000000   \n",
       "50%     5000.50000  1.569074e+07    652.000000     37.000000     5.000000   \n",
       "75%     7500.25000  1.575323e+07    718.000000     44.000000     7.000000   \n",
       "max    10000.00000  1.581569e+07    850.000000     92.000000    10.000000   \n",
       "\n",
       "             Balance  NumOfProducts    HasCrCard  IsActiveMember  \\\n",
       "count   10000.000000   10000.000000  10000.00000    10000.000000   \n",
       "mean    76485.889288       1.530200      0.70550        0.515100   \n",
       "std     62397.405202       0.581654      0.45584        0.499797   \n",
       "min         0.000000       1.000000      0.00000        0.000000   \n",
       "25%         0.000000       1.000000      0.00000        0.000000   \n",
       "50%     97198.540000       1.000000      1.00000        1.000000   \n",
       "75%    127644.240000       2.000000      1.00000        1.000000   \n",
       "max    250898.090000       4.000000      1.00000        1.000000   \n",
       "\n",
       "       EstimatedSalary        Exited  \n",
       "count     10000.000000  10000.000000  \n",
       "mean     100090.239881      0.203700  \n",
       "std       57510.492818      0.402769  \n",
       "min          11.580000      0.000000  \n",
       "25%       51002.110000      0.000000  \n",
       "50%      100193.915000      0.000000  \n",
       "75%      149388.247500      0.000000  \n",
       "max      199992.480000      1.000000  "
      ]
     },
     "execution_count": 8,
     "metadata": {},
     "output_type": "execute_result"
    }
   ],
   "source": [
    "data.describe()"
   ]
  },
  {
   "cell_type": "code",
   "execution_count": 9,
   "metadata": {},
   "outputs": [],
   "source": [
    "data['Tenure'] = data['Tenure'].fillna(0).astype('int')\n",
    "# заменим пропуски на 0 так  скорее всего пропуск говорит о том, что недвижимости нет"
   ]
  },
  {
   "cell_type": "code",
   "execution_count": 10,
   "metadata": {},
   "outputs": [],
   "source": [
    "data = data.drop(['Surname', 'RowNumber','CustomerId'], axis=1)\n",
    "# убираем столбец RowNumber, так как он дублирует фактическую нумерацию ,и CustomerId и Surname, так как значения в них не влияют на дальнейший анализ."
   ]
  },
  {
   "cell_type": "code",
   "execution_count": 11,
   "metadata": {},
   "outputs": [
    {
     "data": {
      "text/plain": [
       "Index(['creditscore', 'geography', 'gender', 'age', 'tenure', 'balance',\n",
       "       'numofproducts', 'hascrcard', 'isactivemember', 'estimatedsalary',\n",
       "       'exited'],\n",
       "      dtype='object')"
      ]
     },
     "execution_count": 11,
     "metadata": {},
     "output_type": "execute_result"
    }
   ],
   "source": [
    "data.columns = data.columns.str.lower()\n",
    "data.columns"
   ]
  },
  {
   "cell_type": "code",
   "execution_count": 12,
   "metadata": {},
   "outputs": [
    {
     "data": {
      "text/html": [
       "<div>\n",
       "<style scoped>\n",
       "    .dataframe tbody tr th:only-of-type {\n",
       "        vertical-align: middle;\n",
       "    }\n",
       "\n",
       "    .dataframe tbody tr th {\n",
       "        vertical-align: top;\n",
       "    }\n",
       "\n",
       "    .dataframe thead th {\n",
       "        text-align: right;\n",
       "    }\n",
       "</style>\n",
       "<table border=\"1\" class=\"dataframe\">\n",
       "  <thead>\n",
       "    <tr style=\"text-align: right;\">\n",
       "      <th></th>\n",
       "      <th>credit_score</th>\n",
       "      <th>geography</th>\n",
       "      <th>gender</th>\n",
       "      <th>age</th>\n",
       "      <th>tenure</th>\n",
       "      <th>balance</th>\n",
       "      <th>num_of_products</th>\n",
       "      <th>has_cr_card</th>\n",
       "      <th>is_active_member</th>\n",
       "      <th>estimated_salary</th>\n",
       "      <th>exited</th>\n",
       "    </tr>\n",
       "  </thead>\n",
       "  <tbody>\n",
       "    <tr>\n",
       "      <th>0</th>\n",
       "      <td>619</td>\n",
       "      <td>France</td>\n",
       "      <td>Female</td>\n",
       "      <td>42</td>\n",
       "      <td>2</td>\n",
       "      <td>0.00</td>\n",
       "      <td>1</td>\n",
       "      <td>1</td>\n",
       "      <td>1</td>\n",
       "      <td>101348.88</td>\n",
       "      <td>1</td>\n",
       "    </tr>\n",
       "    <tr>\n",
       "      <th>1</th>\n",
       "      <td>608</td>\n",
       "      <td>Spain</td>\n",
       "      <td>Female</td>\n",
       "      <td>41</td>\n",
       "      <td>1</td>\n",
       "      <td>83807.86</td>\n",
       "      <td>1</td>\n",
       "      <td>0</td>\n",
       "      <td>1</td>\n",
       "      <td>112542.58</td>\n",
       "      <td>0</td>\n",
       "    </tr>\n",
       "    <tr>\n",
       "      <th>2</th>\n",
       "      <td>502</td>\n",
       "      <td>France</td>\n",
       "      <td>Female</td>\n",
       "      <td>42</td>\n",
       "      <td>8</td>\n",
       "      <td>159660.80</td>\n",
       "      <td>3</td>\n",
       "      <td>1</td>\n",
       "      <td>0</td>\n",
       "      <td>113931.57</td>\n",
       "      <td>1</td>\n",
       "    </tr>\n",
       "    <tr>\n",
       "      <th>3</th>\n",
       "      <td>699</td>\n",
       "      <td>France</td>\n",
       "      <td>Female</td>\n",
       "      <td>39</td>\n",
       "      <td>1</td>\n",
       "      <td>0.00</td>\n",
       "      <td>2</td>\n",
       "      <td>0</td>\n",
       "      <td>0</td>\n",
       "      <td>93826.63</td>\n",
       "      <td>0</td>\n",
       "    </tr>\n",
       "    <tr>\n",
       "      <th>4</th>\n",
       "      <td>850</td>\n",
       "      <td>Spain</td>\n",
       "      <td>Female</td>\n",
       "      <td>43</td>\n",
       "      <td>2</td>\n",
       "      <td>125510.82</td>\n",
       "      <td>1</td>\n",
       "      <td>1</td>\n",
       "      <td>1</td>\n",
       "      <td>79084.10</td>\n",
       "      <td>0</td>\n",
       "    </tr>\n",
       "  </tbody>\n",
       "</table>\n",
       "</div>"
      ],
      "text/plain": [
       "   credit_score geography  gender  age  tenure    balance  num_of_products  \\\n",
       "0           619    France  Female   42       2       0.00                1   \n",
       "1           608     Spain  Female   41       1   83807.86                1   \n",
       "2           502    France  Female   42       8  159660.80                3   \n",
       "3           699    France  Female   39       1       0.00                2   \n",
       "4           850     Spain  Female   43       2  125510.82                1   \n",
       "\n",
       "   has_cr_card  is_active_member  estimated_salary  exited  \n",
       "0            1                 1         101348.88       1  \n",
       "1            0                 1         112542.58       0  \n",
       "2            1                 0         113931.57       1  \n",
       "3            0                 0          93826.63       0  \n",
       "4            1                 1          79084.10       0  "
      ]
     },
     "execution_count": 12,
     "metadata": {},
     "output_type": "execute_result"
    }
   ],
   "source": [
    "data = data.rename(columns={'creditscore':'credit_score', 'numofproducts':'num_of_products', 'hascrcard':'has_cr_card', 'isactivemember':'is_active_member','estimatedsalary': 'estimated_salary'})\n",
    "data.head(5)\n",
    "#  приводим к нижнему регистру и понятному восприятию"
   ]
  },
  {
   "cell_type": "markdown",
   "metadata": {},
   "source": [
    "\n",
    "* В таблице 10000 объектов. \n",
    "* Были пропуски в столбце Tenure ( заполнили), перевели данные\n",
    "* Явных дубликатов не обнаружено\n",
    "* Избавились от столбца RowNumber, так как он дублирует нумерацию объектов с шагом 1, и от CustomerId и Surname, так как значения в них не влияют на дальнейший анализ.\n",
    "* Изменили названия стобцов -\n",
    "* Из таблицы делаем вывод, что есть группа из мужчин и женщин, из 3 стран, разного возраста с разным кредитным рейтингом и балансом. На основании этих данных будет строить исследования"
   ]
  },
  {
   "cell_type": "markdown",
   "metadata": {},
   "source": [
    "## Исследование задачи"
   ]
  },
  {
   "cell_type": "markdown",
   "metadata": {},
   "source": [
    "Рассмотрим график значений оттока и оставшихся клиентов\n",
    "\n",
    "Соотношение оттока и тех кто остался 1:4. Такое соотношение говорит, что присутствует дисбаланс в данных."
   ]
  },
  {
   "cell_type": "code",
   "execution_count": 13,
   "metadata": {},
   "outputs": [
    {
     "data": {
      "text/plain": [
       "<AxesSubplot:title={'center':'Соотношение ушел/остался'}>"
      ]
     },
     "execution_count": 13,
     "metadata": {},
     "output_type": "execute_result"
    },
    {
     "data": {
      "image/png": "[encoded data removed]",
      "text/plain": [
       "<Figure size 1080x576 with 1 Axes>"
      ]
     },
     "metadata": {
      "needs_background": "light"
     },
     "output_type": "display_data"
    }
   ],
   "source": [
    "data['exited'].value_counts(normalize=True).plot(kind='bar',grid=True,figsize=(15,8),title='Соотношение ушел/остался')"
   ]
  },
  {
   "cell_type": "markdown",
   "metadata": {},
   "source": [
    "по графику видно, что отток зависит от возраста. Больше всего уходит клиентов в возрасте от 40 до 50 лет. "
   ]
  },
  {
   "cell_type": "code",
   "execution_count": 14,
   "metadata": {},
   "outputs": [
    {
     "data": {
      "image/png": "[encoded data removed]",
      "text/plain": [
       "<Figure size 1440x720 with 1 Axes>"
      ]
     },
     "metadata": {
      "needs_background": "light"
     },
     "output_type": "display_data"
    }
   ],
   "source": [
    "data.groupby('age')['exited'].sum().plot(figsize=(20,10),kind='bar',title='График возраста и оттока')\n",
    "plt.show()"
   ]
  },
  {
   "cell_type": "code",
   "execution_count": 15,
   "metadata": {},
   "outputs": [
    {
     "data": {
      "image/png": "[encoded data removed]",
      "text/plain": [
       "<Figure size 1080x432 with 1 Axes>"
      ]
     },
     "metadata": {
      "needs_background": "light"
     },
     "output_type": "display_data"
    }
   ],
   "source": [
    "data.groupby('tenure')['exited'].count().plot(figsize=(15,6),kind='bar',title='График кол-ва лет в банке и оттока')\n",
    "plt.show()"
   ]
  },
  {
   "cell_type": "code",
   "execution_count": 16,
   "metadata": {},
   "outputs": [],
   "source": [
    "#Кодирование данных ,данные подготовим методом OHE, что позволит нам использовать разные модели и не словить дамми ловушку\n",
    "data_ohe = pd.get_dummies(data, drop_first=True)"
   ]
  },
  {
   "cell_type": "code",
   "execution_count": 17,
   "metadata": {},
   "outputs": [
    {
     "data": {
      "text/html": [
       "<div>\n",
       "<style scoped>\n",
       "    .dataframe tbody tr th:only-of-type {\n",
       "        vertical-align: middle;\n",
       "    }\n",
       "\n",
       "    .dataframe tbody tr th {\n",
       "        vertical-align: top;\n",
       "    }\n",
       "\n",
       "    .dataframe thead th {\n",
       "        text-align: right;\n",
       "    }\n",
       "</style>\n",
       "<table border=\"1\" class=\"dataframe\">\n",
       "  <thead>\n",
       "    <tr style=\"text-align: right;\">\n",
       "      <th></th>\n",
       "      <th>credit_score</th>\n",
       "      <th>age</th>\n",
       "      <th>tenure</th>\n",
       "      <th>balance</th>\n",
       "      <th>num_of_products</th>\n",
       "      <th>has_cr_card</th>\n",
       "      <th>is_active_member</th>\n",
       "      <th>estimated_salary</th>\n",
       "      <th>exited</th>\n",
       "      <th>geography_Germany</th>\n",
       "      <th>geography_Spain</th>\n",
       "      <th>gender_Male</th>\n",
       "    </tr>\n",
       "  </thead>\n",
       "  <tbody>\n",
       "    <tr>\n",
       "      <th>0</th>\n",
       "      <td>619</td>\n",
       "      <td>42</td>\n",
       "      <td>2</td>\n",
       "      <td>0.00</td>\n",
       "      <td>1</td>\n",
       "      <td>1</td>\n",
       "      <td>1</td>\n",
       "      <td>101348.88</td>\n",
       "      <td>1</td>\n",
       "      <td>0</td>\n",
       "      <td>0</td>\n",
       "      <td>0</td>\n",
       "    </tr>\n",
       "    <tr>\n",
       "      <th>1</th>\n",
       "      <td>608</td>\n",
       "      <td>41</td>\n",
       "      <td>1</td>\n",
       "      <td>83807.86</td>\n",
       "      <td>1</td>\n",
       "      <td>0</td>\n",
       "      <td>1</td>\n",
       "      <td>112542.58</td>\n",
       "      <td>0</td>\n",
       "      <td>0</td>\n",
       "      <td>1</td>\n",
       "      <td>0</td>\n",
       "    </tr>\n",
       "    <tr>\n",
       "      <th>2</th>\n",
       "      <td>502</td>\n",
       "      <td>42</td>\n",
       "      <td>8</td>\n",
       "      <td>159660.80</td>\n",
       "      <td>3</td>\n",
       "      <td>1</td>\n",
       "      <td>0</td>\n",
       "      <td>113931.57</td>\n",
       "      <td>1</td>\n",
       "      <td>0</td>\n",
       "      <td>0</td>\n",
       "      <td>0</td>\n",
       "    </tr>\n",
       "    <tr>\n",
       "      <th>3</th>\n",
       "      <td>699</td>\n",
       "      <td>39</td>\n",
       "      <td>1</td>\n",
       "      <td>0.00</td>\n",
       "      <td>2</td>\n",
       "      <td>0</td>\n",
       "      <td>0</td>\n",
       "      <td>93826.63</td>\n",
       "      <td>0</td>\n",
       "      <td>0</td>\n",
       "      <td>0</td>\n",
       "      <td>0</td>\n",
       "    </tr>\n",
       "    <tr>\n",
       "      <th>4</th>\n",
       "      <td>850</td>\n",
       "      <td>43</td>\n",
       "      <td>2</td>\n",
       "      <td>125510.82</td>\n",
       "      <td>1</td>\n",
       "      <td>1</td>\n",
       "      <td>1</td>\n",
       "      <td>79084.10</td>\n",
       "      <td>0</td>\n",
       "      <td>0</td>\n",
       "      <td>1</td>\n",
       "      <td>0</td>\n",
       "    </tr>\n",
       "  </tbody>\n",
       "</table>\n",
       "</div>"
      ],
      "text/plain": [
       "   credit_score  age  tenure    balance  num_of_products  has_cr_card  \\\n",
       "0           619   42       2       0.00                1            1   \n",
       "1           608   41       1   83807.86                1            0   \n",
       "2           502   42       8  159660.80                3            1   \n",
       "3           699   39       1       0.00                2            0   \n",
       "4           850   43       2  125510.82                1            1   \n",
       "\n",
       "   is_active_member  estimated_salary  exited  geography_Germany  \\\n",
       "0                 1         101348.88       1                  0   \n",
       "1                 1         112542.58       0                  0   \n",
       "2                 0         113931.57       1                  0   \n",
       "3                 0          93826.63       0                  0   \n",
       "4                 1          79084.10       0                  0   \n",
       "\n",
       "   geography_Spain  gender_Male  \n",
       "0                0            0  \n",
       "1                1            0  \n",
       "2                0            0  \n",
       "3                0            0  \n",
       "4                1            0  "
      ]
     },
     "execution_count": 17,
     "metadata": {},
     "output_type": "execute_result"
    }
   ],
   "source": [
    "data_ohe.head()"
   ]
  },
  {
   "cell_type": "markdown",
   "metadata": {},
   "source": [
    "Сформируем выборки\n",
    "Обуч - 60, Валид - 20, тест - 20"
   ]
  },
  {
   "cell_type": "code",
   "execution_count": 18,
   "metadata": {},
   "outputs": [
    {
     "name": "stdout",
     "output_type": "stream",
     "text": [
      "(6000, 11)\n",
      "(2000, 11)\n",
      "(6000,)\n",
      "(2000,)\n",
      "(2000, 11)\n",
      "(2000,)\n"
     ]
    }
   ],
   "source": [
    "#создаю переменные для признаков и целевого признака:\n",
    "#разделяю данные на обучающую и валидационную выборки\n",
    "#разделяю валидационную выборку на валидационную и тестовую\n",
    "features = data_ohe.drop(['exited'], axis=1)\n",
    "target = data_ohe['exited']\n",
    "features_train, features_valid, target_train, target_valid = train_test_split(features,\n",
    "                                                                              target, test_size=0.4,\n",
    "                                                                              random_state=12345)\n",
    "features_test, features_valid, target_test, target_valid = train_test_split(features_valid,\n",
    "                                                                            target_valid, test_size=0.5,\n",
    "                                                                            random_state=12345)\n",
    "#смотрю размеры получившихся выборок:\n",
    "for i in [features_train, features_valid, target_train, target_valid, features_test, target_test]:\n",
    "    print(i.shape)"
   ]
  },
  {
   "cell_type": "code",
   "execution_count": 19,
   "metadata": {},
   "outputs": [
    {
     "data": {
      "text/html": [
       "<div>\n",
       "<style scoped>\n",
       "    .dataframe tbody tr th:only-of-type {\n",
       "        vertical-align: middle;\n",
       "    }\n",
       "\n",
       "    .dataframe tbody tr th {\n",
       "        vertical-align: top;\n",
       "    }\n",
       "\n",
       "    .dataframe thead th {\n",
       "        text-align: right;\n",
       "    }\n",
       "</style>\n",
       "<table border=\"1\" class=\"dataframe\">\n",
       "  <thead>\n",
       "    <tr style=\"text-align: right;\">\n",
       "      <th></th>\n",
       "      <th>credit_score</th>\n",
       "      <th>age</th>\n",
       "      <th>tenure</th>\n",
       "      <th>balance</th>\n",
       "      <th>num_of_products</th>\n",
       "      <th>has_cr_card</th>\n",
       "      <th>is_active_member</th>\n",
       "      <th>estimated_salary</th>\n",
       "      <th>geography_Germany</th>\n",
       "      <th>geography_Spain</th>\n",
       "      <th>gender_Male</th>\n",
       "    </tr>\n",
       "  </thead>\n",
       "  <tbody>\n",
       "    <tr>\n",
       "      <th>7479</th>\n",
       "      <td>567</td>\n",
       "      <td>35</td>\n",
       "      <td>8</td>\n",
       "      <td>153137.74</td>\n",
       "      <td>1</td>\n",
       "      <td>1</td>\n",
       "      <td>0</td>\n",
       "      <td>88659.07</td>\n",
       "      <td>0</td>\n",
       "      <td>1</td>\n",
       "      <td>1</td>\n",
       "    </tr>\n",
       "    <tr>\n",
       "      <th>3411</th>\n",
       "      <td>711</td>\n",
       "      <td>37</td>\n",
       "      <td>8</td>\n",
       "      <td>113899.92</td>\n",
       "      <td>1</td>\n",
       "      <td>0</td>\n",
       "      <td>0</td>\n",
       "      <td>80215.20</td>\n",
       "      <td>0</td>\n",
       "      <td>0</td>\n",
       "      <td>0</td>\n",
       "    </tr>\n",
       "    <tr>\n",
       "      <th>6027</th>\n",
       "      <td>850</td>\n",
       "      <td>44</td>\n",
       "      <td>3</td>\n",
       "      <td>140393.65</td>\n",
       "      <td>2</td>\n",
       "      <td>0</td>\n",
       "      <td>1</td>\n",
       "      <td>186285.52</td>\n",
       "      <td>1</td>\n",
       "      <td>0</td>\n",
       "      <td>1</td>\n",
       "    </tr>\n",
       "    <tr>\n",
       "      <th>1247</th>\n",
       "      <td>512</td>\n",
       "      <td>24</td>\n",
       "      <td>6</td>\n",
       "      <td>0.00</td>\n",
       "      <td>2</td>\n",
       "      <td>1</td>\n",
       "      <td>0</td>\n",
       "      <td>37654.31</td>\n",
       "      <td>0</td>\n",
       "      <td>0</td>\n",
       "      <td>1</td>\n",
       "    </tr>\n",
       "    <tr>\n",
       "      <th>3716</th>\n",
       "      <td>665</td>\n",
       "      <td>27</td>\n",
       "      <td>2</td>\n",
       "      <td>147435.96</td>\n",
       "      <td>1</td>\n",
       "      <td>0</td>\n",
       "      <td>0</td>\n",
       "      <td>187508.06</td>\n",
       "      <td>1</td>\n",
       "      <td>0</td>\n",
       "      <td>0</td>\n",
       "    </tr>\n",
       "  </tbody>\n",
       "</table>\n",
       "</div>"
      ],
      "text/plain": [
       "      credit_score  age  tenure    balance  num_of_products  has_cr_card  \\\n",
       "7479           567   35       8  153137.74                1            1   \n",
       "3411           711   37       8  113899.92                1            0   \n",
       "6027           850   44       3  140393.65                2            0   \n",
       "1247           512   24       6       0.00                2            1   \n",
       "3716           665   27       2  147435.96                1            0   \n",
       "\n",
       "      is_active_member  estimated_salary  geography_Germany  geography_Spain  \\\n",
       "7479                 0          88659.07                  0                1   \n",
       "3411                 0          80215.20                  0                0   \n",
       "6027                 1         186285.52                  1                0   \n",
       "1247                 0          37654.31                  0                0   \n",
       "3716                 0         187508.06                  1                0   \n",
       "\n",
       "      gender_Male  \n",
       "7479            1  \n",
       "3411            0  \n",
       "6027            1  \n",
       "1247            1  \n",
       "3716            0  "
      ]
     },
     "execution_count": 19,
     "metadata": {},
     "output_type": "execute_result"
    }
   ],
   "source": [
    "features_train.head()"
   ]
  },
  {
   "cell_type": "code",
   "execution_count": 20,
   "metadata": {},
   "outputs": [],
   "source": [
    "# стандартизируем тестовую и валидную выборку, т.к есть значения и маленькие и очень большие.\n",
    "numeric = ['credit_score','age','tenure','balance','num_of_products','estimated_salary']"
   ]
  },
  {
   "cell_type": "code",
   "execution_count": 21,
   "metadata": {},
   "outputs": [
    {
     "data": {
      "text/plain": [
       "StandardScaler()"
      ]
     },
     "execution_count": 21,
     "metadata": {},
     "output_type": "execute_result"
    }
   ],
   "source": [
    "scaler = StandardScaler()\n",
    "scaler.fit(features_train[numeric])"
   ]
  },
  {
   "cell_type": "code",
   "execution_count": 22,
   "metadata": {},
   "outputs": [
    {
     "name": "stderr",
     "output_type": "stream",
     "text": [
      "/tmp/ipykernel_78/3292835044.py:1: SettingWithCopyWarning: \n",
      "A value is trying to be set on a copy of a slice from a DataFrame.\n",
      "Try using .loc[row_indexer,col_indexer] = value instead\n",
      "\n",
      "See the caveats in the documentation: https://pandas.pydata.org/pandas-docs/stable/user_guide/indexing.html#returning-a-view-versus-a-copy\n",
      "  features_train[numeric] = scaler.transform(features_train[numeric])\n",
      "/opt/conda/lib/python3.9/site-packages/pandas/core/indexing.py:1738: SettingWithCopyWarning: \n",
      "A value is trying to be set on a copy of a slice from a DataFrame.\n",
      "Try using .loc[row_indexer,col_indexer] = value instead\n",
      "\n",
      "See the caveats in the documentation: https://pandas.pydata.org/pandas-docs/stable/user_guide/indexing.html#returning-a-view-versus-a-copy\n",
      "  self._setitem_single_column(loc, value[:, i].tolist(), pi)\n"
     ]
    }
   ],
   "source": [
    "features_train[numeric] = scaler.transform(features_train[numeric])"
   ]
  },
  {
   "cell_type": "raw",
   "metadata": {},
   "source": [
    "features_train.loc[:, numeric] = scaler.transform(features_train.loc[:, numeric]).copy()\n",
    "# перепробывал все варианты, юпитер все равно ругается"
   ]
  },
  {
   "cell_type": "code",
   "execution_count": 23,
   "metadata": {},
   "outputs": [],
   "source": [
    "features_valid[numeric] = scaler.transform(features_valid[numeric])\n",
    "features_test[numeric] = scaler.transform(features_test[numeric])"
   ]
  },
  {
   "cell_type": "markdown",
   "metadata": {},
   "source": [
    "Строим модели без учета баланса"
   ]
  },
  {
   "cell_type": "code",
   "execution_count": 24,
   "metadata": {},
   "outputs": [],
   "source": [
    "def all_models_accuracy(features_train, target_train, features_valid, target_valid):\n",
    "    model_dtc = DecisionTreeClassifier(random_state=12345)\n",
    "    dtc_score = model_dtc.fit(features_train, target_train).score(features_valid, target_valid)\n",
    "    \n",
    "    model_rfc = RandomForestClassifier(max_depth=7, n_estimators=43, min_samples_leaf=3, random_state=12345)\n",
    "    rfc_score = model_rfc.fit(features_train, target_train).score(features_valid, target_valid)\n",
    "    \n",
    "    model_lgr = LogisticRegression(solver = 'liblinear')\n",
    "    lgr_score = model_lgr.fit(features_train, target_train).score(features_valid, target_valid)\n",
    "    print(\"Точность:\" \"дерево решений\", dtc_score, \"случайный лес \", rfc_score, \"логистическая регрессия\", lgr_score)"
   ]
  },
  {
   "cell_type": "code",
   "execution_count": 25,
   "metadata": {},
   "outputs": [
    {
     "name": "stdout",
     "output_type": "stream",
     "text": [
      "Точность:дерево решений 0.7845 случайный лес  0.8415 логистическая регрессия 0.791\n"
     ]
    }
   ],
   "source": [
    "all_models_accuracy(features_train, target_train, features_valid, target_valid)"
   ]
  },
  {
   "cell_type": "code",
   "execution_count": 26,
   "metadata": {},
   "outputs": [
    {
     "data": {
      "text/plain": [
       "0    0.800667\n",
       "1    0.199333\n",
       "Name: exited, dtype: float64"
      ]
     },
     "execution_count": 26,
     "metadata": {},
     "output_type": "execute_result"
    }
   ],
   "source": [
    "target_train.value_counts(normalize = 1)\n",
    "# видим подверждение нашего графика и дисбаланс, 80 на 20 или 1 к 4"
   ]
  },
  {
   "cell_type": "code",
   "execution_count": 27,
   "metadata": {},
   "outputs": [],
   "source": [
    "def all_models_share(features_train, target_train, features_valid, target_valid):\n",
    "    model_dtc = DecisionTreeClassifier(random_state=12345)\n",
    "    model_dtc.fit(features_train, target_train)\n",
    "    dtc_share = pd.Series(model_dtc.predict(features_valid)).value_counts(normalize = 1)\n",
    "    \n",
    "    \n",
    "    \n",
    "    model_rfc = RandomForestClassifier(random_state=12345, n_estimators = 100)\n",
    "    model_rfc.fit(features_train, target_train)\n",
    "    rfc_share = pd.Series(model_rfc.predict(features_valid)).value_counts(normalize = 1)\n",
    "    \n",
    "    model_lgr = LogisticRegression(solver = 'liblinear')\n",
    "    model_lgr.fit(features_train, target_train)\n",
    "    lgr_share = pd.Series(model_lgr.predict(features_valid)).value_counts(normalize = 1)\n",
    "    \n",
    "\n",
    "    \n",
    "    print(\"Доли ответов:\" \"дерево решений\", dtc_share, \"случайный лес \",  rfc_share, \"логистическая регрессия\", lgr_share)"
   ]
  },
  {
   "cell_type": "code",
   "execution_count": 28,
   "metadata": {
    "scrolled": false
   },
   "outputs": [
    {
     "name": "stdout",
     "output_type": "stream",
     "text": [
      "Доли ответов:дерево решений 0    0.798\n",
      "1    0.202\n",
      "dtype: float64 случайный лес  0    0.8795\n",
      "1    0.1205\n",
      "dtype: float64 логистическая регрессия 0    0.9235\n",
      "1    0.0765\n",
      "dtype: float64\n"
     ]
    }
   ],
   "source": [
    "all_models_share(features_train, target_train, features_valid, target_valid)"
   ]
  },
  {
   "cell_type": "markdown",
   "metadata": {},
   "source": [
    "Логистичесая регрессия показывала самую высокую точность, далее случайный лес и в конце дерево решений.\n",
    "С учетом дисбаланса результата неудивительно что модели с большой вероятностью будут выдавать ответ 0, построим матрицы ошибок для моделей"
   ]
  },
  {
   "cell_type": "markdown",
   "metadata": {},
   "source": [
    "Случайный лес"
   ]
  },
  {
   "cell_type": "code",
   "execution_count": 29,
   "metadata": {},
   "outputs": [
    {
     "data": {
      "text/plain": [
       "array([[1514,   63],\n",
       "       [ 245,  178]])"
      ]
     },
     "execution_count": 29,
     "metadata": {},
     "output_type": "execute_result"
    }
   ],
   "source": [
    "model_rfc = RandomForestClassifier(random_state=12345, n_estimators = 100)\n",
    "model_rfc.fit(features_train, target_train)\n",
    "rfc_prediction = model_rfc.predict(features_valid)\n",
    "confusion_matrix(target_valid, rfc_prediction)"
   ]
  },
  {
   "cell_type": "code",
   "execution_count": 30,
   "metadata": {},
   "outputs": [],
   "source": [
    "# функция для изучения трех параметров\n",
    "def all_models(target_valid, prediction):\n",
    "    print(\"Полнота\" , recall_score(target_valid, prediction,zero_division=1))\n",
    "    print(\"Точность\", precision_score(target_valid, prediction,zero_division=1))\n",
    "    print(\"F1-мера\", f1_score(target_valid, prediction,zero_division=1))"
   ]
  },
  {
   "cell_type": "code",
   "execution_count": 31,
   "metadata": {},
   "outputs": [
    {
     "name": "stdout",
     "output_type": "stream",
     "text": [
      "Полнота 0.42080378250591016\n",
      "Точность 0.7385892116182573\n",
      "F1-мера 0.536144578313253\n"
     ]
    }
   ],
   "source": [
    "all_models(target_valid, rfc_prediction)"
   ]
  },
  {
   "cell_type": "code",
   "execution_count": 32,
   "metadata": {},
   "outputs": [
    {
     "data": {
      "text/plain": [
       "0.8513141779510727"
      ]
     },
     "execution_count": 32,
     "metadata": {},
     "output_type": "execute_result"
    }
   ],
   "source": [
    "probabilities_tree=model_rfc.predict_proba(features_valid)\n",
    "probabilities_one_valid_tree=probabilities_tree[:,1]\n",
    "fpr_tree,tpr_tree,thresholds=roc_curve(target_valid,probabilities_one_valid_tree)\n",
    "auc_roc_tree=roc_auc_score(target_valid,probabilities_one_valid_tree)\n",
    "auc_roc_tree"
   ]
  },
  {
   "cell_type": "markdown",
   "metadata": {},
   "source": [
    "Случайный лес примерно равную пропорцию позитивных и негативных предсказаний, выдает заметно больше качественных предсказаний, но также сильно склоняется к ложно позитивным предсказаниям (FP). Точность и качество также низкое"
   ]
  },
  {
   "cell_type": "code",
   "execution_count": 33,
   "metadata": {},
   "outputs": [
    {
     "name": "stdout",
     "output_type": "stream",
     "text": [
      "Полнота 0.28841607565011823\n",
      "Точность 0.8026315789473685\n",
      "F1-мера 0.42434782608695654\n"
     ]
    }
   ],
   "source": [
    "model_rfc = RandomForestClassifier(random_state=12345, n_estimators=100, max_depth=5)\n",
    "model_rfc.fit(features_train, target_train)\n",
    "rfc_prediction = model_rfc.predict(features_valid)\n",
    "all_models(target_valid, rfc_prediction)"
   ]
  },
  {
   "cell_type": "code",
   "execution_count": 34,
   "metadata": {},
   "outputs": [
    {
     "data": {
      "text/plain": [
       "0.8466212741971995"
      ]
     },
     "execution_count": 34,
     "metadata": {},
     "output_type": "execute_result"
    }
   ],
   "source": [
    "probabilities_tree=model_rfc.predict_proba(features_valid)\n",
    "probabilities_one_valid_tree=probabilities_tree[:,1]\n",
    "fpr_tree,tpr_tree,thresholds=roc_curve(target_valid,probabilities_one_valid_tree)\n",
    "auc_roc_tree=roc_auc_score(target_valid,probabilities_one_valid_tree)\n",
    "auc_roc_tree"
   ]
  },
  {
   "cell_type": "code",
   "execution_count": 35,
   "metadata": {},
   "outputs": [
    {
     "name": "stdout",
     "output_type": "stream",
     "text": [
      "Полнота 0.41843971631205673\n",
      "Точность 0.75\n",
      "F1-мера 0.5371775417298937\n"
     ]
    }
   ],
   "source": [
    "model_rfc = RandomForestClassifier(random_state=12345, n_estimators=150, max_depth=14)\n",
    "model_rfc.fit(features_train, target_train)\n",
    "rfc_prediction = model_rfc.predict(features_valid)\n",
    "confusion_matrix(target_valid, rfc_prediction)\n",
    "all_models(target_valid, rfc_prediction)"
   ]
  },
  {
   "cell_type": "code",
   "execution_count": 36,
   "metadata": {},
   "outputs": [
    {
     "data": {
      "text/plain": [
       "0.8553722167505409"
      ]
     },
     "execution_count": 36,
     "metadata": {},
     "output_type": "execute_result"
    }
   ],
   "source": [
    "probabilities_tree=model_rfc.predict_proba(features_valid)\n",
    "probabilities_one_valid_tree=probabilities_tree[:,1]\n",
    "fpr_tree,tpr_tree,thresholds=roc_curve(target_valid,probabilities_one_valid_tree)\n",
    "auc_roc_tree=roc_auc_score(target_valid,probabilities_one_valid_tree)\n",
    "auc_roc_tree"
   ]
  },
  {
   "cell_type": "code",
   "execution_count": 37,
   "metadata": {},
   "outputs": [
    {
     "name": "stdout",
     "output_type": "stream",
     "text": [
      "Лучшее кол-во деревьев:  60\n",
      "Лучшая глубина:  14\n",
      "Лучший F1:  0.5424242424242424\n"
     ]
    }
   ],
   "source": [
    "n_estimators_values = range(50, 150, 10)\n",
    "max_depth_values = range(2, 15)\n",
    "best_f1_score = 0\n",
    "best_n_estimators = 0\n",
    "best_max_depth = 0\n",
    "for n_estimators in n_estimators_values:\n",
    "    for max_depth in max_depth_values:\n",
    "        model_rfc = RandomForestClassifier(random_state=12345, n_estimators=n_estimators, max_depth=max_depth)\n",
    "        model_rfc.fit(features_train, target_train)\n",
    "        rfc_prediction = model_rfc.predict(features_valid)\n",
    "        f1 = f1_score(target_valid, rfc_prediction)\n",
    "        if f1 > best_f1_score:\n",
    "            best_f1_score = f1\n",
    "            best_n_estimators = n_estimators\n",
    "            best_max_depth = max_depth\n",
    "print(\"Лучшее кол-во деревьев: \", best_n_estimators)\n",
    "print(\"Лучшая глубина: \", best_max_depth)\n",
    "print(\"Лучший F1: \", best_f1_score)    "
   ]
  },
  {
   "cell_type": "markdown",
   "metadata": {},
   "source": [
    "Дерево решений"
   ]
  },
  {
   "cell_type": "code",
   "execution_count": 38,
   "metadata": {},
   "outputs": [
    {
     "data": {
      "text/plain": [
       "array([[1371,  206],\n",
       "       [ 225,  198]])"
      ]
     },
     "execution_count": 38,
     "metadata": {},
     "output_type": "execute_result"
    }
   ],
   "source": [
    "model_dtc = DecisionTreeClassifier(random_state=12345)\n",
    "model_dtc.fit(features_train, target_train)\n",
    "dtc_prediction = model_dtc.predict(features_valid)\n",
    "confusion_matrix(target_valid, dtc_prediction)"
   ]
  },
  {
   "cell_type": "code",
   "execution_count": 39,
   "metadata": {},
   "outputs": [
    {
     "name": "stdout",
     "output_type": "stream",
     "text": [
      "Полнота 0.46808510638297873\n",
      "Точность 0.4900990099009901\n",
      "F1-мера 0.4788391777509069\n"
     ]
    }
   ],
   "source": [
    "all_models(target_valid, dtc_prediction)"
   ]
  },
  {
   "cell_type": "code",
   "execution_count": 40,
   "metadata": {},
   "outputs": [
    {
     "data": {
      "text/plain": [
       "0.6687286660640321"
      ]
     },
     "execution_count": 40,
     "metadata": {},
     "output_type": "execute_result"
    }
   ],
   "source": [
    "probabilities_forest=model_dtc.predict_proba(features_valid)\n",
    "probabilities_one_valid_forest=probabilities_forest[:,1]\n",
    "fpr_forest,tpr_forest,thresholds=roc_curve(target_valid,probabilities_one_valid_forest)\n",
    "auc_roc_forest=roc_auc_score(target_valid,probabilities_one_valid_forest)\n",
    "auc_roc_forest"
   ]
  },
  {
   "cell_type": "markdown",
   "metadata": {},
   "source": [
    "Матрица показала, что дерево решений склонно выдавать позитивные предсказания, очень высокое количество ложных позитивных предсказания\n",
    "Видим низкое значение F1, следовательно низкое качество модели, проблема в точности."
   ]
  },
  {
   "cell_type": "code",
   "execution_count": 41,
   "metadata": {},
   "outputs": [
    {
     "name": "stdout",
     "output_type": "stream",
     "text": [
      "Полнота 0.2458628841607565\n",
      "Точность 0.832\n",
      "F1-мера 0.3795620437956204\n"
     ]
    }
   ],
   "source": [
    "model_dtc = DecisionTreeClassifier(random_state=12345, max_depth=3)\n",
    "model_dtc.fit(features_train, target_train)\n",
    "dtc_prediction = model_dtc.predict(features_valid)\n",
    "confusion_matrix(target_valid, dtc_prediction)\n",
    "all_models(target_valid, dtc_prediction)"
   ]
  },
  {
   "cell_type": "code",
   "execution_count": 42,
   "metadata": {},
   "outputs": [
    {
     "data": {
      "text/plain": [
       "0.7918669826750078"
      ]
     },
     "execution_count": 42,
     "metadata": {},
     "output_type": "execute_result"
    }
   ],
   "source": [
    "probabilities_forest=model_dtc.predict_proba(features_valid)\n",
    "probabilities_one_valid_forest=probabilities_forest[:,1]\n",
    "fpr_forest,tpr_forest,thresholds=roc_curve(target_valid,probabilities_one_valid_forest)\n",
    "auc_roc_forest=roc_auc_score(target_valid,probabilities_one_valid_forest)\n",
    "auc_roc_forest"
   ]
  },
  {
   "cell_type": "markdown",
   "metadata": {},
   "source": [
    "Логистическая регрессия"
   ]
  },
  {
   "cell_type": "code",
   "execution_count": 43,
   "metadata": {},
   "outputs": [
    {
     "data": {
      "text/plain": [
       "array([[1503,   74],\n",
       "       [ 344,   79]])"
      ]
     },
     "execution_count": 43,
     "metadata": {},
     "output_type": "execute_result"
    }
   ],
   "source": [
    "model_lgr = LogisticRegression(solver = 'liblinear')\n",
    "model_lgr.fit(features_train, target_train)\n",
    "lgr_prediction = model_lgr.predict(features_valid)\n",
    "confusion_matrix(target_valid, lgr_prediction)"
   ]
  },
  {
   "cell_type": "code",
   "execution_count": 44,
   "metadata": {},
   "outputs": [
    {
     "name": "stdout",
     "output_type": "stream",
     "text": [
      "Полнота 0.1867612293144208\n",
      "Точность 0.5163398692810458\n",
      "F1-мера 0.2743055555555555\n"
     ]
    }
   ],
   "source": [
    "all_models(target_valid, lgr_prediction)"
   ]
  },
  {
   "cell_type": "code",
   "execution_count": 45,
   "metadata": {},
   "outputs": [
    {
     "name": "stdout",
     "output_type": "stream",
     "text": [
      "F1: 0.2743055555555555\n"
     ]
    }
   ],
   "source": [
    "model_logistic=LogisticRegression().fit(features_train,target_train)\n",
    "prediction=model_logistic.predict(features_valid)\n",
    "print('F1:',f1_score(target_valid,prediction))\n",
    "# почему то выдают нулевые значения, я попробывал исправить на 1 в 38 строке"
   ]
  },
  {
   "cell_type": "code",
   "execution_count": 46,
   "metadata": {},
   "outputs": [
    {
     "data": {
      "text/plain": [
       "0.7387354569453627"
      ]
     },
     "execution_count": 46,
     "metadata": {},
     "output_type": "execute_result"
    }
   ],
   "source": [
    "probabilities_lgr=model_logistic.predict_proba(features_valid)\n",
    "probabilities_one_valid_lgr=probabilities_lgr[:,1]\n",
    "fpr_log,tpr_log,thresholds=roc_curve(target_valid,probabilities_one_valid_lgr)\n",
    "auc_roc_lgr=roc_auc_score(target_valid,probabilities_one_valid_lgr)\n",
    "auc_roc_lgr"
   ]
  },
  {
   "cell_type": "code",
   "execution_count": 47,
   "metadata": {
    "scrolled": false
   },
   "outputs": [
    {
     "data": {
      "text/plain": [
       "<Figure size 432x288 with 0 Axes>"
      ]
     },
     "metadata": {},
     "output_type": "display_data"
    },
    {
     "data": {
      "image/png": "[encoded data removed]",
      "text/plain": [
       "<Figure size 1080x648 with 1 Axes>"
      ]
     },
     "metadata": {
      "needs_background": "light"
     },
     "output_type": "display_data"
    }
   ],
   "source": [
    "plt.figure()\n",
    "\n",
    "plt.figure(figsize=(15,9))\n",
    "plt.plot([0, 1], [0, 1], linestyle='--')\n",
    "plt.xlim([0.0, 1.0])\n",
    "plt.ylim([0.0, 1.0])\n",
    "plt.plot(fpr_log,tpr_log)\n",
    "plt.plot(fpr_tree,tpr_tree)\n",
    "plt.plot(fpr_forest,tpr_forest)\n",
    "plt.xlabel('False Positive Rate')\n",
    "plt.ylabel('True Positive Rate')\n",
    "plt.title('ROC-кривая')\n",
    "plt.legend(('Случайная модель','Случайный лес','Логистическая регрессия','Дерево решения'),\n",
    "           loc= 'upper left') \n",
    "plt.show()"
   ]
  },
  {
   "cell_type": "markdown",
   "metadata": {},
   "source": [
    "Значение площади под кривой. На сколько наша модель отличается от случайной"
   ]
  },
  {
   "cell_type": "markdown",
   "metadata": {},
   "source": [
    "## Борьба с дисбалансом"
   ]
  },
  {
   "cell_type": "code",
   "execution_count": 48,
   "metadata": {},
   "outputs": [],
   "source": [
    "#увеличиваю число наблюдений положительного класса:\n",
    "def upsample(features, target, repeat):\n",
    "    features_zeros = features[target == 0]\n",
    "    features_ones = features[target == 1]\n",
    "    target_zeros = target[target == 0]\n",
    "    target_ones = target[target == 1]\n",
    "    \n",
    "    features_upsampled = pd.concat([features_zeros] + [features_ones] * repeat)\n",
    "    target_upsampled = pd.concat([target_zeros] + [target_ones] * repeat)\n",
    "    \n",
    "    features_upsampled, target_upsampled = shuffle(features_upsampled, target_upsampled, random_state=12345)\n",
    "    \n",
    "    return features_upsampled, target_upsampled\n",
    "\n",
    "\n",
    "features_upsampled, target_upsampled = upsample(features_train, target_train, 4)"
   ]
  },
  {
   "cell_type": "code",
   "execution_count": 49,
   "metadata": {},
   "outputs": [
    {
     "name": "stdout",
     "output_type": "stream",
     "text": [
      "Для дерева решений на увеличенной выборке F1 = 0.4957264957264958\n",
      "AUC-ROC = 0.6787605817071947\n"
     ]
    }
   ],
   "source": [
    "model = DecisionTreeClassifier(random_state=12345)\n",
    "model.fit(features_upsampled, target_upsampled) \n",
    "predicted_valid = model.predict(features_valid)\n",
    "\n",
    "print('Для дерева решений на увеличенной выборке F1 =', f1_score(target_valid, predicted_valid))\n",
    "print('AUC-ROC =', roc_auc_score(target_valid, model.predict_proba(features_valid)[:,1]))"
   ]
  },
  {
   "cell_type": "code",
   "execution_count": 50,
   "metadata": {},
   "outputs": [
    {
     "name": "stdout",
     "output_type": "stream",
     "text": [
      "Для дерева решений на увеличенной выборке F1 = 0.5129682997118156\n",
      "AUC-ROC = 0.7914352445241962\n"
     ]
    }
   ],
   "source": [
    "model = DecisionTreeClassifier(random_state=12345,max_depth=3)\n",
    "model.fit(features_upsampled, target_upsampled) \n",
    "predicted_valid = model.predict(features_valid)\n",
    "\n",
    "print('Для дерева решений на увеличенной выборке F1 =', f1_score(target_valid, predicted_valid))\n",
    "print('AUC-ROC =', roc_auc_score(target_valid, model.predict_proba(features_valid)[:,1]))"
   ]
  },
  {
   "cell_type": "code",
   "execution_count": 51,
   "metadata": {},
   "outputs": [
    {
     "name": "stdout",
     "output_type": "stream",
     "text": [
      "Для случайного леса на увеличенной выборке F1 = 0.5816733067729083\n",
      "AUC-ROC = 0.8495452508053866\n"
     ]
    }
   ],
   "source": [
    "model = RandomForestClassifier(random_state=12345)\n",
    "model.fit(features_upsampled, target_upsampled) \n",
    "predicted_valid = model.predict(features_valid)\n",
    "\n",
    "print('Для случайного леса на увеличенной выборке F1 =', f1_score(target_valid, predicted_valid))\n",
    "print('AUC-ROC =', roc_auc_score(target_valid, model.predict_proba(features_valid)[:,1]))"
   ]
  },
  {
   "cell_type": "code",
   "execution_count": 52,
   "metadata": {},
   "outputs": [
    {
     "name": "stdout",
     "output_type": "stream",
     "text": [
      "Для случайного леса на увеличенной выборке F1 = 0.5903846153846154\n",
      "AUC-ROC = 0.8446941929719627\n"
     ]
    }
   ],
   "source": [
    "model = RandomForestClassifier(random_state=12345, n_estimators=100, max_depth=5)\n",
    "model.fit(features_upsampled, target_upsampled) \n",
    "predicted_valid = model.predict(features_valid)\n",
    "\n",
    "print('Для случайного леса на увеличенной выборке F1 =', f1_score(target_valid, predicted_valid))\n",
    "print('AUC-ROC =', roc_auc_score(target_valid, model.predict_proba(features_valid)[:,1]))"
   ]
  },
  {
   "cell_type": "code",
   "execution_count": 53,
   "metadata": {},
   "outputs": [
    {
     "name": "stdout",
     "output_type": "stream",
     "text": [
      "Для случайного леса на увеличенной выборке F1 = 0.5963190184049081\n",
      "AUC-ROC = 0.8547643354305613\n"
     ]
    }
   ],
   "source": [
    "model = RandomForestClassifier(random_state=12345, n_estimators=150, max_depth=14)\n",
    "model.fit(features_upsampled, target_upsampled) \n",
    "predicted_valid = model.predict(features_valid)\n",
    "\n",
    "print('Для случайного леса на увеличенной выборке F1 =', f1_score(target_valid, predicted_valid))\n",
    "print('AUC-ROC =', roc_auc_score(target_valid, model.predict_proba(features_valid)[:,1]))"
   ]
  },
  {
   "cell_type": "code",
   "execution_count": 54,
   "metadata": {},
   "outputs": [
    {
     "name": "stdout",
     "output_type": "stream",
     "text": [
      "Лучший F1: 0.615539858728557\n",
      "Лучший AUC-ROC: 0.8562671739589938\n",
      "Лучшее кол-во деревьев: 120\n",
      "Лучшая глубина: 8\n"
     ]
    }
   ],
   "source": [
    "n_estimators_values = range(50, 150, 10)\n",
    "max_depth_values = range(2, 15)\n",
    "best_f1_score = 0\n",
    "best_auc_roc_score = 0\n",
    "best_n_estimators = 0\n",
    "best_max_depth = 0\n",
    "for n_estimators in n_estimators_values:\n",
    "    for max_depth in max_depth_values:\n",
    "        model_rfc = RandomForestClassifier(random_state=12345, n_estimators=n_estimators, max_depth=max_depth)\n",
    "        model_rfc.fit(features_upsampled, target_upsampled)\n",
    "        rfc_prediction = model_rfc.predict(features_valid)\n",
    "        f1 = f1_score(target_valid, rfc_prediction)\n",
    "        auc_roc = roc_auc_score(target_valid, model_rfc.predict_proba(features_valid)[:,1])\n",
    "        if f1 > best_f1_score:\n",
    "            best_f1_score = f1\n",
    "            best_auc_roc_score = auc_roc\n",
    "            best_n_estimators = n_estimators\n",
    "            best_max_depth = max_depth\n",
    "print('Лучший F1:', best_f1_score)\n",
    "print('Лучший AUC-ROC:', best_auc_roc_score)\n",
    "print('Лучшее кол-во деревьев:', best_n_estimators)\n",
    "print('Лучшая глубина:', best_max_depth)"
   ]
  },
  {
   "cell_type": "markdown",
   "metadata": {},
   "source": [
    "Для LogisticRegression не делал , так как нулевые значения в предыдущем разделе"
   ]
  },
  {
   "cell_type": "code",
   "execution_count": 55,
   "metadata": {},
   "outputs": [],
   "source": [
    "#уменьшаю число наблюдений положительного класса:\n",
    "def downsample(features, target, fraction):\n",
    "    features_zeros = features[target == 0]\n",
    "    features_ones = features[target == 1]\n",
    "    target_zeros = target[target == 0]\n",
    "    target_ones = target[target == 1]\n",
    "\n",
    "    features_downsampled = pd.concat([features_zeros.sample(frac=fraction, random_state=12345)] + [features_ones])\n",
    "    target_downsampled = pd.concat([target_zeros.sample(frac=fraction, random_state=12345)] + [target_ones])\n",
    "    \n",
    "    features_downsampled, target_downsampled = shuffle(features_downsampled, target_downsampled, random_state=12345)\n",
    "    \n",
    "    return features_downsampled, target_downsampled\n",
    "\n",
    "features_downsampled, target_downsampled = downsample(features_train, target_train, 0.25)"
   ]
  },
  {
   "cell_type": "code",
   "execution_count": 56,
   "metadata": {},
   "outputs": [
    {
     "name": "stdout",
     "output_type": "stream",
     "text": [
      "Для дерева решений на увеличенной выборке F1 = 0.49128919860627185\n",
      "AUC-ROC = 0.6928767702388502\n"
     ]
    }
   ],
   "source": [
    "model = DecisionTreeClassifier(random_state=12345)\n",
    "model.fit(features_downsampled, target_downsampled) \n",
    "predicted_valid = model.predict(features_valid)\n",
    "\n",
    "print('Для дерева решений на увеличенной выборке F1 =', f1_score(target_valid, predicted_valid))\n",
    "print('AUC-ROC =', roc_auc_score(target_valid, model.predict_proba(features_valid)[:,1]))"
   ]
  },
  {
   "cell_type": "code",
   "execution_count": 57,
   "metadata": {},
   "outputs": [
    {
     "name": "stdout",
     "output_type": "stream",
     "text": [
      "Для дерева решений на увеличенной выборке F1 = 0.5261158594491927\n",
      "AUC-ROC = 0.7961139069154558\n"
     ]
    }
   ],
   "source": [
    "model = DecisionTreeClassifier(random_state=12345,max_depth=3)\n",
    "model.fit(features_downsampled, target_downsampled) \n",
    "predicted_valid = model.predict(features_valid)\n",
    "\n",
    "print('Для дерева решений на увеличенной выборке F1 =', f1_score(target_valid, predicted_valid))\n",
    "print('AUC-ROC =', roc_auc_score(target_valid, model.predict_proba(features_valid)[:,1]))"
   ]
  },
  {
   "cell_type": "code",
   "execution_count": 58,
   "metadata": {},
   "outputs": [
    {
     "name": "stdout",
     "output_type": "stream",
     "text": [
      "Для случайного леса на увеличенной выборке F1 = 0.584870848708487\n",
      "AUC-ROC = 0.8450247424936776\n"
     ]
    }
   ],
   "source": [
    "model = RandomForestClassifier(random_state=12345)\n",
    "model.fit(features_downsampled, target_downsampled) \n",
    "predicted_valid = model.predict(features_valid)\n",
    "\n",
    "print('Для случайного леса на увеличенной выборке F1 =', f1_score(target_valid, predicted_valid))\n",
    "print('AUC-ROC =', roc_auc_score(target_valid, model.predict_proba(features_valid)[:,1]))"
   ]
  },
  {
   "cell_type": "code",
   "execution_count": 59,
   "metadata": {},
   "outputs": [
    {
     "name": "stdout",
     "output_type": "stream",
     "text": [
      "Для случайного леса на увеличенной выборке F1 = 0.5818847209515097\n",
      "AUC-ROC = 0.8395088378898198\n"
     ]
    }
   ],
   "source": [
    "model = RandomForestClassifier(random_state=12345, n_estimators=100, max_depth=5)\n",
    "model.fit(features_downsampled, target_downsampled) \n",
    "predicted_valid = model.predict(features_valid)\n",
    "\n",
    "print('Для случайного леса на увеличенной выборке F1 =', f1_score(target_valid, predicted_valid))\n",
    "print('AUC-ROC =', roc_auc_score(target_valid, model.predict_proba(features_valid)[:,1]))"
   ]
  },
  {
   "cell_type": "code",
   "execution_count": 60,
   "metadata": {},
   "outputs": [
    {
     "name": "stdout",
     "output_type": "stream",
     "text": [
      "Для случайного леса на увеличенной выборке F1 = 0.5841035120147874\n",
      "AUC-ROC = 0.8490153222070814\n"
     ]
    }
   ],
   "source": [
    "model = RandomForestClassifier(random_state=12345, n_estimators=150, max_depth=14)\n",
    "model.fit(features_downsampled, target_downsampled) \n",
    "predicted_valid = model.predict(features_valid)\n",
    "\n",
    "print('Для случайного леса на увеличенной выборке F1 =', f1_score(target_valid, predicted_valid))\n",
    "print('AUC-ROC =', roc_auc_score(target_valid, model.predict_proba(features_valid)[:,1]))"
   ]
  },
  {
   "cell_type": "code",
   "execution_count": 61,
   "metadata": {},
   "outputs": [
    {
     "name": "stdout",
     "output_type": "stream",
     "text": [
      "Лучший F1: 0.5942432683379758\n",
      "Лучший AUC-ROC: 0.8493848480896335\n",
      "Лучшее кол-во деревьев: 110\n",
      "Лучшая глубина: 9\n"
     ]
    }
   ],
   "source": [
    "n_estimators_values = range(50, 150, 10)\n",
    "max_depth_values = range(2, 15)\n",
    "best_f1_score = 0\n",
    "best_auc_roc_score = 0\n",
    "best_n_estimators = 0\n",
    "best_max_depth = 0\n",
    "for n_estimators in n_estimators_values:\n",
    "    for max_depth in max_depth_values:\n",
    "        model_rfc = RandomForestClassifier(random_state=12345, n_estimators=n_estimators, max_depth=max_depth)\n",
    "        model_rfc.fit(features_downsampled, target_downsampled)\n",
    "        rfc_prediction = model_rfc.predict(features_valid)\n",
    "        f1 = f1_score(target_valid, rfc_prediction)\n",
    "        auc_roc = roc_auc_score(target_valid, model_rfc.predict_proba(features_valid)[:,1])\n",
    "        if f1 > best_f1_score:\n",
    "            best_f1_score = f1\n",
    "            best_auc_roc_score = auc_roc\n",
    "            best_n_estimators = n_estimators\n",
    "            best_max_depth = max_depth\n",
    "print('Лучший F1:', best_f1_score)\n",
    "print('Лучший AUC-ROC:', best_auc_roc_score)\n",
    "print('Лучшее кол-во деревьев:', best_n_estimators)\n",
    "print('Лучшая глубина:', best_max_depth)"
   ]
  },
  {
   "cell_type": "markdown",
   "metadata": {},
   "source": [
    "Лучшая модель по показателям F1 и AUC-ROC - случайный лес"
   ]
  },
  {
   "cell_type": "markdown",
   "metadata": {},
   "source": [
    "**Проверка баланса классов показала, что есть большой дисбаланс классов, примерно в 4 раза**\n",
    "\n",
    "**Проверили работу моделей**\n",
    "\n",
    "**Сбалансирровали данные и проверили работу моделей**\n",
    "\n",
    "**На сбалансированных данных модель показывала результат лучше**"
   ]
  },
  {
   "cell_type": "markdown",
   "metadata": {},
   "source": [
    "## Тестирование модели"
   ]
  },
  {
   "cell_type": "code",
   "execution_count": 62,
   "metadata": {},
   "outputs": [],
   "source": [
    "features_train_valid = pd.concat([features_train] + [features_valid])\n",
    "target_train_valid = pd.concat([target_train] + [target_valid]) "
   ]
  },
  {
   "cell_type": "code",
   "execution_count": 63,
   "metadata": {},
   "outputs": [],
   "source": [
    "features_upsampled, target_upsampled = upsample(features_train_valid, target_train_valid, 4)"
   ]
  },
  {
   "cell_type": "code",
   "execution_count": 64,
   "metadata": {},
   "outputs": [
    {
     "name": "stdout",
     "output_type": "stream",
     "text": [
      "F1 = 0.618905472636816\n",
      "AUC-ROC = 0.859362807662761\n"
     ]
    }
   ],
   "source": [
    "model_rfc_test = RandomForestClassifier(random_state=12345, n_estimators=120, max_depth=8)\n",
    "model_rfc_test.fit(features_upsampled, target_upsampled)\n",
    "predictions_rfc_test = model_rfc_test.predict(features_test)\n",
    "\n",
    "print('F1 =', f1_score(target_test, predictions_rfc_test))\n",
    "print('AUC-ROC =', roc_auc_score(target_test, model_rfc_test.predict_proba(features_test)[:,1]))"
   ]
  },
  {
   "cell_type": "markdown",
   "metadata": {},
   "source": [
    "**Вывод** \n",
    "\n",
    "В первоначальных данных наблюдался значительный дисбаланс (80% ответов целевого признака были негативными и только 20% позитивными), из-за чего обученная на этих данных модель не проходила проверку на адекватность. Все модели не первоначальных данных характеризовались высокой степенью ошибок и низким качеством взвешенной величины (F1) — модели показывали низкие результаты точности и полноты.\n",
    "\n",
    "Устранили дисбаланс классов в обучающей выборки, увеличили количество значений позитивного класса.\n",
    "\n",
    "Посмотрели несколько вариантов работы с дисбалансом.\n",
    "\n",
    "На новых данных все модели показали результат выше, чем на несбалансированной выборке.Лучшие показатели были у модели случайного леса : (ЛЛучшее кол-во деревьев:  120     Лучшая глубина:  8     Лучший F1:  0.615539858728557)\n",
    "\n",
    "Тестирование модели показало, что она рабочая. Мы смошли достичь F1 метрики не менее 0,59, а именно наша модель показывает 0.6189"
   ]
  },
  {
   "cell_type": "markdown",
   "metadata": {},
   "source": [
    "## Чек-лист готовности проекта"
   ]
  },
  {
   "cell_type": "markdown",
   "metadata": {},
   "source": [
    "Поставьте 'x' в выполненных пунктах. Далее нажмите Shift+Enter."
   ]
  },
  {
   "cell_type": "markdown",
   "metadata": {},
   "source": [
    "\n",
    "- [x]  Весь код выполняется без ошибок\n",
    "- [x]  Ячейки с кодом расположены в порядке исполнения\n",
    "- [x]  Выполнен шаг 1: данные подготовлены\n",
    "- [x]  Выполнен шаг 2: задача исследована\n",
    "    - [x]  Исследован баланс классов\n",
    "    - [x]  Изучены модели без учёта дисбаланса\n",
    "    - [x]  Написаны выводы по результатам исследования\n",
    "- [x]  Выполнен шаг 3: учтён дисбаланс\n",
    "    - [x]  Применено несколько способов борьбы с дисбалансом\n",
    "    - [x]  Написаны выводы по результатам исследования\n",
    "- [x]  Выполнен шаг 4: проведено тестирование\n",
    "- [x]  Удалось достичь *F1*-меры не менее 0.59\n",
    "- [x]  Исследована метрика *AUC-ROC*"
   ]
  },
  {
   "cell_type": "code",
   "execution_count": null,
   "metadata": {},
   "outputs": [],
   "source": []
  }
 ],
 "metadata": {
  "ExecuteTimeLog": [
   {
    "duration": 1498,
    "start_time": "2023-06-24T20:39:53.064Z"
   },
   {
    "duration": 167,
    "start_time": "2023-06-24T20:42:34.548Z"
   },
   {
    "duration": 61,
    "start_time": "2023-06-24T20:44:07.771Z"
   },
   {
    "duration": 48,
    "start_time": "2023-06-24T20:44:16.242Z"
   },
   {
    "duration": 13,
    "start_time": "2023-06-24T20:44:23.438Z"
   },
   {
    "duration": 51,
    "start_time": "2023-06-24T20:46:33.779Z"
   },
   {
    "duration": 73,
    "start_time": "2023-06-24T20:52:21.029Z"
   },
   {
    "duration": 21,
    "start_time": "2023-06-24T20:52:44.575Z"
   },
   {
    "duration": 11,
    "start_time": "2023-06-24T20:53:01.130Z"
   },
   {
    "duration": 46,
    "start_time": "2023-06-25T17:42:52.943Z"
   },
   {
    "duration": 2114,
    "start_time": "2023-06-25T17:43:00.576Z"
   },
   {
    "duration": 81,
    "start_time": "2023-06-25T17:43:02.692Z"
   },
   {
    "duration": 18,
    "start_time": "2023-06-25T17:43:02.775Z"
   },
   {
    "duration": 27,
    "start_time": "2023-06-25T17:43:02.794Z"
   },
   {
    "duration": 22,
    "start_time": "2023-06-25T17:43:02.822Z"
   },
   {
    "duration": 24,
    "start_time": "2023-06-25T17:43:10.574Z"
   },
   {
    "duration": 7,
    "start_time": "2023-06-25T17:44:05.458Z"
   },
   {
    "duration": 4,
    "start_time": "2023-06-25T17:45:27.994Z"
   },
   {
    "duration": 4,
    "start_time": "2023-06-25T17:46:22.679Z"
   },
   {
    "duration": 13,
    "start_time": "2023-06-25T17:54:04.201Z"
   },
   {
    "duration": 5,
    "start_time": "2023-06-25T18:06:47.419Z"
   },
   {
    "duration": 3,
    "start_time": "2023-06-25T18:07:19.523Z"
   },
   {
    "duration": 4,
    "start_time": "2023-06-25T18:10:33.245Z"
   },
   {
    "duration": 10,
    "start_time": "2023-06-25T18:12:11.451Z"
   },
   {
    "duration": 11,
    "start_time": "2023-06-25T18:13:21.194Z"
   },
   {
    "duration": 1633,
    "start_time": "2023-06-25T18:31:05.303Z"
   },
   {
    "duration": 150,
    "start_time": "2023-06-25T18:31:11.372Z"
   },
   {
    "duration": 140,
    "start_time": "2023-06-25T18:34:53.196Z"
   },
   {
    "duration": 715,
    "start_time": "2023-06-25T18:38:37.626Z"
   },
   {
    "duration": 830,
    "start_time": "2023-06-25T18:38:48.766Z"
   },
   {
    "duration": 151,
    "start_time": "2023-06-25T18:46:09.159Z"
   },
   {
    "duration": 10,
    "start_time": "2023-06-25T18:52:16.154Z"
   },
   {
    "duration": 15,
    "start_time": "2023-06-25T18:52:29.831Z"
   },
   {
    "duration": 12,
    "start_time": "2023-06-25T18:57:13.071Z"
   },
   {
    "duration": 15,
    "start_time": "2023-06-25T19:13:59.868Z"
   },
   {
    "duration": 12,
    "start_time": "2023-06-25T19:14:31.514Z"
   },
   {
    "duration": 10,
    "start_time": "2023-06-25T19:15:22.484Z"
   },
   {
    "duration": 12,
    "start_time": "2023-06-25T19:28:18.337Z"
   },
   {
    "duration": 41,
    "start_time": "2023-06-25T19:29:43.352Z"
   },
   {
    "duration": 44,
    "start_time": "2023-06-25T19:30:12.706Z"
   },
   {
    "duration": 35,
    "start_time": "2023-06-25T19:30:33.613Z"
   },
   {
    "duration": 24,
    "start_time": "2023-06-25T19:30:39.423Z"
   },
   {
    "duration": 23,
    "start_time": "2023-06-25T19:34:44.105Z"
   },
   {
    "duration": 22,
    "start_time": "2023-06-25T19:35:05.547Z"
   },
   {
    "duration": 1315,
    "start_time": "2023-06-25T19:35:14.431Z"
   },
   {
    "duration": 42,
    "start_time": "2023-06-25T19:35:15.748Z"
   },
   {
    "duration": 23,
    "start_time": "2023-06-25T19:35:15.791Z"
   },
   {
    "duration": 19,
    "start_time": "2023-06-25T19:35:15.815Z"
   },
   {
    "duration": 16,
    "start_time": "2023-06-25T19:35:15.837Z"
   },
   {
    "duration": 11,
    "start_time": "2023-06-25T19:35:15.854Z"
   },
   {
    "duration": 5,
    "start_time": "2023-06-25T19:35:15.866Z"
   },
   {
    "duration": 32,
    "start_time": "2023-06-25T19:35:15.873Z"
   },
   {
    "duration": 5,
    "start_time": "2023-06-25T19:35:15.906Z"
   },
   {
    "duration": 7,
    "start_time": "2023-06-25T19:35:15.912Z"
   },
   {
    "duration": 24,
    "start_time": "2023-06-25T19:35:15.921Z"
   },
   {
    "duration": 204,
    "start_time": "2023-06-25T19:35:15.947Z"
   },
   {
    "duration": 865,
    "start_time": "2023-06-25T19:35:16.153Z"
   },
   {
    "duration": 168,
    "start_time": "2023-06-25T19:35:17.021Z"
   },
   {
    "duration": 14,
    "start_time": "2023-06-25T19:35:17.190Z"
   },
   {
    "duration": 10,
    "start_time": "2023-06-25T19:35:17.205Z"
   },
   {
    "duration": 22,
    "start_time": "2023-06-25T19:35:17.217Z"
   },
   {
    "duration": 108,
    "start_time": "2023-06-25T19:35:17.241Z"
   },
   {
    "duration": 12,
    "start_time": "2023-06-25T19:36:40.733Z"
   },
   {
    "duration": 36,
    "start_time": "2023-06-25T19:37:39.365Z"
   },
   {
    "duration": 2,
    "start_time": "2023-06-25T19:40:48.530Z"
   },
   {
    "duration": 8,
    "start_time": "2023-06-25T19:40:51.494Z"
   },
   {
    "duration": 17,
    "start_time": "2023-06-25T19:40:55.209Z"
   },
   {
    "duration": 10,
    "start_time": "2023-06-25T19:41:27.625Z"
   },
   {
    "duration": 12,
    "start_time": "2023-06-25T19:41:34.947Z"
   },
   {
    "duration": 8,
    "start_time": "2023-06-25T19:41:39.004Z"
   },
   {
    "duration": 10,
    "start_time": "2023-06-25T19:41:48.953Z"
   },
   {
    "duration": 9,
    "start_time": "2023-06-25T19:42:31.217Z"
   },
   {
    "duration": 9,
    "start_time": "2023-06-25T19:42:37.160Z"
   },
   {
    "duration": 11,
    "start_time": "2023-06-25T19:42:48.027Z"
   },
   {
    "duration": 9,
    "start_time": "2023-06-25T19:44:55.241Z"
   },
   {
    "duration": 21,
    "start_time": "2023-06-25T19:45:16.294Z"
   },
   {
    "duration": 17,
    "start_time": "2023-06-25T19:45:26.915Z"
   },
   {
    "duration": 19,
    "start_time": "2023-06-25T19:45:37.009Z"
   },
   {
    "duration": 27,
    "start_time": "2023-06-25T19:45:59.813Z"
   },
   {
    "duration": 1294,
    "start_time": "2023-06-25T19:47:06.083Z"
   },
   {
    "duration": 40,
    "start_time": "2023-06-25T19:47:07.378Z"
   },
   {
    "duration": 22,
    "start_time": "2023-06-25T19:47:07.420Z"
   },
   {
    "duration": 11,
    "start_time": "2023-06-25T19:47:07.444Z"
   },
   {
    "duration": 13,
    "start_time": "2023-06-25T19:47:07.457Z"
   },
   {
    "duration": 11,
    "start_time": "2023-06-25T19:47:07.471Z"
   },
   {
    "duration": 19,
    "start_time": "2023-06-25T19:47:07.483Z"
   },
   {
    "duration": 18,
    "start_time": "2023-06-25T19:47:07.503Z"
   },
   {
    "duration": 4,
    "start_time": "2023-06-25T19:47:07.523Z"
   },
   {
    "duration": 11,
    "start_time": "2023-06-25T19:47:07.530Z"
   },
   {
    "duration": 16,
    "start_time": "2023-06-25T19:47:07.543Z"
   },
   {
    "duration": 159,
    "start_time": "2023-06-25T19:47:07.560Z"
   },
   {
    "duration": 753,
    "start_time": "2023-06-25T19:47:07.720Z"
   },
   {
    "duration": 151,
    "start_time": "2023-06-25T19:47:08.475Z"
   },
   {
    "duration": 8,
    "start_time": "2023-06-25T19:47:08.628Z"
   },
   {
    "duration": 10,
    "start_time": "2023-06-25T19:47:08.637Z"
   },
   {
    "duration": 14,
    "start_time": "2023-06-25T19:47:08.649Z"
   },
   {
    "duration": 18,
    "start_time": "2023-06-25T19:47:08.665Z"
   },
   {
    "duration": 14,
    "start_time": "2023-06-25T19:47:08.685Z"
   },
   {
    "duration": 70,
    "start_time": "2023-06-25T19:47:08.701Z"
   },
   {
    "duration": 30,
    "start_time": "2023-06-25T19:47:08.773Z"
   },
   {
    "duration": 16,
    "start_time": "2023-06-25T19:47:08.804Z"
   },
   {
    "duration": 16,
    "start_time": "2023-06-25T19:47:08.821Z"
   },
   {
    "duration": 20,
    "start_time": "2023-06-25T19:49:17.738Z"
   },
   {
    "duration": 20,
    "start_time": "2023-06-25T19:49:38.225Z"
   },
   {
    "duration": 20,
    "start_time": "2023-06-25T19:55:21.149Z"
   },
   {
    "duration": 29,
    "start_time": "2023-06-25T19:56:25.117Z"
   },
   {
    "duration": 1293,
    "start_time": "2023-06-25T19:56:31.466Z"
   },
   {
    "duration": 50,
    "start_time": "2023-06-25T19:56:32.761Z"
   },
   {
    "duration": 24,
    "start_time": "2023-06-25T19:56:32.813Z"
   },
   {
    "duration": 10,
    "start_time": "2023-06-25T19:56:32.839Z"
   },
   {
    "duration": 36,
    "start_time": "2023-06-25T19:56:32.851Z"
   },
   {
    "duration": 32,
    "start_time": "2023-06-25T19:56:32.889Z"
   },
   {
    "duration": 9,
    "start_time": "2023-06-25T19:56:32.922Z"
   },
   {
    "duration": 15,
    "start_time": "2023-06-25T19:56:32.932Z"
   },
   {
    "duration": 13,
    "start_time": "2023-06-25T19:56:32.949Z"
   },
   {
    "duration": 9,
    "start_time": "2023-06-25T19:56:32.964Z"
   },
   {
    "duration": 18,
    "start_time": "2023-06-25T19:56:32.974Z"
   },
   {
    "duration": 232,
    "start_time": "2023-06-25T19:56:32.993Z"
   },
   {
    "duration": 811,
    "start_time": "2023-06-25T19:56:33.228Z"
   },
   {
    "duration": 181,
    "start_time": "2023-06-25T19:56:34.040Z"
   },
   {
    "duration": 15,
    "start_time": "2023-06-25T19:56:34.222Z"
   },
   {
    "duration": 15,
    "start_time": "2023-06-25T19:56:34.239Z"
   },
   {
    "duration": 12,
    "start_time": "2023-06-25T19:56:34.255Z"
   },
   {
    "duration": 15,
    "start_time": "2023-06-25T19:56:34.268Z"
   },
   {
    "duration": 7,
    "start_time": "2023-06-25T19:56:34.284Z"
   },
   {
    "duration": 91,
    "start_time": "2023-06-25T19:56:34.292Z"
   },
   {
    "duration": 43,
    "start_time": "2023-06-25T19:56:34.385Z"
   },
   {
    "duration": 16,
    "start_time": "2023-06-25T19:56:34.430Z"
   },
   {
    "duration": 22,
    "start_time": "2023-06-25T19:56:34.447Z"
   },
   {
    "duration": 9,
    "start_time": "2023-06-25T19:57:19.288Z"
   },
   {
    "duration": 24,
    "start_time": "2023-06-25T19:57:22.393Z"
   },
   {
    "duration": 20,
    "start_time": "2023-06-25T19:57:26.597Z"
   },
   {
    "duration": 16,
    "start_time": "2023-06-25T19:57:40.833Z"
   },
   {
    "duration": 169,
    "start_time": "2023-06-25T20:12:54.832Z"
   },
   {
    "duration": 229,
    "start_time": "2023-06-25T20:14:11.899Z"
   },
   {
    "duration": 204,
    "start_time": "2023-06-25T20:15:33.827Z"
   },
   {
    "duration": 205,
    "start_time": "2023-06-25T20:17:02.005Z"
   },
   {
    "duration": 8,
    "start_time": "2023-06-25T20:18:21.519Z"
   },
   {
    "duration": 5,
    "start_time": "2023-06-25T20:19:00.833Z"
   },
   {
    "duration": 173,
    "start_time": "2023-06-25T20:19:38.202Z"
   },
   {
    "duration": 5,
    "start_time": "2023-06-25T20:20:29.157Z"
   },
   {
    "duration": 174,
    "start_time": "2023-06-25T20:20:32.755Z"
   },
   {
    "duration": 5,
    "start_time": "2023-06-25T20:25:15.255Z"
   },
   {
    "duration": 168,
    "start_time": "2023-06-25T20:25:15.747Z"
   },
   {
    "duration": 4,
    "start_time": "2023-06-25T20:26:19.173Z"
   },
   {
    "duration": 175,
    "start_time": "2023-06-25T20:26:19.761Z"
   },
   {
    "duration": 568,
    "start_time": "2023-06-25T20:31:26.092Z"
   },
   {
    "duration": 4,
    "start_time": "2023-06-25T20:33:39.967Z"
   },
   {
    "duration": 168,
    "start_time": "2023-06-25T20:33:42.870Z"
   },
   {
    "duration": 6,
    "start_time": "2023-06-25T20:34:24.414Z"
   },
   {
    "duration": 9,
    "start_time": "2023-06-25T20:42:23.410Z"
   },
   {
    "duration": 5,
    "start_time": "2023-06-25T20:42:53.281Z"
   },
   {
    "duration": 4,
    "start_time": "2023-06-25T20:43:18.795Z"
   },
   {
    "duration": 4,
    "start_time": "2023-06-25T20:43:20.758Z"
   },
   {
    "duration": 8,
    "start_time": "2023-06-25T20:45:13.279Z"
   },
   {
    "duration": 9,
    "start_time": "2023-06-25T20:46:51.838Z"
   },
   {
    "duration": 8,
    "start_time": "2023-06-25T20:47:17.709Z"
   },
   {
    "duration": 4,
    "start_time": "2023-06-25T20:47:18.537Z"
   },
   {
    "duration": 4,
    "start_time": "2023-06-25T20:47:19.224Z"
   },
   {
    "duration": 8,
    "start_time": "2023-06-25T20:47:31.252Z"
   },
   {
    "duration": 1262,
    "start_time": "2023-06-25T20:47:42.637Z"
   },
   {
    "duration": 41,
    "start_time": "2023-06-25T20:47:43.900Z"
   },
   {
    "duration": 20,
    "start_time": "2023-06-25T20:47:43.942Z"
   },
   {
    "duration": 11,
    "start_time": "2023-06-25T20:47:43.964Z"
   },
   {
    "duration": 12,
    "start_time": "2023-06-25T20:47:43.976Z"
   },
   {
    "duration": 10,
    "start_time": "2023-06-25T20:47:43.990Z"
   },
   {
    "duration": 5,
    "start_time": "2023-06-25T20:47:44.001Z"
   },
   {
    "duration": 14,
    "start_time": "2023-06-25T20:47:44.007Z"
   },
   {
    "duration": 6,
    "start_time": "2023-06-25T20:47:44.023Z"
   },
   {
    "duration": 8,
    "start_time": "2023-06-25T20:47:44.031Z"
   },
   {
    "duration": 15,
    "start_time": "2023-06-25T20:47:44.040Z"
   },
   {
    "duration": 150,
    "start_time": "2023-06-25T20:47:44.057Z"
   },
   {
    "duration": 739,
    "start_time": "2023-06-25T20:47:44.209Z"
   },
   {
    "duration": 151,
    "start_time": "2023-06-25T20:47:44.951Z"
   },
   {
    "duration": 7,
    "start_time": "2023-06-25T20:47:45.104Z"
   },
   {
    "duration": 13,
    "start_time": "2023-06-25T20:47:45.113Z"
   },
   {
    "duration": 32,
    "start_time": "2023-06-25T20:47:45.127Z"
   },
   {
    "duration": 22,
    "start_time": "2023-06-25T20:47:45.160Z"
   },
   {
    "duration": 14,
    "start_time": "2023-06-25T20:47:45.183Z"
   },
   {
    "duration": 68,
    "start_time": "2023-06-25T20:47:45.198Z"
   },
   {
    "duration": 20,
    "start_time": "2023-06-25T20:47:45.267Z"
   },
   {
    "duration": 13,
    "start_time": "2023-06-25T20:47:45.288Z"
   },
   {
    "duration": 4,
    "start_time": "2023-06-25T20:47:45.302Z"
   },
   {
    "duration": 213,
    "start_time": "2023-06-25T20:47:45.307Z"
   },
   {
    "duration": 86,
    "start_time": "2023-06-25T20:47:45.521Z"
   },
   {
    "duration": 197,
    "start_time": "2023-06-25T20:47:45.609Z"
   },
   {
    "duration": 0,
    "start_time": "2023-06-25T20:47:45.807Z"
   },
   {
    "duration": 0,
    "start_time": "2023-06-25T20:47:45.808Z"
   },
   {
    "duration": 0,
    "start_time": "2023-06-25T20:47:45.809Z"
   },
   {
    "duration": 9,
    "start_time": "2023-06-25T20:48:31.363Z"
   },
   {
    "duration": 14,
    "start_time": "2023-06-25T20:48:35.105Z"
   },
   {
    "duration": 16,
    "start_time": "2023-06-25T20:50:52.201Z"
   },
   {
    "duration": 11,
    "start_time": "2023-06-25T20:51:16.292Z"
   },
   {
    "duration": 3,
    "start_time": "2023-06-25T20:52:43.132Z"
   },
   {
    "duration": 10,
    "start_time": "2023-06-25T20:52:49.010Z"
   },
   {
    "duration": 11,
    "start_time": "2023-06-25T20:55:02.226Z"
   },
   {
    "duration": 10,
    "start_time": "2023-06-25T20:55:06.912Z"
   },
   {
    "duration": 8,
    "start_time": "2023-06-25T20:56:57.135Z"
   },
   {
    "duration": 9,
    "start_time": "2023-06-25T20:57:04.811Z"
   },
   {
    "duration": 71,
    "start_time": "2023-06-25T21:09:40.607Z"
   },
   {
    "duration": 9,
    "start_time": "2023-06-25T21:09:44.101Z"
   },
   {
    "duration": 141,
    "start_time": "2023-06-25T21:10:04.795Z"
   },
   {
    "duration": 85,
    "start_time": "2023-06-25T21:10:35.963Z"
   },
   {
    "duration": 4,
    "start_time": "2023-06-25T21:10:47.293Z"
   },
   {
    "duration": 549,
    "start_time": "2023-06-25T21:10:50.752Z"
   },
   {
    "duration": 10,
    "start_time": "2023-06-25T21:13:17.890Z"
   },
   {
    "duration": 508,
    "start_time": "2023-06-25T21:16:37.214Z"
   },
   {
    "duration": 8,
    "start_time": "2023-06-25T21:16:50.111Z"
   },
   {
    "duration": 3,
    "start_time": "2023-06-25T21:18:16.240Z"
   },
   {
    "duration": 12,
    "start_time": "2023-06-25T21:18:35.913Z"
   },
   {
    "duration": 8,
    "start_time": "2023-06-25T21:18:46.720Z"
   },
   {
    "duration": 72,
    "start_time": "2023-06-25T21:22:16.031Z"
   },
   {
    "duration": 54,
    "start_time": "2023-06-25T21:22:30.338Z"
   },
   {
    "duration": 493,
    "start_time": "2023-06-25T21:27:32.225Z"
   },
   {
    "duration": 29,
    "start_time": "2023-06-25T21:27:50.523Z"
   },
   {
    "duration": 8,
    "start_time": "2023-06-25T21:28:15.828Z"
   },
   {
    "duration": 9,
    "start_time": "2023-06-25T21:29:20.224Z"
   },
   {
    "duration": 17,
    "start_time": "2023-06-25T21:32:06.287Z"
   },
   {
    "duration": 14,
    "start_time": "2023-06-25T21:32:14.394Z"
   },
   {
    "duration": 13,
    "start_time": "2023-06-25T21:32:49.033Z"
   },
   {
    "duration": 10,
    "start_time": "2023-06-25T21:33:21.746Z"
   },
   {
    "duration": 8,
    "start_time": "2023-06-25T21:33:31.291Z"
   },
   {
    "duration": 83,
    "start_time": "2023-06-25T21:38:54.624Z"
   },
   {
    "duration": 67,
    "start_time": "2023-06-25T21:39:09.735Z"
   },
   {
    "duration": 4,
    "start_time": "2023-06-25T21:40:57.847Z"
   },
   {
    "duration": 1300,
    "start_time": "2023-06-25T21:41:12.853Z"
   },
   {
    "duration": 40,
    "start_time": "2023-06-25T21:41:14.156Z"
   },
   {
    "duration": 29,
    "start_time": "2023-06-25T21:41:14.197Z"
   },
   {
    "duration": 17,
    "start_time": "2023-06-25T21:41:14.228Z"
   },
   {
    "duration": 15,
    "start_time": "2023-06-25T21:41:14.246Z"
   },
   {
    "duration": 7,
    "start_time": "2023-06-25T21:41:14.263Z"
   },
   {
    "duration": 3,
    "start_time": "2023-06-25T21:41:14.272Z"
   },
   {
    "duration": 36,
    "start_time": "2023-06-25T21:41:14.277Z"
   },
   {
    "duration": 7,
    "start_time": "2023-06-25T21:41:14.316Z"
   },
   {
    "duration": 9,
    "start_time": "2023-06-25T21:41:14.326Z"
   },
   {
    "duration": 16,
    "start_time": "2023-06-25T21:41:14.337Z"
   },
   {
    "duration": 241,
    "start_time": "2023-06-25T21:41:14.354Z"
   },
   {
    "duration": 853,
    "start_time": "2023-06-25T21:41:14.597Z"
   },
   {
    "duration": 175,
    "start_time": "2023-06-25T21:41:15.451Z"
   },
   {
    "duration": 9,
    "start_time": "2023-06-25T21:41:15.627Z"
   },
   {
    "duration": 25,
    "start_time": "2023-06-25T21:41:15.637Z"
   },
   {
    "duration": 19,
    "start_time": "2023-06-25T21:41:15.664Z"
   },
   {
    "duration": 10,
    "start_time": "2023-06-25T21:41:15.685Z"
   },
   {
    "duration": 39,
    "start_time": "2023-06-25T21:41:15.696Z"
   },
   {
    "duration": 77,
    "start_time": "2023-06-25T21:41:15.737Z"
   },
   {
    "duration": 21,
    "start_time": "2023-06-25T21:41:15.816Z"
   },
   {
    "duration": 16,
    "start_time": "2023-06-25T21:41:15.839Z"
   },
   {
    "duration": 6,
    "start_time": "2023-06-25T21:41:15.856Z"
   },
   {
    "duration": 238,
    "start_time": "2023-06-25T21:41:15.863Z"
   },
   {
    "duration": 14,
    "start_time": "2023-06-25T21:41:16.104Z"
   },
   {
    "duration": 28,
    "start_time": "2023-06-25T21:41:16.203Z"
   },
   {
    "duration": 679,
    "start_time": "2023-06-25T21:41:16.234Z"
   },
   {
    "duration": 715,
    "start_time": "2023-06-25T21:41:16.921Z"
   },
   {
    "duration": 3,
    "start_time": "2023-06-25T21:41:17.637Z"
   },
   {
    "duration": 16,
    "start_time": "2023-06-25T21:41:17.642Z"
   },
   {
    "duration": 74,
    "start_time": "2023-06-25T21:41:17.659Z"
   },
   {
    "duration": 27,
    "start_time": "2023-06-25T21:41:17.735Z"
   },
   {
    "duration": 10,
    "start_time": "2023-06-25T21:41:17.764Z"
   },
   {
    "duration": 28,
    "start_time": "2023-06-25T21:41:17.775Z"
   },
   {
    "duration": 96,
    "start_time": "2023-06-25T21:41:17.805Z"
   },
   {
    "duration": 118,
    "start_time": "2023-06-25T21:41:17.903Z"
   },
   {
    "duration": 86,
    "start_time": "2023-06-25T21:41:18.023Z"
   },
   {
    "duration": 3,
    "start_time": "2023-06-25T21:44:47.415Z"
   },
   {
    "duration": 8,
    "start_time": "2023-06-25T21:44:52.840Z"
   },
   {
    "duration": 206,
    "start_time": "2023-06-25T21:44:58.916Z"
   },
   {
    "duration": 17,
    "start_time": "2023-06-25T21:45:42.084Z"
   },
   {
    "duration": 292,
    "start_time": "2023-06-25T21:47:59.012Z"
   },
   {
    "duration": 10,
    "start_time": "2023-06-25T21:48:14.087Z"
   },
   {
    "duration": 104,
    "start_time": "2023-06-25T21:48:50.595Z"
   },
   {
    "duration": 168,
    "start_time": "2023-06-25T21:49:18.883Z"
   },
   {
    "duration": 229,
    "start_time": "2023-06-25T21:49:33.783Z"
   },
   {
    "duration": 3,
    "start_time": "2023-06-25T21:50:29.342Z"
   },
   {
    "duration": 9,
    "start_time": "2023-06-25T21:54:02.426Z"
   },
   {
    "duration": 10,
    "start_time": "2023-06-25T21:56:04.152Z"
   },
   {
    "duration": 10,
    "start_time": "2023-06-25T21:56:54.324Z"
   },
   {
    "duration": 43,
    "start_time": "2023-06-25T21:56:57.199Z"
   },
   {
    "duration": 786,
    "start_time": "2023-06-25T21:57:41.267Z"
   },
   {
    "duration": 30,
    "start_time": "2023-06-25T22:00:07.691Z"
   },
   {
    "duration": 24,
    "start_time": "2023-06-25T22:00:19.054Z"
   },
   {
    "duration": 356,
    "start_time": "2023-06-25T22:00:36.992Z"
   },
   {
    "duration": 5,
    "start_time": "2023-06-25T22:01:41.216Z"
   },
   {
    "duration": 17,
    "start_time": "2023-06-25T22:01:54.500Z"
   },
   {
    "duration": 1270,
    "start_time": "2023-06-25T22:02:10.287Z"
   },
   {
    "duration": 125,
    "start_time": "2023-06-25T22:11:35.728Z"
   },
   {
    "duration": 4,
    "start_time": "2023-06-25T22:12:26.645Z"
   },
   {
    "duration": 239,
    "start_time": "2023-06-25T22:12:32.678Z"
   },
   {
    "duration": 5,
    "start_time": "2023-06-25T22:13:02.978Z"
   },
   {
    "duration": 639,
    "start_time": "2023-06-25T22:13:05.012Z"
   },
   {
    "duration": 26,
    "start_time": "2023-06-25T22:13:23.793Z"
   },
   {
    "duration": 27,
    "start_time": "2023-06-25T22:13:27.503Z"
   },
   {
    "duration": 92,
    "start_time": "2023-06-25T22:14:11.725Z"
   },
   {
    "duration": 2081,
    "start_time": "2023-06-26T02:59:46.724Z"
   },
   {
    "duration": 79,
    "start_time": "2023-06-26T02:59:48.807Z"
   },
   {
    "duration": 23,
    "start_time": "2023-06-26T02:59:48.888Z"
   },
   {
    "duration": 12,
    "start_time": "2023-06-26T02:59:48.913Z"
   },
   {
    "duration": 13,
    "start_time": "2023-06-26T02:59:48.926Z"
   },
   {
    "duration": 7,
    "start_time": "2023-06-26T02:59:48.941Z"
   },
   {
    "duration": 3,
    "start_time": "2023-06-26T02:59:48.950Z"
   },
   {
    "duration": 17,
    "start_time": "2023-06-26T02:59:48.955Z"
   },
   {
    "duration": 3,
    "start_time": "2023-06-26T02:59:48.974Z"
   },
   {
    "duration": 17,
    "start_time": "2023-06-26T02:59:48.980Z"
   },
   {
    "duration": 17,
    "start_time": "2023-06-26T02:59:48.999Z"
   },
   {
    "duration": 159,
    "start_time": "2023-06-26T02:59:49.018Z"
   },
   {
    "duration": 868,
    "start_time": "2023-06-26T02:59:49.179Z"
   },
   {
    "duration": 167,
    "start_time": "2023-06-26T02:59:50.049Z"
   },
   {
    "duration": 22,
    "start_time": "2023-06-26T02:59:50.218Z"
   },
   {
    "duration": 16,
    "start_time": "2023-06-26T02:59:50.242Z"
   },
   {
    "duration": 23,
    "start_time": "2023-06-26T02:59:50.260Z"
   },
   {
    "duration": 28,
    "start_time": "2023-06-26T02:59:50.285Z"
   },
   {
    "duration": 7,
    "start_time": "2023-06-26T02:59:50.315Z"
   },
   {
    "duration": 10,
    "start_time": "2023-06-26T02:59:50.394Z"
   },
   {
    "duration": 22,
    "start_time": "2023-06-26T02:59:50.406Z"
   },
   {
    "duration": 29,
    "start_time": "2023-06-26T02:59:50.432Z"
   },
   {
    "duration": 4,
    "start_time": "2023-06-26T02:59:50.463Z"
   },
   {
    "duration": 275,
    "start_time": "2023-06-26T02:59:50.469Z"
   },
   {
    "duration": 88,
    "start_time": "2023-06-26T02:59:50.746Z"
   },
   {
    "duration": 6,
    "start_time": "2023-06-26T02:59:50.836Z"
   },
   {
    "duration": 520,
    "start_time": "2023-06-26T02:59:50.844Z"
   },
   {
    "duration": 626,
    "start_time": "2023-06-26T02:59:51.368Z"
   },
   {
    "duration": 3,
    "start_time": "2023-06-26T02:59:51.996Z"
   },
   {
    "duration": 13,
    "start_time": "2023-06-26T02:59:52.001Z"
   },
   {
    "duration": 73,
    "start_time": "2023-06-26T02:59:52.015Z"
   },
   {
    "duration": 24,
    "start_time": "2023-06-26T02:59:52.090Z"
   },
   {
    "duration": 20,
    "start_time": "2023-06-26T02:59:52.116Z"
   },
   {
    "duration": 27,
    "start_time": "2023-06-26T02:59:52.138Z"
   },
   {
    "duration": 68,
    "start_time": "2023-06-26T02:59:52.166Z"
   },
   {
    "duration": 96,
    "start_time": "2023-06-26T02:59:52.236Z"
   },
   {
    "duration": 105,
    "start_time": "2023-06-26T02:59:52.334Z"
   },
   {
    "duration": 198,
    "start_time": "2023-06-26T02:59:52.442Z"
   },
   {
    "duration": 422,
    "start_time": "2023-06-26T02:59:52.642Z"
   },
   {
    "duration": 10,
    "start_time": "2023-06-26T02:59:53.066Z"
   },
   {
    "duration": 39,
    "start_time": "2023-06-26T02:59:53.077Z"
   },
   {
    "duration": 685,
    "start_time": "2023-06-26T02:59:53.118Z"
   },
   {
    "duration": 8,
    "start_time": "2023-06-26T02:59:53.805Z"
   },
   {
    "duration": 28,
    "start_time": "2023-06-26T02:59:53.815Z"
   },
   {
    "duration": 329,
    "start_time": "2023-06-26T02:59:53.845Z"
   },
   {
    "duration": 4,
    "start_time": "2023-06-26T02:59:54.176Z"
   },
   {
    "duration": 25,
    "start_time": "2023-06-26T02:59:54.181Z"
   },
   {
    "duration": 1095,
    "start_time": "2023-06-26T02:59:54.208Z"
   },
   {
    "duration": 21,
    "start_time": "2023-06-26T03:31:35.397Z"
   },
   {
    "duration": 50,
    "start_time": "2023-06-26T17:40:07.455Z"
   },
   {
    "duration": 1579,
    "start_time": "2023-06-26T17:40:15.469Z"
   },
   {
    "duration": 82,
    "start_time": "2023-06-26T17:40:17.050Z"
   },
   {
    "duration": 28,
    "start_time": "2023-06-26T17:40:17.134Z"
   },
   {
    "duration": 17,
    "start_time": "2023-06-26T17:40:17.164Z"
   },
   {
    "duration": 21,
    "start_time": "2023-06-26T17:40:17.183Z"
   },
   {
    "duration": 15,
    "start_time": "2023-06-26T17:40:17.206Z"
   },
   {
    "duration": 16,
    "start_time": "2023-06-26T17:40:17.222Z"
   },
   {
    "duration": 41,
    "start_time": "2023-06-26T17:40:17.240Z"
   },
   {
    "duration": 21,
    "start_time": "2023-06-26T17:40:17.283Z"
   },
   {
    "duration": 7,
    "start_time": "2023-06-26T17:40:17.306Z"
   },
   {
    "duration": 7,
    "start_time": "2023-06-26T17:40:17.314Z"
   },
   {
    "duration": 16,
    "start_time": "2023-06-26T17:40:17.323Z"
   },
   {
    "duration": 210,
    "start_time": "2023-06-26T17:40:17.340Z"
   },
   {
    "duration": 956,
    "start_time": "2023-06-26T17:40:17.552Z"
   },
   {
    "duration": 178,
    "start_time": "2023-06-26T17:40:18.510Z"
   },
   {
    "duration": 19,
    "start_time": "2023-06-26T17:40:18.690Z"
   },
   {
    "duration": 14,
    "start_time": "2023-06-26T17:40:18.711Z"
   },
   {
    "duration": 16,
    "start_time": "2023-06-26T17:40:18.726Z"
   },
   {
    "duration": 13,
    "start_time": "2023-06-26T17:40:18.743Z"
   },
   {
    "duration": 8,
    "start_time": "2023-06-26T17:40:18.758Z"
   },
   {
    "duration": 107,
    "start_time": "2023-06-26T17:40:18.767Z"
   },
   {
    "duration": 26,
    "start_time": "2023-06-26T17:40:18.876Z"
   },
   {
    "duration": 17,
    "start_time": "2023-06-26T17:40:18.904Z"
   },
   {
    "duration": 4,
    "start_time": "2023-06-26T17:40:18.923Z"
   },
   {
    "duration": 275,
    "start_time": "2023-06-26T17:40:18.928Z"
   },
   {
    "duration": 8,
    "start_time": "2023-06-26T17:40:19.205Z"
   },
   {
    "duration": 13,
    "start_time": "2023-06-26T17:40:19.302Z"
   },
   {
    "duration": 587,
    "start_time": "2023-06-26T17:40:19.319Z"
   },
   {
    "duration": 615,
    "start_time": "2023-06-26T17:40:19.908Z"
   },
   {
    "duration": 5,
    "start_time": "2023-06-26T17:40:20.525Z"
   },
   {
    "duration": 101,
    "start_time": "2023-06-26T17:40:20.532Z"
   },
   {
    "duration": 86,
    "start_time": "2023-06-26T17:40:20.635Z"
   },
   {
    "duration": 34,
    "start_time": "2023-06-26T17:40:20.723Z"
   },
   {
    "duration": 106,
    "start_time": "2023-06-26T17:40:20.759Z"
   },
   {
    "duration": 13,
    "start_time": "2023-06-26T17:40:20.867Z"
   },
   {
    "duration": 27,
    "start_time": "2023-06-26T17:40:20.883Z"
   },
   {
    "duration": 103,
    "start_time": "2023-06-26T17:40:20.912Z"
   },
   {
    "duration": 105,
    "start_time": "2023-06-26T17:40:21.103Z"
   },
   {
    "duration": 194,
    "start_time": "2023-06-26T17:40:21.210Z"
   },
   {
    "duration": 353,
    "start_time": "2023-06-26T17:40:21.406Z"
   },
   {
    "duration": 14,
    "start_time": "2023-06-26T17:40:21.761Z"
   },
   {
    "duration": 39,
    "start_time": "2023-06-26T17:40:21.777Z"
   },
   {
    "duration": 756,
    "start_time": "2023-06-26T17:40:21.818Z"
   },
   {
    "duration": 10,
    "start_time": "2023-06-26T17:40:22.576Z"
   },
   {
    "duration": 32,
    "start_time": "2023-06-26T17:40:22.587Z"
   },
   {
    "duration": 356,
    "start_time": "2023-06-26T17:40:22.621Z"
   },
   {
    "duration": 4,
    "start_time": "2023-06-26T17:40:22.979Z"
   },
   {
    "duration": 21,
    "start_time": "2023-06-26T17:40:22.985Z"
   },
   {
    "duration": 1229,
    "start_time": "2023-06-26T17:40:23.008Z"
   },
   {
    "duration": 114,
    "start_time": "2023-06-26T17:41:25.687Z"
   },
   {
    "duration": 144,
    "start_time": "2023-06-26T17:58:28.727Z"
   },
   {
    "duration": 108,
    "start_time": "2023-06-26T17:58:59.197Z"
   },
   {
    "duration": 178,
    "start_time": "2023-06-26T18:08:31.655Z"
   },
   {
    "duration": 11,
    "start_time": "2023-06-26T18:21:33.791Z"
   },
   {
    "duration": 14,
    "start_time": "2023-06-26T18:23:28.029Z"
   },
   {
    "duration": 79,
    "start_time": "2023-06-26T18:24:09.384Z"
   },
   {
    "duration": 3,
    "start_time": "2023-06-26T18:27:27.501Z"
   },
   {
    "duration": 33,
    "start_time": "2023-06-26T20:06:30.527Z"
   },
   {
    "duration": 12,
    "start_time": "2023-06-26T20:36:32.045Z"
   },
   {
    "duration": 416,
    "start_time": "2023-06-26T20:41:19.287Z"
   },
   {
    "duration": 1161,
    "start_time": "2023-06-26T20:42:49.387Z"
   },
   {
    "duration": 63,
    "start_time": "2023-06-26T20:43:06.292Z"
   },
   {
    "duration": 63,
    "start_time": "2023-06-26T20:43:21.890Z"
   },
   {
    "duration": 225,
    "start_time": "2023-06-26T20:44:43.542Z"
   },
   {
    "duration": 218,
    "start_time": "2023-06-26T20:46:01.723Z"
   },
   {
    "duration": 28,
    "start_time": "2023-06-26T20:51:48.543Z"
   },
   {
    "duration": 747,
    "start_time": "2023-06-26T20:58:20.247Z"
   },
   {
    "duration": 1916,
    "start_time": "2023-06-26T20:58:42.001Z"
   },
   {
    "duration": 24,
    "start_time": "2023-06-26T21:02:44.042Z"
   },
   {
    "duration": 244,
    "start_time": "2023-06-26T21:03:54.499Z"
   },
   {
    "duration": 546,
    "start_time": "2023-06-26T21:04:11.967Z"
   },
   {
    "duration": 1162,
    "start_time": "2023-06-26T21:15:01.303Z"
   },
   {
    "duration": 6,
    "start_time": "2023-06-26T21:15:10.899Z"
   },
   {
    "duration": 1435,
    "start_time": "2023-06-26T21:15:20.404Z"
   },
   {
    "duration": 42,
    "start_time": "2023-06-26T21:15:21.841Z"
   },
   {
    "duration": 26,
    "start_time": "2023-06-26T21:15:21.884Z"
   },
   {
    "duration": 12,
    "start_time": "2023-06-26T21:15:21.911Z"
   },
   {
    "duration": 14,
    "start_time": "2023-06-26T21:15:21.925Z"
   },
   {
    "duration": 8,
    "start_time": "2023-06-26T21:15:21.941Z"
   },
   {
    "duration": 12,
    "start_time": "2023-06-26T21:15:21.950Z"
   },
   {
    "duration": 77,
    "start_time": "2023-06-26T21:15:21.964Z"
   },
   {
    "duration": 4,
    "start_time": "2023-06-26T21:15:22.043Z"
   },
   {
    "duration": 8,
    "start_time": "2023-06-26T21:15:22.049Z"
   },
   {
    "duration": 9,
    "start_time": "2023-06-26T21:15:22.059Z"
   },
   {
    "duration": 34,
    "start_time": "2023-06-26T21:15:22.069Z"
   },
   {
    "duration": 187,
    "start_time": "2023-06-26T21:15:22.105Z"
   },
   {
    "duration": 965,
    "start_time": "2023-06-26T21:15:22.301Z"
   },
   {
    "duration": 185,
    "start_time": "2023-06-26T21:15:23.269Z"
   },
   {
    "duration": 10,
    "start_time": "2023-06-26T21:15:23.456Z"
   },
   {
    "duration": 11,
    "start_time": "2023-06-26T21:15:23.468Z"
   },
   {
    "duration": 27,
    "start_time": "2023-06-26T21:15:23.481Z"
   },
   {
    "duration": 107,
    "start_time": "2023-06-26T21:15:23.510Z"
   },
   {
    "duration": 10,
    "start_time": "2023-06-26T21:15:23.619Z"
   },
   {
    "duration": 14,
    "start_time": "2023-06-26T21:15:23.632Z"
   },
   {
    "duration": 28,
    "start_time": "2023-06-26T21:15:23.647Z"
   },
   {
    "duration": 16,
    "start_time": "2023-06-26T21:15:23.676Z"
   },
   {
    "duration": 21,
    "start_time": "2023-06-26T21:15:23.694Z"
   },
   {
    "duration": 5,
    "start_time": "2023-06-26T21:15:23.718Z"
   },
   {
    "duration": 278,
    "start_time": "2023-06-26T21:15:23.725Z"
   },
   {
    "duration": 7,
    "start_time": "2023-06-26T21:15:24.004Z"
   },
   {
    "duration": 108,
    "start_time": "2023-06-26T21:15:24.012Z"
   },
   {
    "duration": 788,
    "start_time": "2023-06-26T21:15:24.122Z"
   },
   {
    "duration": 759,
    "start_time": "2023-06-26T21:15:24.912Z"
   },
   {
    "duration": 4,
    "start_time": "2023-06-26T21:15:25.673Z"
   },
   {
    "duration": 25,
    "start_time": "2023-06-26T21:15:25.679Z"
   },
   {
    "duration": 38,
    "start_time": "2023-06-26T21:15:25.705Z"
   },
   {
    "duration": 368,
    "start_time": "2023-06-26T21:15:25.745Z"
   },
   {
    "duration": 34,
    "start_time": "2023-06-26T21:15:26.115Z"
   },
   {
    "duration": 1023,
    "start_time": "2023-06-26T21:15:26.151Z"
   },
   {
    "duration": 80,
    "start_time": "2023-06-26T21:15:27.176Z"
   },
   {
    "duration": 46,
    "start_time": "2023-06-26T21:15:27.258Z"
   },
   {
    "duration": 9,
    "start_time": "2023-06-26T21:15:27.306Z"
   },
   {
    "duration": 10,
    "start_time": "2023-06-26T21:15:27.316Z"
   },
   {
    "duration": 21,
    "start_time": "2023-06-26T21:15:27.330Z"
   },
   {
    "duration": 11,
    "start_time": "2023-06-26T21:15:27.353Z"
   },
   {
    "duration": 101,
    "start_time": "2023-06-26T21:15:27.401Z"
   },
   {
    "duration": 99,
    "start_time": "2023-06-26T21:15:27.503Z"
   },
   {
    "duration": 903,
    "start_time": "2023-06-26T21:15:27.604Z"
   },
   {
    "duration": 104,
    "start_time": "2023-06-26T21:15:28.509Z"
   },
   {
    "duration": 423,
    "start_time": "2023-06-26T21:15:28.615Z"
   },
   {
    "duration": 13,
    "start_time": "2023-06-26T21:15:29.040Z"
   },
   {
    "duration": 42,
    "start_time": "2023-06-26T21:15:29.055Z"
   },
   {
    "duration": 25,
    "start_time": "2023-06-26T21:15:29.101Z"
   },
   {
    "duration": 905,
    "start_time": "2023-06-26T21:15:29.129Z"
   },
   {
    "duration": 535,
    "start_time": "2023-06-26T21:15:30.036Z"
   },
   {
    "duration": 1471,
    "start_time": "2023-06-26T21:15:30.573Z"
   },
   {
    "duration": 12,
    "start_time": "2023-06-26T21:15:32.046Z"
   },
   {
    "duration": 26,
    "start_time": "2023-06-26T21:15:32.060Z"
   },
   {
    "duration": 29,
    "start_time": "2023-06-26T21:15:32.087Z"
   },
   {
    "duration": 395,
    "start_time": "2023-06-26T21:15:32.117Z"
   },
   {
    "duration": 291,
    "start_time": "2023-06-26T21:15:32.514Z"
   },
   {
    "duration": 639,
    "start_time": "2023-06-26T21:15:32.807Z"
   },
   {
    "duration": 5,
    "start_time": "2023-06-26T21:15:33.448Z"
   },
   {
    "duration": 30,
    "start_time": "2023-06-26T21:15:33.455Z"
   },
   {
    "duration": 1283,
    "start_time": "2023-06-26T21:15:33.487Z"
   },
   {
    "duration": 1227,
    "start_time": "2023-06-26T21:15:42.167Z"
   },
   {
    "duration": 2017,
    "start_time": "2023-06-27T03:20:49.546Z"
   },
   {
    "duration": 79,
    "start_time": "2023-06-27T03:20:51.565Z"
   },
   {
    "duration": 26,
    "start_time": "2023-06-27T03:20:51.646Z"
   },
   {
    "duration": 15,
    "start_time": "2023-06-27T03:20:51.674Z"
   },
   {
    "duration": 26,
    "start_time": "2023-06-27T03:20:51.691Z"
   },
   {
    "duration": 16,
    "start_time": "2023-06-27T03:20:51.719Z"
   },
   {
    "duration": 21,
    "start_time": "2023-06-27T03:20:51.736Z"
   },
   {
    "duration": 41,
    "start_time": "2023-06-27T03:20:51.759Z"
   },
   {
    "duration": 5,
    "start_time": "2023-06-27T03:20:51.802Z"
   },
   {
    "duration": 6,
    "start_time": "2023-06-27T03:20:51.810Z"
   },
   {
    "duration": 9,
    "start_time": "2023-06-27T03:20:51.818Z"
   },
   {
    "duration": 15,
    "start_time": "2023-06-27T03:20:51.852Z"
   },
   {
    "duration": 193,
    "start_time": "2023-06-27T03:20:51.869Z"
   },
   {
    "duration": 976,
    "start_time": "2023-06-27T03:20:52.063Z"
   },
   {
    "duration": 187,
    "start_time": "2023-06-27T03:20:53.041Z"
   },
   {
    "duration": 23,
    "start_time": "2023-06-27T03:20:53.230Z"
   },
   {
    "duration": 12,
    "start_time": "2023-06-27T03:20:53.255Z"
   },
   {
    "duration": 19,
    "start_time": "2023-06-27T03:20:53.269Z"
   },
   {
    "duration": 15,
    "start_time": "2023-06-27T03:20:53.290Z"
   },
   {
    "duration": 7,
    "start_time": "2023-06-27T03:20:53.308Z"
   },
   {
    "duration": 112,
    "start_time": "2023-06-27T03:20:53.317Z"
   },
   {
    "duration": 70,
    "start_time": "2023-06-27T03:20:53.431Z"
   },
   {
    "duration": 61,
    "start_time": "2023-06-27T03:20:53.502Z"
   },
   {
    "duration": 17,
    "start_time": "2023-06-27T03:20:53.564Z"
   },
   {
    "duration": 5,
    "start_time": "2023-06-27T03:20:53.583Z"
   },
   {
    "duration": 273,
    "start_time": "2023-06-27T03:20:53.589Z"
   },
   {
    "duration": 99,
    "start_time": "2023-06-27T03:20:53.953Z"
   },
   {
    "duration": 5,
    "start_time": "2023-06-27T03:20:54.056Z"
   },
   {
    "duration": 691,
    "start_time": "2023-06-27T03:20:54.062Z"
   },
   {
    "duration": 852,
    "start_time": "2023-06-27T03:20:54.755Z"
   },
   {
    "duration": 4,
    "start_time": "2023-06-27T03:20:55.609Z"
   },
   {
    "duration": 18,
    "start_time": "2023-06-27T03:20:55.614Z"
   },
   {
    "duration": 44,
    "start_time": "2023-06-27T03:20:55.634Z"
   },
   {
    "duration": 369,
    "start_time": "2023-06-27T03:20:55.680Z"
   },
   {
    "duration": 36,
    "start_time": "2023-06-27T03:20:56.052Z"
   },
   {
    "duration": 1066,
    "start_time": "2023-06-27T03:20:56.090Z"
   },
   {
    "duration": 64,
    "start_time": "2023-06-27T03:20:57.158Z"
   },
   {
    "duration": 47,
    "start_time": "2023-06-27T03:20:57.224Z"
   },
   {
    "duration": 9,
    "start_time": "2023-06-27T03:20:57.272Z"
   },
   {
    "duration": 16,
    "start_time": "2023-06-27T03:20:57.282Z"
   },
   {
    "duration": 23,
    "start_time": "2023-06-27T03:20:57.299Z"
   },
   {
    "duration": 32,
    "start_time": "2023-06-27T03:20:57.324Z"
   },
   {
    "duration": 33,
    "start_time": "2023-06-27T03:20:57.358Z"
   },
   {
    "duration": 100,
    "start_time": "2023-06-27T03:20:57.455Z"
   },
   {
    "duration": 1002,
    "start_time": "2023-06-27T03:20:57.557Z"
   },
   {
    "duration": 14,
    "start_time": "2023-06-27T03:20:58.651Z"
   },
   {
    "duration": 345,
    "start_time": "2023-06-27T03:20:58.758Z"
   },
   {
    "duration": 12,
    "start_time": "2023-06-27T03:20:59.105Z"
   },
   {
    "duration": 43,
    "start_time": "2023-06-27T03:20:59.119Z"
   },
   {
    "duration": 24,
    "start_time": "2023-06-27T03:20:59.164Z"
   },
   {
    "duration": 960,
    "start_time": "2023-06-27T03:20:59.189Z"
   },
   {
    "duration": 547,
    "start_time": "2023-06-27T03:21:00.152Z"
   },
   {
    "duration": 1554,
    "start_time": "2023-06-27T03:21:00.702Z"
   },
   {
    "duration": 12,
    "start_time": "2023-06-27T03:21:02.258Z"
   },
   {
    "duration": 52,
    "start_time": "2023-06-27T03:21:02.272Z"
   },
   {
    "duration": 95,
    "start_time": "2023-06-27T03:21:02.326Z"
   },
   {
    "duration": 406,
    "start_time": "2023-06-27T03:21:02.424Z"
   },
   {
    "duration": 289,
    "start_time": "2023-06-27T03:21:02.833Z"
   },
   {
    "duration": 660,
    "start_time": "2023-06-27T03:21:03.124Z"
   },
   {
    "duration": 7,
    "start_time": "2023-06-27T03:21:03.786Z"
   },
   {
    "duration": 34,
    "start_time": "2023-06-27T03:21:03.795Z"
   },
   {
    "duration": 1318,
    "start_time": "2023-06-27T03:21:03.831Z"
   },
   {
    "duration": 2843,
    "start_time": "2023-06-27T03:26:20.710Z"
   },
   {
    "duration": 45,
    "start_time": "2023-06-27T03:26:23.556Z"
   },
   {
    "duration": 78,
    "start_time": "2023-06-27T03:26:23.603Z"
   },
   {
    "duration": 73,
    "start_time": "2023-06-27T03:26:23.683Z"
   },
   {
    "duration": 24,
    "start_time": "2023-06-27T03:26:23.758Z"
   },
   {
    "duration": 81,
    "start_time": "2023-06-27T03:26:23.784Z"
   },
   {
    "duration": 13,
    "start_time": "2023-06-27T03:26:23.868Z"
   },
   {
    "duration": 106,
    "start_time": "2023-06-27T03:26:23.882Z"
   },
   {
    "duration": 4,
    "start_time": "2023-06-27T03:26:23.990Z"
   },
   {
    "duration": 25,
    "start_time": "2023-06-27T03:26:24.054Z"
   },
   {
    "duration": 13,
    "start_time": "2023-06-27T03:26:24.081Z"
   },
   {
    "duration": 71,
    "start_time": "2023-06-27T03:26:24.096Z"
   },
   {
    "duration": 411,
    "start_time": "2023-06-27T03:26:24.169Z"
   },
   {
    "duration": 4880,
    "start_time": "2023-06-27T03:26:24.585Z"
   },
   {
    "duration": 1698,
    "start_time": "2023-06-27T03:26:29.467Z"
   },
   {
    "duration": 106,
    "start_time": "2023-06-27T03:26:31.251Z"
   },
   {
    "duration": 488,
    "start_time": "2023-06-27T03:26:31.367Z"
   },
   {
    "duration": 111,
    "start_time": "2023-06-27T03:26:31.857Z"
   },
   {
    "duration": 198,
    "start_time": "2023-06-27T03:26:32.056Z"
   },
   {
    "duration": 10,
    "start_time": "2023-06-27T03:26:32.262Z"
   },
   {
    "duration": 811,
    "start_time": "2023-06-27T03:26:32.355Z"
   },
   {
    "duration": 200,
    "start_time": "2023-06-27T03:26:33.168Z"
   },
   {
    "duration": 386,
    "start_time": "2023-06-27T03:26:33.370Z"
   },
   {
    "duration": 117,
    "start_time": "2023-06-27T03:26:33.758Z"
   },
   {
    "duration": 2380,
    "start_time": "2023-06-27T03:26:33.876Z"
   },
   {
    "duration": 10,
    "start_time": "2023-06-27T03:26:36.265Z"
   },
   {
    "duration": 310,
    "start_time": "2023-06-27T03:26:36.353Z"
   },
   {
    "duration": 8906,
    "start_time": "2023-06-27T03:26:36.664Z"
   },
   {
    "duration": 4729,
    "start_time": "2023-06-27T03:26:45.658Z"
   },
   {
    "duration": 5,
    "start_time": "2023-06-27T03:26:50.389Z"
   },
   {
    "duration": 90,
    "start_time": "2023-06-27T03:26:50.396Z"
   },
   {
    "duration": 169,
    "start_time": "2023-06-27T03:26:50.489Z"
   },
   {
    "duration": 1013,
    "start_time": "2023-06-27T03:26:50.659Z"
   },
   {
    "duration": 182,
    "start_time": "2023-06-27T03:26:51.674Z"
   },
   {
    "duration": 2620,
    "start_time": "2023-06-27T03:26:51.858Z"
   },
   {
    "duration": 197,
    "start_time": "2023-06-27T03:26:54.480Z"
   },
   {
    "duration": 98,
    "start_time": "2023-06-27T03:26:54.679Z"
   },
   {
    "duration": 11,
    "start_time": "2023-06-27T03:26:54.779Z"
   },
   {
    "duration": 76,
    "start_time": "2023-06-27T03:26:54.792Z"
   },
   {
    "duration": 24,
    "start_time": "2023-06-27T03:26:54.871Z"
   },
   {
    "duration": 14,
    "start_time": "2023-06-27T03:26:54.951Z"
   },
   {
    "duration": 97,
    "start_time": "2023-06-27T03:26:54.966Z"
   },
   {
    "duration": 95,
    "start_time": "2023-06-27T03:26:55.066Z"
   },
   {
    "duration": 796,
    "start_time": "2023-06-27T03:26:55.163Z"
   },
   {
    "duration": 105,
    "start_time": "2023-06-27T03:26:55.961Z"
   },
   {
    "duration": 611,
    "start_time": "2023-06-27T03:26:56.070Z"
   },
   {
    "duration": 12,
    "start_time": "2023-06-27T03:26:56.683Z"
   },
   {
    "duration": 104,
    "start_time": "2023-06-27T03:26:56.753Z"
   },
   {
    "duration": 29,
    "start_time": "2023-06-27T03:26:56.858Z"
   },
   {
    "duration": 2489,
    "start_time": "2023-06-27T03:26:56.889Z"
   },
   {
    "duration": 1295,
    "start_time": "2023-06-27T03:26:59.380Z"
   },
   {
    "duration": 3819,
    "start_time": "2023-06-27T03:27:00.677Z"
   },
   {
    "duration": 18,
    "start_time": "2023-06-27T03:27:04.554Z"
   },
   {
    "duration": 93,
    "start_time": "2023-06-27T03:27:04.574Z"
   },
   {
    "duration": 19,
    "start_time": "2023-06-27T03:27:04.669Z"
   },
   {
    "duration": 998,
    "start_time": "2023-06-27T03:27:04.689Z"
   },
   {
    "duration": 672,
    "start_time": "2023-06-27T03:27:05.689Z"
   },
   {
    "duration": 1628,
    "start_time": "2023-06-27T03:27:06.362Z"
   },
   {
    "duration": 71,
    "start_time": "2023-06-27T03:27:07.992Z"
   },
   {
    "duration": 23,
    "start_time": "2023-06-27T03:27:08.065Z"
   },
   {
    "duration": 3174,
    "start_time": "2023-06-27T03:27:08.090Z"
   },
   {
    "duration": 87,
    "start_time": "2023-06-27T19:04:17.558Z"
   },
   {
    "duration": 81,
    "start_time": "2023-06-27T19:04:59.633Z"
   },
   {
    "duration": 9,
    "start_time": "2023-06-27T19:06:48.301Z"
   },
   {
    "duration": 10,
    "start_time": "2023-06-27T19:07:39.509Z"
   },
   {
    "duration": 2160,
    "start_time": "2023-06-27T19:07:59.834Z"
   },
   {
    "duration": 218,
    "start_time": "2023-06-27T19:08:01.997Z"
   },
   {
    "duration": 27,
    "start_time": "2023-06-27T19:08:02.217Z"
   },
   {
    "duration": 39,
    "start_time": "2023-06-27T19:08:02.247Z"
   },
   {
    "duration": 49,
    "start_time": "2023-06-27T19:08:02.288Z"
   },
   {
    "duration": 57,
    "start_time": "2023-06-27T19:08:02.339Z"
   },
   {
    "duration": 67,
    "start_time": "2023-06-27T19:08:02.398Z"
   },
   {
    "duration": 70,
    "start_time": "2023-06-27T19:08:02.468Z"
   },
   {
    "duration": 7,
    "start_time": "2023-06-27T19:08:02.541Z"
   },
   {
    "duration": 33,
    "start_time": "2023-06-27T19:08:02.551Z"
   },
   {
    "duration": 42,
    "start_time": "2023-06-27T19:08:02.586Z"
   },
   {
    "duration": 55,
    "start_time": "2023-06-27T19:08:02.629Z"
   },
   {
    "duration": 217,
    "start_time": "2023-06-27T19:08:02.686Z"
   },
   {
    "duration": 1225,
    "start_time": "2023-06-27T19:08:02.905Z"
   },
   {
    "duration": 239,
    "start_time": "2023-06-27T19:08:04.133Z"
   },
   {
    "duration": 14,
    "start_time": "2023-06-27T19:08:04.374Z"
   },
   {
    "duration": 23,
    "start_time": "2023-06-27T19:08:04.390Z"
   },
   {
    "duration": 18,
    "start_time": "2023-06-27T19:08:04.416Z"
   },
   {
    "duration": 26,
    "start_time": "2023-06-27T19:08:04.437Z"
   },
   {
    "duration": 17,
    "start_time": "2023-06-27T19:08:04.467Z"
   },
   {
    "duration": 130,
    "start_time": "2023-06-27T19:08:04.487Z"
   },
   {
    "duration": 17,
    "start_time": "2023-06-27T19:08:04.619Z"
   },
   {
    "duration": 41,
    "start_time": "2023-06-27T19:08:04.639Z"
   },
   {
    "duration": 31,
    "start_time": "2023-06-27T19:08:04.682Z"
   },
   {
    "duration": 360,
    "start_time": "2023-06-27T19:08:04.715Z"
   },
   {
    "duration": 15,
    "start_time": "2023-06-27T19:08:05.079Z"
   },
   {
    "duration": 96,
    "start_time": "2023-06-27T19:08:05.096Z"
   },
   {
    "duration": 877,
    "start_time": "2023-06-27T19:08:05.198Z"
   },
   {
    "duration": 915,
    "start_time": "2023-06-27T19:08:06.078Z"
   },
   {
    "duration": 5,
    "start_time": "2023-06-27T19:08:06.996Z"
   },
   {
    "duration": 14,
    "start_time": "2023-06-27T19:08:07.003Z"
   },
   {
    "duration": 79,
    "start_time": "2023-06-27T19:08:07.019Z"
   },
   {
    "duration": 469,
    "start_time": "2023-06-27T19:08:07.100Z"
   },
   {
    "duration": 41,
    "start_time": "2023-06-27T19:08:07.570Z"
   },
   {
    "duration": 1369,
    "start_time": "2023-06-27T19:08:07.613Z"
   },
   {
    "duration": 122,
    "start_time": "2023-06-27T19:08:08.984Z"
   },
   {
    "duration": 4583,
    "start_time": "2023-06-27T19:08:09.110Z"
   },
   {
    "duration": 35,
    "start_time": "2023-06-27T19:08:13.695Z"
   },
   {
    "duration": 38,
    "start_time": "2023-06-27T19:08:13.732Z"
   },
   {
    "duration": 18,
    "start_time": "2023-06-27T19:08:13.772Z"
   },
   {
    "duration": 25,
    "start_time": "2023-06-27T19:08:13.792Z"
   },
   {
    "duration": 12,
    "start_time": "2023-06-27T19:08:13.819Z"
   },
   {
    "duration": 134,
    "start_time": "2023-06-27T19:08:13.833Z"
   },
   {
    "duration": 105,
    "start_time": "2023-06-27T19:08:13.970Z"
   },
   {
    "duration": 302,
    "start_time": "2023-06-27T19:08:14.080Z"
   },
   {
    "duration": 92,
    "start_time": "2023-06-27T19:08:14.384Z"
   },
   {
    "duration": 326,
    "start_time": "2023-06-27T19:08:14.478Z"
   },
   {
    "duration": 4785,
    "start_time": "2023-06-27T19:08:14.807Z"
   },
   {
    "duration": 13,
    "start_time": "2023-06-27T19:08:19.594Z"
   },
   {
    "duration": 92,
    "start_time": "2023-06-27T19:08:19.609Z"
   },
   {
    "duration": 26,
    "start_time": "2023-06-27T19:08:19.703Z"
   },
   {
    "duration": 1144,
    "start_time": "2023-06-27T19:08:19.731Z"
   },
   {
    "duration": 661,
    "start_time": "2023-06-27T19:08:20.878Z"
   },
   {
    "duration": 1789,
    "start_time": "2023-06-27T19:08:21.540Z"
   },
   {
    "duration": 12,
    "start_time": "2023-06-27T19:08:23.330Z"
   },
   {
    "duration": 43,
    "start_time": "2023-06-27T19:08:23.356Z"
   },
   {
    "duration": 18,
    "start_time": "2023-06-27T19:08:23.401Z"
   },
   {
    "duration": 459,
    "start_time": "2023-06-27T19:08:23.420Z"
   },
   {
    "duration": 338,
    "start_time": "2023-06-27T19:08:23.881Z"
   },
   {
    "duration": 808,
    "start_time": "2023-06-27T19:08:24.221Z"
   },
   {
    "duration": 6,
    "start_time": "2023-06-27T19:08:25.031Z"
   },
   {
    "duration": 35,
    "start_time": "2023-06-27T19:08:25.040Z"
   },
   {
    "duration": 1435,
    "start_time": "2023-06-27T19:08:25.081Z"
   },
   {
    "duration": 5237,
    "start_time": "2023-06-27T19:22:56.421Z"
   },
   {
    "duration": 4888,
    "start_time": "2023-06-27T19:24:25.446Z"
   },
   {
    "duration": 8988,
    "start_time": "2023-06-27T19:25:59.917Z"
   },
   {
    "duration": 2566,
    "start_time": "2023-06-27T19:33:46.045Z"
   },
   {
    "duration": 174,
    "start_time": "2023-06-27T19:45:22.033Z"
   },
   {
    "duration": 2792,
    "start_time": "2023-06-27T20:01:34.839Z"
   },
   {
    "duration": 8516,
    "start_time": "2023-06-27T20:01:59.520Z"
   },
   {
    "duration": 4565,
    "start_time": "2023-06-27T20:02:37.452Z"
   },
   {
    "duration": 547,
    "start_time": "2023-06-27T20:04:17.525Z"
   },
   {
    "duration": 1481,
    "start_time": "2023-06-27T20:10:54.357Z"
   },
   {
    "duration": 554,
    "start_time": "2023-06-27T20:11:09.597Z"
   },
   {
    "duration": 262,
    "start_time": "2023-06-27T20:11:23.751Z"
   },
   {
    "duration": 906,
    "start_time": "2023-06-27T20:12:00.213Z"
   },
   {
    "duration": 941,
    "start_time": "2023-06-27T20:14:26.818Z"
   },
   {
    "duration": 1654,
    "start_time": "2023-06-27T20:14:35.592Z"
   },
   {
    "duration": 212,
    "start_time": "2023-06-27T20:14:37.248Z"
   },
   {
    "duration": 42,
    "start_time": "2023-06-27T20:14:37.462Z"
   },
   {
    "duration": 21,
    "start_time": "2023-06-27T20:14:37.511Z"
   },
   {
    "duration": 16,
    "start_time": "2023-06-27T20:14:37.534Z"
   },
   {
    "duration": 23,
    "start_time": "2023-06-27T20:14:37.561Z"
   },
   {
    "duration": 22,
    "start_time": "2023-06-27T20:14:37.586Z"
   },
   {
    "duration": 66,
    "start_time": "2023-06-27T20:14:37.612Z"
   },
   {
    "duration": 8,
    "start_time": "2023-06-27T20:14:37.685Z"
   },
   {
    "duration": 10,
    "start_time": "2023-06-27T20:14:37.699Z"
   },
   {
    "duration": 16,
    "start_time": "2023-06-27T20:14:37.714Z"
   },
   {
    "duration": 15,
    "start_time": "2023-06-27T20:14:37.732Z"
   },
   {
    "duration": 214,
    "start_time": "2023-06-27T20:14:37.749Z"
   },
   {
    "duration": 1255,
    "start_time": "2023-06-27T20:14:37.967Z"
   },
   {
    "duration": 301,
    "start_time": "2023-06-27T20:14:39.224Z"
   },
   {
    "duration": 14,
    "start_time": "2023-06-27T20:14:39.528Z"
   },
   {
    "duration": 17,
    "start_time": "2023-06-27T20:14:39.562Z"
   },
   {
    "duration": 24,
    "start_time": "2023-06-27T20:14:39.581Z"
   },
   {
    "duration": 19,
    "start_time": "2023-06-27T20:14:39.611Z"
   },
   {
    "duration": 8,
    "start_time": "2023-06-27T20:14:39.635Z"
   },
   {
    "duration": 127,
    "start_time": "2023-06-27T20:14:39.648Z"
   },
   {
    "duration": 18,
    "start_time": "2023-06-27T20:14:39.777Z"
   },
   {
    "duration": 32,
    "start_time": "2023-06-27T20:14:39.797Z"
   },
   {
    "duration": 6,
    "start_time": "2023-06-27T20:14:39.837Z"
   },
   {
    "duration": 418,
    "start_time": "2023-06-27T20:14:39.846Z"
   },
   {
    "duration": 88,
    "start_time": "2023-06-27T20:14:40.294Z"
   },
   {
    "duration": 20,
    "start_time": "2023-06-27T20:14:40.387Z"
   },
   {
    "duration": 906,
    "start_time": "2023-06-27T20:14:40.413Z"
   },
   {
    "duration": 969,
    "start_time": "2023-06-27T20:14:41.322Z"
   },
   {
    "duration": 3,
    "start_time": "2023-06-27T20:14:42.293Z"
   },
   {
    "duration": 17,
    "start_time": "2023-06-27T20:14:42.298Z"
   },
   {
    "duration": 82,
    "start_time": "2023-06-27T20:14:42.317Z"
   },
   {
    "duration": 459,
    "start_time": "2023-06-27T20:14:42.408Z"
   },
   {
    "duration": 47,
    "start_time": "2023-06-27T20:14:42.869Z"
   },
   {
    "duration": 1361,
    "start_time": "2023-06-27T20:14:42.918Z"
   },
   {
    "duration": 108,
    "start_time": "2023-06-27T20:14:44.285Z"
   },
   {
    "duration": 5472,
    "start_time": "2023-06-27T20:14:44.396Z"
   },
   {
    "duration": 48,
    "start_time": "2023-06-27T20:14:49.871Z"
   },
   {
    "duration": 11,
    "start_time": "2023-06-27T20:14:49.921Z"
   },
   {
    "duration": 40,
    "start_time": "2023-06-27T20:14:49.934Z"
   },
   {
    "duration": 27,
    "start_time": "2023-06-27T20:14:49.979Z"
   },
   {
    "duration": 23,
    "start_time": "2023-06-27T20:14:50.008Z"
   },
   {
    "duration": 158,
    "start_time": "2023-06-27T20:14:50.034Z"
   },
   {
    "duration": 86,
    "start_time": "2023-06-27T20:14:50.197Z"
   },
   {
    "duration": 614,
    "start_time": "2023-06-27T20:14:50.289Z"
   },
   {
    "duration": 135,
    "start_time": "2023-06-27T20:14:50.956Z"
   },
   {
    "duration": 312,
    "start_time": "2023-06-27T20:14:51.103Z"
   },
   {
    "duration": 14,
    "start_time": "2023-06-27T20:14:51.417Z"
   },
   {
    "duration": 72,
    "start_time": "2023-06-27T20:14:51.433Z"
   },
   {
    "duration": 25,
    "start_time": "2023-06-27T20:14:51.507Z"
   },
   {
    "duration": 1234,
    "start_time": "2023-06-27T20:14:51.534Z"
   },
   {
    "duration": 697,
    "start_time": "2023-06-27T20:14:52.770Z"
   },
   {
    "duration": 1955,
    "start_time": "2023-06-27T20:14:53.470Z"
   },
   {
    "duration": 8626,
    "start_time": "2023-06-27T20:14:55.428Z"
   },
   {
    "duration": 20,
    "start_time": "2023-06-27T20:15:04.055Z"
   },
   {
    "duration": 53,
    "start_time": "2023-06-27T20:15:04.081Z"
   },
   {
    "duration": 24,
    "start_time": "2023-06-27T20:15:04.143Z"
   },
   {
    "duration": 532,
    "start_time": "2023-06-27T20:15:04.169Z"
   },
   {
    "duration": 334,
    "start_time": "2023-06-27T20:15:04.711Z"
   },
   {
    "duration": 903,
    "start_time": "2023-06-27T20:15:05.048Z"
   },
   {
    "duration": 3388,
    "start_time": "2023-06-27T20:15:05.957Z"
   },
   {
    "duration": 15,
    "start_time": "2023-06-27T20:15:09.347Z"
   },
   {
    "duration": 19,
    "start_time": "2023-06-27T20:15:09.370Z"
   },
   {
    "duration": 721,
    "start_time": "2023-06-27T20:15:09.404Z"
   },
   {
    "duration": 826,
    "start_time": "2023-06-27T20:22:35.640Z"
   },
   {
    "duration": 1680,
    "start_time": "2023-06-28T03:08:54.502Z"
   },
   {
    "duration": 77,
    "start_time": "2023-06-28T03:08:56.184Z"
   },
   {
    "duration": 21,
    "start_time": "2023-06-28T03:08:56.262Z"
   },
   {
    "duration": 12,
    "start_time": "2023-06-28T03:08:56.284Z"
   },
   {
    "duration": 12,
    "start_time": "2023-06-28T03:08:56.297Z"
   },
   {
    "duration": 8,
    "start_time": "2023-06-28T03:08:56.310Z"
   },
   {
    "duration": 9,
    "start_time": "2023-06-28T03:08:56.320Z"
   },
   {
    "duration": 32,
    "start_time": "2023-06-28T03:08:56.331Z"
   },
   {
    "duration": 4,
    "start_time": "2023-06-28T03:08:56.364Z"
   },
   {
    "duration": 14,
    "start_time": "2023-06-28T03:08:56.370Z"
   },
   {
    "duration": 4,
    "start_time": "2023-06-28T03:08:56.400Z"
   },
   {
    "duration": 13,
    "start_time": "2023-06-28T03:08:56.405Z"
   },
   {
    "duration": 158,
    "start_time": "2023-06-28T03:08:56.420Z"
   },
   {
    "duration": 732,
    "start_time": "2023-06-28T03:08:56.580Z"
   },
   {
    "duration": 152,
    "start_time": "2023-06-28T03:08:57.313Z"
   },
   {
    "duration": 8,
    "start_time": "2023-06-28T03:08:57.467Z"
   },
   {
    "duration": 9,
    "start_time": "2023-06-28T03:08:57.476Z"
   },
   {
    "duration": 12,
    "start_time": "2023-06-28T03:08:57.502Z"
   },
   {
    "duration": 63,
    "start_time": "2023-06-28T03:08:57.515Z"
   },
   {
    "duration": 20,
    "start_time": "2023-06-28T03:08:57.579Z"
   },
   {
    "duration": 7,
    "start_time": "2023-06-28T03:08:57.600Z"
   },
   {
    "duration": 11,
    "start_time": "2023-06-28T03:08:57.609Z"
   },
   {
    "duration": 11,
    "start_time": "2023-06-28T03:08:57.622Z"
   },
   {
    "duration": 4,
    "start_time": "2023-06-28T03:08:57.634Z"
   },
   {
    "duration": 269,
    "start_time": "2023-06-28T03:08:57.639Z"
   },
   {
    "duration": 95,
    "start_time": "2023-06-28T03:08:57.910Z"
   },
   {
    "duration": 96,
    "start_time": "2023-06-28T03:08:58.007Z"
   },
   {
    "duration": 793,
    "start_time": "2023-06-28T03:08:58.109Z"
   },
   {
    "duration": 904,
    "start_time": "2023-06-28T03:08:58.904Z"
   },
   {
    "duration": 3,
    "start_time": "2023-06-28T03:08:59.809Z"
   },
   {
    "duration": 19,
    "start_time": "2023-06-28T03:08:59.813Z"
   },
   {
    "duration": 57,
    "start_time": "2023-06-28T03:08:59.834Z"
   },
   {
    "duration": 388,
    "start_time": "2023-06-28T03:08:59.892Z"
   },
   {
    "duration": 37,
    "start_time": "2023-06-28T03:09:00.282Z"
   },
   {
    "duration": 1084,
    "start_time": "2023-06-28T03:09:00.321Z"
   },
   {
    "duration": 66,
    "start_time": "2023-06-28T03:09:01.407Z"
   },
   {
    "duration": 4202,
    "start_time": "2023-06-28T03:09:01.475Z"
   },
   {
    "duration": 39,
    "start_time": "2023-06-28T03:09:05.679Z"
   },
   {
    "duration": 16,
    "start_time": "2023-06-28T03:09:05.720Z"
   },
   {
    "duration": 15,
    "start_time": "2023-06-28T03:09:05.737Z"
   },
   {
    "duration": 39,
    "start_time": "2023-06-28T03:09:05.754Z"
   },
   {
    "duration": 33,
    "start_time": "2023-06-28T03:09:05.794Z"
   },
   {
    "duration": 112,
    "start_time": "2023-06-28T03:09:05.828Z"
   },
   {
    "duration": 110,
    "start_time": "2023-06-28T03:09:06.001Z"
   },
   {
    "duration": 101,
    "start_time": "2023-06-28T03:09:06.113Z"
   },
   {
    "duration": 100,
    "start_time": "2023-06-28T03:09:06.304Z"
   },
   {
    "duration": 362,
    "start_time": "2023-06-28T03:09:06.406Z"
   },
   {
    "duration": 14,
    "start_time": "2023-06-28T03:09:06.770Z"
   },
   {
    "duration": 71,
    "start_time": "2023-06-28T03:09:06.786Z"
   },
   {
    "duration": 23,
    "start_time": "2023-06-28T03:09:06.858Z"
   },
   {
    "duration": 956,
    "start_time": "2023-06-28T03:09:06.882Z"
   },
   {
    "duration": 509,
    "start_time": "2023-06-28T03:09:07.840Z"
   },
   {
    "duration": 1502,
    "start_time": "2023-06-28T03:09:08.350Z"
   },
   {
    "duration": 6097,
    "start_time": "2023-06-28T03:09:09.854Z"
   },
   {
    "duration": 13,
    "start_time": "2023-06-28T03:09:15.953Z"
   },
   {
    "duration": 36,
    "start_time": "2023-06-28T03:09:15.967Z"
   },
   {
    "duration": 18,
    "start_time": "2023-06-28T03:09:16.004Z"
   },
   {
    "duration": 402,
    "start_time": "2023-06-28T03:09:16.023Z"
   },
   {
    "duration": 241,
    "start_time": "2023-06-28T03:09:16.426Z"
   },
   {
    "duration": 638,
    "start_time": "2023-06-28T03:09:16.669Z"
   },
   {
    "duration": 2421,
    "start_time": "2023-06-28T03:09:17.308Z"
   },
   {
    "duration": 4,
    "start_time": "2023-06-28T03:09:19.731Z"
   },
   {
    "duration": 12,
    "start_time": "2023-06-28T03:09:19.736Z"
   },
   {
    "duration": 494,
    "start_time": "2023-06-28T03:09:19.750Z"
   },
   {
    "duration": 53,
    "start_time": "2023-06-28T18:20:30.489Z"
   },
   {
    "duration": 11,
    "start_time": "2023-06-28T18:20:35.510Z"
   },
   {
    "duration": 1819,
    "start_time": "2023-06-28T18:20:41.994Z"
   },
   {
    "duration": 91,
    "start_time": "2023-06-28T18:20:43.815Z"
   },
   {
    "duration": 27,
    "start_time": "2023-06-28T18:20:43.908Z"
   },
   {
    "duration": 14,
    "start_time": "2023-06-28T18:20:43.937Z"
   },
   {
    "duration": 22,
    "start_time": "2023-06-28T18:20:43.953Z"
   },
   {
    "duration": 41,
    "start_time": "2023-06-28T18:20:43.978Z"
   },
   {
    "duration": 13,
    "start_time": "2023-06-28T18:20:44.021Z"
   },
   {
    "duration": 46,
    "start_time": "2023-06-28T18:20:44.035Z"
   },
   {
    "duration": 29,
    "start_time": "2023-06-28T18:20:44.082Z"
   },
   {
    "duration": 6,
    "start_time": "2023-06-28T18:20:44.114Z"
   },
   {
    "duration": 11,
    "start_time": "2023-06-28T18:20:44.122Z"
   },
   {
    "duration": 29,
    "start_time": "2023-06-28T18:20:44.134Z"
   },
   {
    "duration": 220,
    "start_time": "2023-06-28T18:20:44.165Z"
   },
   {
    "duration": 988,
    "start_time": "2023-06-28T18:20:44.387Z"
   },
   {
    "duration": 188,
    "start_time": "2023-06-28T18:20:45.377Z"
   },
   {
    "duration": 11,
    "start_time": "2023-06-28T18:20:45.567Z"
   },
   {
    "duration": 28,
    "start_time": "2023-06-28T18:20:45.580Z"
   },
   {
    "duration": 30,
    "start_time": "2023-06-28T18:20:45.610Z"
   },
   {
    "duration": 64,
    "start_time": "2023-06-28T18:20:45.642Z"
   },
   {
    "duration": 25,
    "start_time": "2023-06-28T18:20:45.708Z"
   },
   {
    "duration": 11,
    "start_time": "2023-06-28T18:20:45.828Z"
   },
   {
    "duration": 23,
    "start_time": "2023-06-28T18:20:45.841Z"
   },
   {
    "duration": 16,
    "start_time": "2023-06-28T18:20:45.866Z"
   },
   {
    "duration": 5,
    "start_time": "2023-06-28T18:20:45.884Z"
   },
   {
    "duration": 304,
    "start_time": "2023-06-28T18:20:45.908Z"
   },
   {
    "duration": 96,
    "start_time": "2023-06-28T18:20:46.214Z"
   },
   {
    "duration": 16,
    "start_time": "2023-06-28T18:20:46.312Z"
   },
   {
    "duration": 901,
    "start_time": "2023-06-28T18:20:46.408Z"
   },
   {
    "duration": 875,
    "start_time": "2023-06-28T18:20:47.311Z"
   },
   {
    "duration": 4,
    "start_time": "2023-06-28T18:20:48.187Z"
   },
   {
    "duration": 22,
    "start_time": "2023-06-28T18:20:48.193Z"
   },
   {
    "duration": 63,
    "start_time": "2023-06-28T18:20:48.217Z"
   },
   {
    "duration": 434,
    "start_time": "2023-06-28T18:20:48.282Z"
   },
   {
    "duration": 38,
    "start_time": "2023-06-28T18:20:48.718Z"
   },
   {
    "duration": 1222,
    "start_time": "2023-06-28T18:20:48.757Z"
   },
   {
    "duration": 101,
    "start_time": "2023-06-28T18:20:49.982Z"
   },
   {
    "duration": 2037,
    "start_time": "2023-06-28T18:20:50.085Z"
   },
   {
    "duration": 37,
    "start_time": "2023-06-28T18:20:52.123Z"
   },
   {
    "duration": 136,
    "start_time": "2023-06-28T18:20:52.162Z"
   },
   {
    "duration": 15,
    "start_time": "2023-06-28T18:20:52.300Z"
   },
   {
    "duration": 25,
    "start_time": "2023-06-28T18:20:52.316Z"
   },
   {
    "duration": 28,
    "start_time": "2023-06-28T18:20:52.343Z"
   },
   {
    "duration": 54,
    "start_time": "2023-06-28T18:20:52.373Z"
   },
   {
    "duration": 110,
    "start_time": "2023-06-28T18:20:52.509Z"
   },
   {
    "duration": 96,
    "start_time": "2023-06-28T18:20:52.621Z"
   },
   {
    "duration": 106,
    "start_time": "2023-06-28T18:20:52.719Z"
   },
   {
    "duration": 342,
    "start_time": "2023-06-28T18:20:52.910Z"
   },
   {
    "duration": 13,
    "start_time": "2023-06-28T18:20:53.255Z"
   },
   {
    "duration": 62,
    "start_time": "2023-06-28T18:20:53.270Z"
   },
   {
    "duration": 24,
    "start_time": "2023-06-28T18:20:53.334Z"
   },
   {
    "duration": 1048,
    "start_time": "2023-06-28T18:20:53.360Z"
   },
   {
    "duration": 559,
    "start_time": "2023-06-28T18:20:54.410Z"
   },
   {
    "duration": 1727,
    "start_time": "2023-06-28T18:20:54.971Z"
   },
   {
    "duration": 6873,
    "start_time": "2023-06-28T18:20:56.700Z"
   },
   {
    "duration": 13,
    "start_time": "2023-06-28T18:21:03.575Z"
   },
   {
    "duration": 60,
    "start_time": "2023-06-28T18:21:03.590Z"
   },
   {
    "duration": 33,
    "start_time": "2023-06-28T18:21:03.652Z"
   },
   {
    "duration": 439,
    "start_time": "2023-06-28T18:21:03.687Z"
   },
   {
    "duration": 287,
    "start_time": "2023-06-28T18:21:04.128Z"
   },
   {
    "duration": 739,
    "start_time": "2023-06-28T18:21:04.417Z"
   },
   {
    "duration": 2847,
    "start_time": "2023-06-28T18:21:05.158Z"
   },
   {
    "duration": 7,
    "start_time": "2023-06-28T18:21:08.007Z"
   },
   {
    "duration": 27,
    "start_time": "2023-06-28T18:21:08.015Z"
   },
   {
    "duration": 562,
    "start_time": "2023-06-28T18:21:08.044Z"
   },
   {
    "duration": 62318,
    "start_time": "2023-06-28T18:34:13.556Z"
   },
   {
    "duration": 62125,
    "start_time": "2023-06-28T18:36:48.782Z"
   },
   {
    "duration": 63555,
    "start_time": "2023-06-28T18:38:53.166Z"
   },
   {
    "duration": 219,
    "start_time": "2023-06-28T18:42:32.938Z"
   },
   {
    "duration": 1095,
    "start_time": "2023-06-28T18:44:31.393Z"
   },
   {
    "duration": 85,
    "start_time": "2023-06-28T18:44:44.220Z"
   },
   {
    "duration": 232,
    "start_time": "2023-06-28T18:45:01.074Z"
   },
   {
    "duration": 122290,
    "start_time": "2023-06-28T18:45:48.595Z"
   },
   {
    "duration": 2004,
    "start_time": "2023-06-28T18:47:52.921Z"
   },
   {
    "duration": 1021,
    "start_time": "2023-06-28T18:51:58.009Z"
   },
   {
    "duration": 223,
    "start_time": "2023-06-28T18:52:07.219Z"
   },
   {
    "duration": 1943,
    "start_time": "2023-06-28T18:52:17.892Z"
   },
   {
    "duration": 37934,
    "start_time": "2023-06-28T18:53:06.840Z"
   },
   {
    "duration": 206,
    "start_time": "2023-06-28T18:59:36.923Z"
   },
   {
    "duration": 122401,
    "start_time": "2023-06-28T19:06:00.727Z"
   },
   {
    "duration": 36795,
    "start_time": "2023-06-28T19:08:12.332Z"
   },
   {
    "duration": 108,
    "start_time": "2023-06-28T19:08:49.129Z"
   },
   {
    "duration": 551,
    "start_time": "2023-06-28T19:09:17.117Z"
   },
   {
    "duration": 319,
    "start_time": "2023-06-28T19:12:03.834Z"
   },
   {
    "duration": 919,
    "start_time": "2023-06-28T19:12:51.300Z"
   },
   {
    "duration": 110,
    "start_time": "2023-06-28T19:13:33.604Z"
   },
   {
    "duration": 10,
    "start_time": "2023-06-28T19:13:48.395Z"
   },
   {
    "duration": 1516,
    "start_time": "2023-06-28T19:13:56.692Z"
   },
   {
    "duration": 42,
    "start_time": "2023-06-28T19:13:58.211Z"
   },
   {
    "duration": 27,
    "start_time": "2023-06-28T19:13:58.254Z"
   },
   {
    "duration": 19,
    "start_time": "2023-06-28T19:13:58.283Z"
   },
   {
    "duration": 23,
    "start_time": "2023-06-28T19:13:58.308Z"
   },
   {
    "duration": 12,
    "start_time": "2023-06-28T19:13:58.334Z"
   },
   {
    "duration": 20,
    "start_time": "2023-06-28T19:13:58.349Z"
   },
   {
    "duration": 79,
    "start_time": "2023-06-28T19:13:58.371Z"
   },
   {
    "duration": 5,
    "start_time": "2023-06-28T19:13:58.451Z"
   },
   {
    "duration": 7,
    "start_time": "2023-06-28T19:13:58.457Z"
   },
   {
    "duration": 12,
    "start_time": "2023-06-28T19:13:58.466Z"
   },
   {
    "duration": 37,
    "start_time": "2023-06-28T19:13:58.480Z"
   },
   {
    "duration": 184,
    "start_time": "2023-06-28T19:13:58.519Z"
   },
   {
    "duration": 1032,
    "start_time": "2023-06-28T19:13:58.710Z"
   },
   {
    "duration": 233,
    "start_time": "2023-06-28T19:13:59.744Z"
   },
   {
    "duration": 14,
    "start_time": "2023-06-28T19:13:59.979Z"
   },
   {
    "duration": 51,
    "start_time": "2023-06-28T19:14:00.008Z"
   },
   {
    "duration": 41,
    "start_time": "2023-06-28T19:14:00.061Z"
   },
   {
    "duration": 74,
    "start_time": "2023-06-28T19:14:00.104Z"
   },
   {
    "duration": 171,
    "start_time": "2023-06-28T19:14:00.180Z"
   },
   {
    "duration": 66,
    "start_time": "2023-06-28T19:14:00.354Z"
   },
   {
    "duration": 150,
    "start_time": "2023-06-28T19:14:00.422Z"
   },
   {
    "duration": 112,
    "start_time": "2023-06-28T19:14:00.574Z"
   },
   {
    "duration": 72,
    "start_time": "2023-06-28T19:14:00.688Z"
   },
   {
    "duration": 449,
    "start_time": "2023-06-28T19:14:00.763Z"
   },
   {
    "duration": 94,
    "start_time": "2023-06-28T19:14:01.216Z"
   },
   {
    "duration": 43,
    "start_time": "2023-06-28T19:14:01.312Z"
   },
   {
    "duration": 962,
    "start_time": "2023-06-28T19:14:01.360Z"
   },
   {
    "duration": 859,
    "start_time": "2023-06-28T19:14:02.324Z"
   },
   {
    "duration": 4,
    "start_time": "2023-06-28T19:14:03.185Z"
   },
   {
    "duration": 31,
    "start_time": "2023-06-28T19:14:03.191Z"
   },
   {
    "duration": 121,
    "start_time": "2023-06-28T19:14:03.224Z"
   },
   {
    "duration": 469,
    "start_time": "2023-06-28T19:14:03.347Z"
   },
   {
    "duration": 41,
    "start_time": "2023-06-28T19:14:03.817Z"
   },
   {
    "duration": 1118,
    "start_time": "2023-06-28T19:14:03.860Z"
   },
   {
    "duration": 96,
    "start_time": "2023-06-28T19:14:04.980Z"
   },
   {
    "duration": 70402,
    "start_time": "2023-06-28T19:14:05.078Z"
   },
   {
    "duration": 42,
    "start_time": "2023-06-28T19:15:15.482Z"
   },
   {
    "duration": 11,
    "start_time": "2023-06-28T19:15:15.526Z"
   },
   {
    "duration": 51,
    "start_time": "2023-06-28T19:15:15.540Z"
   },
   {
    "duration": 38,
    "start_time": "2023-06-28T19:15:15.595Z"
   },
   {
    "duration": 11,
    "start_time": "2023-06-28T19:15:15.635Z"
   },
   {
    "duration": 64,
    "start_time": "2023-06-28T19:15:15.648Z"
   },
   {
    "duration": 129,
    "start_time": "2023-06-28T19:15:15.715Z"
   },
   {
    "duration": 77,
    "start_time": "2023-06-28T19:15:15.846Z"
   },
   {
    "duration": 189,
    "start_time": "2023-06-28T19:15:15.924Z"
   },
   {
    "duration": 326,
    "start_time": "2023-06-28T19:15:16.117Z"
   },
   {
    "duration": 13,
    "start_time": "2023-06-28T19:15:16.445Z"
   },
   {
    "duration": 80,
    "start_time": "2023-06-28T19:15:16.460Z"
   },
   {
    "duration": 27,
    "start_time": "2023-06-28T19:15:16.541Z"
   },
   {
    "duration": 1097,
    "start_time": "2023-06-28T19:15:16.570Z"
   },
   {
    "duration": 606,
    "start_time": "2023-06-28T19:15:17.669Z"
   },
   {
    "duration": 1525,
    "start_time": "2023-06-28T19:15:18.277Z"
   },
   {
    "duration": 98931,
    "start_time": "2023-06-28T19:15:19.804Z"
   },
   {
    "duration": 12,
    "start_time": "2023-06-28T19:16:58.738Z"
   },
   {
    "duration": 26,
    "start_time": "2023-06-28T19:16:58.753Z"
   },
   {
    "duration": 37,
    "start_time": "2023-06-28T19:16:58.781Z"
   },
   {
    "duration": 443,
    "start_time": "2023-06-28T19:16:58.820Z"
   },
   {
    "duration": 326,
    "start_time": "2023-06-28T19:16:59.264Z"
   },
   {
    "duration": 637,
    "start_time": "2023-06-28T19:16:59.591Z"
   },
   {
    "duration": 39137,
    "start_time": "2023-06-28T19:17:00.230Z"
   },
   {
    "duration": 7,
    "start_time": "2023-06-28T19:17:39.370Z"
   },
   {
    "duration": 0,
    "start_time": "2023-06-28T19:17:39.641Z"
   },
   {
    "duration": 0,
    "start_time": "2023-06-28T19:17:39.643Z"
   },
   {
    "duration": 0,
    "start_time": "2023-06-28T19:17:39.648Z"
   },
   {
    "duration": 958,
    "start_time": "2023-06-28T19:18:43.988Z"
   },
   {
    "duration": 998,
    "start_time": "2023-06-28T19:19:12.239Z"
   },
   {
    "duration": 2094,
    "start_time": "2023-06-29T03:04:21.804Z"
   },
   {
    "duration": 79,
    "start_time": "2023-06-29T03:04:23.900Z"
   },
   {
    "duration": 22,
    "start_time": "2023-06-29T03:04:23.980Z"
   },
   {
    "duration": 12,
    "start_time": "2023-06-29T03:04:24.004Z"
   },
   {
    "duration": 13,
    "start_time": "2023-06-29T03:04:24.017Z"
   },
   {
    "duration": 10,
    "start_time": "2023-06-29T03:04:24.031Z"
   },
   {
    "duration": 13,
    "start_time": "2023-06-29T03:04:24.043Z"
   },
   {
    "duration": 46,
    "start_time": "2023-06-29T03:04:24.057Z"
   },
   {
    "duration": 4,
    "start_time": "2023-06-29T03:04:24.105Z"
   },
   {
    "duration": 6,
    "start_time": "2023-06-29T03:04:24.111Z"
   },
   {
    "duration": 14,
    "start_time": "2023-06-29T03:04:24.118Z"
   },
   {
    "duration": 11,
    "start_time": "2023-06-29T03:04:24.133Z"
   },
   {
    "duration": 159,
    "start_time": "2023-06-29T03:04:24.145Z"
   },
   {
    "duration": 852,
    "start_time": "2023-06-29T03:04:24.306Z"
   },
   {
    "duration": 158,
    "start_time": "2023-06-29T03:04:25.160Z"
   },
   {
    "duration": 13,
    "start_time": "2023-06-29T03:04:25.320Z"
   },
   {
    "duration": 10,
    "start_time": "2023-06-29T03:04:25.335Z"
   },
   {
    "duration": 11,
    "start_time": "2023-06-29T03:04:25.347Z"
   },
   {
    "duration": 9,
    "start_time": "2023-06-29T03:04:25.360Z"
   },
   {
    "duration": 4,
    "start_time": "2023-06-29T03:04:25.371Z"
   },
   {
    "duration": 8,
    "start_time": "2023-06-29T03:04:25.469Z"
   },
   {
    "duration": 21,
    "start_time": "2023-06-29T03:04:25.479Z"
   },
   {
    "duration": 14,
    "start_time": "2023-06-29T03:04:25.502Z"
   },
   {
    "duration": 16,
    "start_time": "2023-06-29T03:04:25.518Z"
   },
   {
    "duration": 235,
    "start_time": "2023-06-29T03:04:25.535Z"
   },
   {
    "duration": 8,
    "start_time": "2023-06-29T03:04:25.831Z"
   },
   {
    "duration": 98,
    "start_time": "2023-06-29T03:04:25.841Z"
   },
   {
    "duration": 691,
    "start_time": "2023-06-29T03:04:25.942Z"
   },
   {
    "duration": 793,
    "start_time": "2023-06-29T03:04:26.639Z"
   },
   {
    "duration": 3,
    "start_time": "2023-06-29T03:04:27.433Z"
   },
   {
    "duration": 12,
    "start_time": "2023-06-29T03:04:27.437Z"
   },
   {
    "duration": 52,
    "start_time": "2023-06-29T03:04:27.450Z"
   },
   {
    "duration": 397,
    "start_time": "2023-06-29T03:04:27.504Z"
   },
   {
    "duration": 41,
    "start_time": "2023-06-29T03:04:27.903Z"
   },
   {
    "duration": 889,
    "start_time": "2023-06-29T03:04:27.945Z"
   },
   {
    "duration": 71,
    "start_time": "2023-06-29T03:04:28.835Z"
   },
   {
    "duration": 62037,
    "start_time": "2023-06-29T03:04:28.908Z"
   },
   {
    "duration": 33,
    "start_time": "2023-06-29T03:05:30.947Z"
   },
   {
    "duration": 12,
    "start_time": "2023-06-29T03:05:30.982Z"
   },
   {
    "duration": 57,
    "start_time": "2023-06-29T03:05:30.995Z"
   },
   {
    "duration": 44,
    "start_time": "2023-06-29T03:05:31.053Z"
   },
   {
    "duration": 33,
    "start_time": "2023-06-29T03:05:31.098Z"
   },
   {
    "duration": 49,
    "start_time": "2023-06-29T03:05:31.133Z"
   },
   {
    "duration": 102,
    "start_time": "2023-06-29T03:05:31.234Z"
   },
   {
    "duration": 295,
    "start_time": "2023-06-29T03:05:31.338Z"
   },
   {
    "duration": 105,
    "start_time": "2023-06-29T03:05:31.635Z"
   },
   {
    "duration": 265,
    "start_time": "2023-06-29T03:05:31.832Z"
   },
   {
    "duration": 12,
    "start_time": "2023-06-29T03:05:32.099Z"
   },
   {
    "duration": 90,
    "start_time": "2023-06-29T03:05:32.112Z"
   },
   {
    "duration": 25,
    "start_time": "2023-06-29T03:05:32.204Z"
   },
   {
    "duration": 1001,
    "start_time": "2023-06-29T03:05:32.231Z"
   },
   {
    "duration": 548,
    "start_time": "2023-06-29T03:05:33.234Z"
   },
   {
    "duration": 1336,
    "start_time": "2023-06-29T03:05:33.783Z"
   },
   {
    "duration": 87379,
    "start_time": "2023-06-29T03:05:35.120Z"
   },
   {
    "duration": 11,
    "start_time": "2023-06-29T03:07:02.501Z"
   },
   {
    "duration": 43,
    "start_time": "2023-06-29T03:07:02.513Z"
   },
   {
    "duration": 27,
    "start_time": "2023-06-29T03:07:02.558Z"
   },
   {
    "duration": 447,
    "start_time": "2023-06-29T03:07:02.586Z"
   },
   {
    "duration": 270,
    "start_time": "2023-06-29T03:07:03.035Z"
   },
   {
    "duration": 569,
    "start_time": "2023-06-29T03:07:03.307Z"
   },
   {
    "duration": 32133,
    "start_time": "2023-06-29T03:07:03.878Z"
   },
   {
    "duration": 6,
    "start_time": "2023-06-29T03:07:36.012Z"
   },
   {
    "duration": 42,
    "start_time": "2023-06-29T03:07:36.019Z"
   },
   {
    "duration": 776,
    "start_time": "2023-06-29T03:07:36.062Z"
   },
   {
    "duration": 48,
    "start_time": "2023-06-29T18:03:11.226Z"
   },
   {
    "duration": 7,
    "start_time": "2023-06-29T18:03:18.922Z"
   },
   {
    "duration": 1597,
    "start_time": "2023-06-29T18:03:30.806Z"
   },
   {
    "duration": 83,
    "start_time": "2023-06-29T18:03:32.405Z"
   },
   {
    "duration": 24,
    "start_time": "2023-06-29T18:03:32.489Z"
   },
   {
    "duration": 12,
    "start_time": "2023-06-29T18:03:32.515Z"
   },
   {
    "duration": 12,
    "start_time": "2023-06-29T18:03:32.529Z"
   },
   {
    "duration": 12,
    "start_time": "2023-06-29T18:03:32.542Z"
   },
   {
    "duration": 12,
    "start_time": "2023-06-29T18:03:32.555Z"
   },
   {
    "duration": 54,
    "start_time": "2023-06-29T18:03:32.568Z"
   },
   {
    "duration": 3,
    "start_time": "2023-06-29T18:03:32.624Z"
   },
   {
    "duration": 8,
    "start_time": "2023-06-29T18:03:32.629Z"
   },
   {
    "duration": 7,
    "start_time": "2023-06-29T18:03:32.638Z"
   },
   {
    "duration": 16,
    "start_time": "2023-06-29T18:03:32.647Z"
   },
   {
    "duration": 160,
    "start_time": "2023-06-29T18:03:32.665Z"
   },
   {
    "duration": 749,
    "start_time": "2023-06-29T18:03:32.828Z"
   },
   {
    "duration": 153,
    "start_time": "2023-06-29T18:03:33.578Z"
   },
   {
    "duration": 9,
    "start_time": "2023-06-29T18:03:33.732Z"
   },
   {
    "duration": 10,
    "start_time": "2023-06-29T18:03:33.742Z"
   },
   {
    "duration": 10,
    "start_time": "2023-06-29T18:03:33.753Z"
   },
   {
    "duration": 11,
    "start_time": "2023-06-29T18:03:33.764Z"
   },
   {
    "duration": 3,
    "start_time": "2023-06-29T18:03:33.776Z"
   },
   {
    "duration": 62,
    "start_time": "2023-06-29T18:03:33.799Z"
   },
   {
    "duration": 11,
    "start_time": "2023-06-29T18:03:33.862Z"
   },
   {
    "duration": 36,
    "start_time": "2023-06-29T18:03:33.874Z"
   },
   {
    "duration": 4,
    "start_time": "2023-06-29T18:03:33.911Z"
   },
   {
    "duration": 246,
    "start_time": "2023-06-29T18:03:33.917Z"
   },
   {
    "duration": 55,
    "start_time": "2023-06-29T18:03:34.165Z"
   },
   {
    "duration": 101,
    "start_time": "2023-06-29T18:03:34.221Z"
   },
   {
    "duration": 778,
    "start_time": "2023-06-29T18:03:34.324Z"
   },
   {
    "duration": 788,
    "start_time": "2023-06-29T18:03:35.103Z"
   },
   {
    "duration": 18,
    "start_time": "2023-06-29T18:03:35.892Z"
   },
   {
    "duration": 69,
    "start_time": "2023-06-29T18:03:35.912Z"
   },
   {
    "duration": 60,
    "start_time": "2023-06-29T18:03:35.983Z"
   },
   {
    "duration": 412,
    "start_time": "2023-06-29T18:03:36.044Z"
   },
   {
    "duration": 27,
    "start_time": "2023-06-29T18:03:36.457Z"
   },
   {
    "duration": 994,
    "start_time": "2023-06-29T18:03:36.485Z"
   },
   {
    "duration": 76,
    "start_time": "2023-06-29T18:03:37.480Z"
   },
   {
    "duration": 59459,
    "start_time": "2023-06-29T18:03:37.557Z"
   },
   {
    "duration": 36,
    "start_time": "2023-06-29T18:04:37.017Z"
   },
   {
    "duration": 7,
    "start_time": "2023-06-29T18:04:37.054Z"
   },
   {
    "duration": 7,
    "start_time": "2023-06-29T18:04:37.063Z"
   },
   {
    "duration": 42,
    "start_time": "2023-06-29T18:04:37.074Z"
   },
   {
    "duration": 8,
    "start_time": "2023-06-29T18:04:37.118Z"
   },
   {
    "duration": 86,
    "start_time": "2023-06-29T18:04:37.128Z"
   },
   {
    "duration": 95,
    "start_time": "2023-06-29T18:04:37.215Z"
   },
   {
    "duration": 209,
    "start_time": "2023-06-29T18:04:37.312Z"
   },
   {
    "duration": 107,
    "start_time": "2023-06-29T18:04:37.606Z"
   },
   {
    "duration": 278,
    "start_time": "2023-06-29T18:04:37.718Z"
   },
   {
    "duration": 16,
    "start_time": "2023-06-29T18:04:37.997Z"
   },
   {
    "duration": 45,
    "start_time": "2023-06-29T18:04:38.014Z"
   },
   {
    "duration": 21,
    "start_time": "2023-06-29T18:04:38.060Z"
   },
   {
    "duration": 986,
    "start_time": "2023-06-29T18:04:38.082Z"
   },
   {
    "duration": 550,
    "start_time": "2023-06-29T18:04:39.069Z"
   },
   {
    "duration": 1376,
    "start_time": "2023-06-29T18:04:39.620Z"
   },
   {
    "duration": 89727,
    "start_time": "2023-06-29T18:04:41.000Z"
   },
   {
    "duration": 9,
    "start_time": "2023-06-29T18:07:16.874Z"
   },
   {
    "duration": 32,
    "start_time": "2023-06-29T18:07:16.884Z"
   },
   {
    "duration": 13,
    "start_time": "2023-06-29T18:07:16.918Z"
   },
   {
    "duration": 396,
    "start_time": "2023-06-29T18:07:16.932Z"
   },
   {
    "duration": 257,
    "start_time": "2023-06-29T18:07:17.329Z"
   },
   {
    "duration": 569,
    "start_time": "2023-06-29T18:07:17.588Z"
   },
   {
    "duration": 33320,
    "start_time": "2023-06-29T18:07:18.159Z"
   },
   {
    "duration": 4,
    "start_time": "2023-06-29T18:07:51.480Z"
   },
   {
    "duration": 28,
    "start_time": "2023-06-29T18:07:51.486Z"
   },
   {
    "duration": 819,
    "start_time": "2023-06-29T18:07:51.516Z"
   },
   {
    "duration": 87860,
    "start_time": "2023-06-29T18:12:15.161Z"
   },
   {
    "duration": 27984,
    "start_time": "2023-06-29T18:19:27.144Z"
   },
   {
    "duration": 1898,
    "start_time": "2023-06-29T18:24:59.785Z"
   },
   {
    "duration": 1735,
    "start_time": "2023-06-29T18:26:23.998Z"
   },
   {
    "duration": 1670,
    "start_time": "2023-06-29T18:44:11.384Z"
   },
   {
    "duration": 1956,
    "start_time": "2023-06-30T03:12:35.532Z"
   },
   {
    "duration": 99,
    "start_time": "2023-06-30T03:12:37.490Z"
   },
   {
    "duration": 31,
    "start_time": "2023-06-30T03:12:37.590Z"
   },
   {
    "duration": 21,
    "start_time": "2023-06-30T03:12:37.622Z"
   },
   {
    "duration": 12,
    "start_time": "2023-06-30T03:12:37.646Z"
   },
   {
    "duration": 9,
    "start_time": "2023-06-30T03:12:37.660Z"
   },
   {
    "duration": 10,
    "start_time": "2023-06-30T03:12:37.670Z"
   },
   {
    "duration": 44,
    "start_time": "2023-06-30T03:12:37.705Z"
   },
   {
    "duration": 4,
    "start_time": "2023-06-30T03:12:37.751Z"
   },
   {
    "duration": 5,
    "start_time": "2023-06-30T03:12:37.757Z"
   },
   {
    "duration": 15,
    "start_time": "2023-06-30T03:12:37.763Z"
   },
   {
    "duration": 48,
    "start_time": "2023-06-30T03:12:37.779Z"
   },
   {
    "duration": 162,
    "start_time": "2023-06-30T03:12:37.829Z"
   },
   {
    "duration": 839,
    "start_time": "2023-06-30T03:12:37.994Z"
   },
   {
    "duration": 192,
    "start_time": "2023-06-30T03:12:38.834Z"
   },
   {
    "duration": 10,
    "start_time": "2023-06-30T03:12:39.027Z"
   },
   {
    "duration": 40,
    "start_time": "2023-06-30T03:12:39.038Z"
   },
   {
    "duration": 39,
    "start_time": "2023-06-30T03:12:39.079Z"
   },
   {
    "duration": 18,
    "start_time": "2023-06-30T03:12:39.123Z"
   },
   {
    "duration": 27,
    "start_time": "2023-06-30T03:12:39.143Z"
   },
   {
    "duration": 73,
    "start_time": "2023-06-30T03:12:39.171Z"
   },
   {
    "duration": 11,
    "start_time": "2023-06-30T03:12:39.246Z"
   },
   {
    "duration": 12,
    "start_time": "2023-06-30T03:12:39.258Z"
   },
   {
    "duration": 4,
    "start_time": "2023-06-30T03:12:39.271Z"
   },
   {
    "duration": 334,
    "start_time": "2023-06-30T03:12:39.276Z"
   },
   {
    "duration": 19,
    "start_time": "2023-06-30T03:12:39.611Z"
   },
   {
    "duration": 114,
    "start_time": "2023-06-30T03:12:39.631Z"
   },
   {
    "duration": 874,
    "start_time": "2023-06-30T03:12:39.747Z"
   },
   {
    "duration": 828,
    "start_time": "2023-06-30T03:12:40.624Z"
   },
   {
    "duration": 3,
    "start_time": "2023-06-30T03:12:41.454Z"
   },
   {
    "duration": 11,
    "start_time": "2023-06-30T03:12:41.458Z"
   },
   {
    "duration": 64,
    "start_time": "2023-06-30T03:12:41.470Z"
   },
   {
    "duration": 413,
    "start_time": "2023-06-30T03:12:41.536Z"
   },
   {
    "duration": 29,
    "start_time": "2023-06-30T03:12:41.950Z"
   },
   {
    "duration": 1070,
    "start_time": "2023-06-30T03:12:41.980Z"
   },
   {
    "duration": 77,
    "start_time": "2023-06-30T03:12:43.052Z"
   },
   {
    "duration": 65990,
    "start_time": "2023-06-30T03:12:43.131Z"
   },
   {
    "duration": 38,
    "start_time": "2023-06-30T03:13:49.126Z"
   },
   {
    "duration": 7,
    "start_time": "2023-06-30T03:13:49.165Z"
   },
   {
    "duration": 8,
    "start_time": "2023-06-30T03:13:49.173Z"
   },
   {
    "duration": 45,
    "start_time": "2023-06-30T03:13:49.184Z"
   },
   {
    "duration": 8,
    "start_time": "2023-06-30T03:13:49.231Z"
   },
   {
    "duration": 71,
    "start_time": "2023-06-30T03:13:49.241Z"
   },
   {
    "duration": 7,
    "start_time": "2023-06-30T03:13:49.314Z"
   },
   {
    "duration": 310,
    "start_time": "2023-06-30T03:13:49.323Z"
   },
   {
    "duration": 184,
    "start_time": "2023-06-30T03:13:49.638Z"
   },
   {
    "duration": 306,
    "start_time": "2023-06-30T03:13:49.826Z"
   },
   {
    "duration": 13,
    "start_time": "2023-06-30T03:13:50.134Z"
   },
   {
    "duration": 66,
    "start_time": "2023-06-30T03:13:50.149Z"
   },
   {
    "duration": 24,
    "start_time": "2023-06-30T03:13:50.217Z"
   },
   {
    "duration": 1094,
    "start_time": "2023-06-30T03:13:50.243Z"
   },
   {
    "duration": 626,
    "start_time": "2023-06-30T03:13:51.338Z"
   },
   {
    "duration": 1569,
    "start_time": "2023-06-30T03:13:51.965Z"
   },
   {
    "duration": 72671,
    "start_time": "2023-06-30T03:13:53.538Z"
   },
   {
    "duration": 18,
    "start_time": "2023-06-30T03:15:06.218Z"
   },
   {
    "duration": 27,
    "start_time": "2023-06-30T03:15:06.238Z"
   },
   {
    "duration": 20,
    "start_time": "2023-06-30T03:15:06.266Z"
   },
   {
    "duration": 439,
    "start_time": "2023-06-30T03:15:06.287Z"
   },
   {
    "duration": 294,
    "start_time": "2023-06-30T03:15:06.727Z"
   },
   {
    "duration": 598,
    "start_time": "2023-06-30T03:15:07.031Z"
   },
   {
    "duration": 29805,
    "start_time": "2023-06-30T03:15:07.632Z"
   },
   {
    "duration": 5,
    "start_time": "2023-06-30T03:15:37.439Z"
   },
   {
    "duration": 12,
    "start_time": "2023-06-30T03:15:37.445Z"
   },
   {
    "duration": 1834,
    "start_time": "2023-06-30T03:15:37.458Z"
   },
   {
    "duration": 48,
    "start_time": "2023-06-30T17:25:57.990Z"
   },
   {
    "duration": 8,
    "start_time": "2023-06-30T17:26:04.160Z"
   },
   {
    "duration": 1542,
    "start_time": "2023-06-30T17:26:11.836Z"
   },
   {
    "duration": 157,
    "start_time": "2023-06-30T17:26:13.380Z"
   },
   {
    "duration": 27,
    "start_time": "2023-06-30T17:26:13.539Z"
   },
   {
    "duration": 12,
    "start_time": "2023-06-30T17:26:13.568Z"
   },
   {
    "duration": 16,
    "start_time": "2023-06-30T17:26:13.582Z"
   },
   {
    "duration": 19,
    "start_time": "2023-06-30T17:26:13.600Z"
   },
   {
    "duration": 11,
    "start_time": "2023-06-30T17:26:13.621Z"
   },
   {
    "duration": 45,
    "start_time": "2023-06-30T17:26:13.634Z"
   },
   {
    "duration": 4,
    "start_time": "2023-06-30T17:26:13.680Z"
   },
   {
    "duration": 31,
    "start_time": "2023-06-30T17:26:13.686Z"
   },
   {
    "duration": 6,
    "start_time": "2023-06-30T17:26:13.719Z"
   },
   {
    "duration": 24,
    "start_time": "2023-06-30T17:26:13.727Z"
   },
   {
    "duration": 192,
    "start_time": "2023-06-30T17:26:13.753Z"
   },
   {
    "duration": 970,
    "start_time": "2023-06-30T17:26:13.947Z"
   },
   {
    "duration": 184,
    "start_time": "2023-06-30T17:26:14.919Z"
   },
   {
    "duration": 14,
    "start_time": "2023-06-30T17:26:15.105Z"
   },
   {
    "duration": 40,
    "start_time": "2023-06-30T17:26:15.121Z"
   },
   {
    "duration": 22,
    "start_time": "2023-06-30T17:26:15.163Z"
   },
   {
    "duration": 22,
    "start_time": "2023-06-30T17:26:15.187Z"
   },
   {
    "duration": 8,
    "start_time": "2023-06-30T17:26:15.211Z"
   },
   {
    "duration": 78,
    "start_time": "2023-06-30T17:26:15.221Z"
   },
   {
    "duration": 18,
    "start_time": "2023-06-30T17:26:15.301Z"
   },
   {
    "duration": 20,
    "start_time": "2023-06-30T17:26:15.320Z"
   },
   {
    "duration": 10,
    "start_time": "2023-06-30T17:26:15.341Z"
   },
   {
    "duration": 273,
    "start_time": "2023-06-30T17:26:15.352Z"
   },
   {
    "duration": 98,
    "start_time": "2023-06-30T17:26:15.715Z"
   },
   {
    "duration": 53,
    "start_time": "2023-06-30T17:26:15.815Z"
   },
   {
    "duration": 843,
    "start_time": "2023-06-30T17:26:15.872Z"
   },
   {
    "duration": 776,
    "start_time": "2023-06-30T17:26:16.718Z"
   },
   {
    "duration": 4,
    "start_time": "2023-06-30T17:26:17.496Z"
   },
   {
    "duration": 21,
    "start_time": "2023-06-30T17:26:17.501Z"
   },
   {
    "duration": 56,
    "start_time": "2023-06-30T17:26:17.523Z"
   },
   {
    "duration": 406,
    "start_time": "2023-06-30T17:26:17.581Z"
   },
   {
    "duration": 42,
    "start_time": "2023-06-30T17:26:17.989Z"
   },
   {
    "duration": 975,
    "start_time": "2023-06-30T17:26:18.033Z"
   },
   {
    "duration": 77,
    "start_time": "2023-06-30T17:26:19.013Z"
   },
   {
    "duration": 61202,
    "start_time": "2023-06-30T17:26:19.092Z"
   },
   {
    "duration": 43,
    "start_time": "2023-06-30T17:27:20.295Z"
   },
   {
    "duration": 8,
    "start_time": "2023-06-30T17:27:20.340Z"
   },
   {
    "duration": 29,
    "start_time": "2023-06-30T17:27:20.349Z"
   },
   {
    "duration": 29,
    "start_time": "2023-06-30T17:27:20.380Z"
   },
   {
    "duration": 8,
    "start_time": "2023-06-30T17:27:20.411Z"
   },
   {
    "duration": 93,
    "start_time": "2023-06-30T17:27:20.422Z"
   },
   {
    "duration": 98,
    "start_time": "2023-06-30T17:27:20.517Z"
   },
   {
    "duration": 108,
    "start_time": "2023-06-30T17:27:20.617Z"
   },
   {
    "duration": 101,
    "start_time": "2023-06-30T17:27:20.815Z"
   },
   {
    "duration": 314,
    "start_time": "2023-06-30T17:27:20.920Z"
   },
   {
    "duration": 13,
    "start_time": "2023-06-30T17:27:21.236Z"
   },
   {
    "duration": 57,
    "start_time": "2023-06-30T17:27:21.251Z"
   },
   {
    "duration": 25,
    "start_time": "2023-06-30T17:27:21.313Z"
   },
   {
    "duration": 1021,
    "start_time": "2023-06-30T17:27:21.340Z"
   },
   {
    "duration": 564,
    "start_time": "2023-06-30T17:27:22.363Z"
   },
   {
    "duration": 1504,
    "start_time": "2023-06-30T17:27:22.929Z"
   },
   {
    "duration": 0,
    "start_time": "2023-06-30T17:27:24.548Z"
   },
   {
    "duration": 0,
    "start_time": "2023-06-30T17:27:24.549Z"
   },
   {
    "duration": 0,
    "start_time": "2023-06-30T17:27:24.551Z"
   },
   {
    "duration": 0,
    "start_time": "2023-06-30T17:27:24.552Z"
   },
   {
    "duration": 0,
    "start_time": "2023-06-30T17:27:24.553Z"
   },
   {
    "duration": 0,
    "start_time": "2023-06-30T17:27:24.554Z"
   },
   {
    "duration": 0,
    "start_time": "2023-06-30T17:27:24.555Z"
   },
   {
    "duration": 0,
    "start_time": "2023-06-30T17:27:24.556Z"
   },
   {
    "duration": 0,
    "start_time": "2023-06-30T17:27:24.557Z"
   },
   {
    "duration": 0,
    "start_time": "2023-06-30T17:27:24.558Z"
   },
   {
    "duration": 0,
    "start_time": "2023-06-30T17:27:24.560Z"
   },
   {
    "duration": 12,
    "start_time": "2023-06-30T17:28:19.612Z"
   },
   {
    "duration": 85847,
    "start_time": "2023-06-30T17:28:37.596Z"
   },
   {
    "duration": 0,
    "start_time": "2023-06-30T17:40:33.691Z"
   },
   {
    "duration": 191,
    "start_time": "2023-06-30T17:41:28.969Z"
   },
   {
    "duration": 1312,
    "start_time": "2023-06-30T17:42:24.247Z"
   },
   {
    "duration": 41,
    "start_time": "2023-06-30T17:42:25.561Z"
   },
   {
    "duration": 29,
    "start_time": "2023-06-30T17:42:25.604Z"
   },
   {
    "duration": 14,
    "start_time": "2023-06-30T17:42:25.635Z"
   },
   {
    "duration": 21,
    "start_time": "2023-06-30T17:42:25.651Z"
   },
   {
    "duration": 18,
    "start_time": "2023-06-30T17:42:25.673Z"
   },
   {
    "duration": 25,
    "start_time": "2023-06-30T17:42:25.692Z"
   },
   {
    "duration": 42,
    "start_time": "2023-06-30T17:42:25.719Z"
   },
   {
    "duration": 4,
    "start_time": "2023-06-30T17:42:25.763Z"
   },
   {
    "duration": 13,
    "start_time": "2023-06-30T17:42:25.770Z"
   },
   {
    "duration": 12,
    "start_time": "2023-06-30T17:42:25.785Z"
   },
   {
    "duration": 25,
    "start_time": "2023-06-30T17:42:25.814Z"
   },
   {
    "duration": 168,
    "start_time": "2023-06-30T17:42:25.841Z"
   },
   {
    "duration": 1070,
    "start_time": "2023-06-30T17:42:26.013Z"
   },
   {
    "duration": 182,
    "start_time": "2023-06-30T17:42:27.085Z"
   },
   {
    "duration": 9,
    "start_time": "2023-06-30T17:42:27.269Z"
   },
   {
    "duration": 17,
    "start_time": "2023-06-30T17:42:27.280Z"
   },
   {
    "duration": 25,
    "start_time": "2023-06-30T17:42:27.299Z"
   },
   {
    "duration": 15,
    "start_time": "2023-06-30T17:42:27.326Z"
   },
   {
    "duration": 12,
    "start_time": "2023-06-30T17:42:27.343Z"
   },
   {
    "duration": 96,
    "start_time": "2023-06-30T17:42:27.356Z"
   },
   {
    "duration": 20,
    "start_time": "2023-06-30T17:42:27.454Z"
   },
   {
    "duration": 19,
    "start_time": "2023-06-30T17:42:27.476Z"
   },
   {
    "duration": 17,
    "start_time": "2023-06-30T17:42:27.497Z"
   },
   {
    "duration": 303,
    "start_time": "2023-06-30T17:42:27.516Z"
   },
   {
    "duration": 96,
    "start_time": "2023-06-30T17:42:27.821Z"
   },
   {
    "duration": 9,
    "start_time": "2023-06-30T17:42:27.919Z"
   },
   {
    "duration": 792,
    "start_time": "2023-06-30T17:42:27.932Z"
   },
   {
    "duration": 812,
    "start_time": "2023-06-30T17:42:28.812Z"
   },
   {
    "duration": 8,
    "start_time": "2023-06-30T17:42:29.626Z"
   },
   {
    "duration": 12,
    "start_time": "2023-06-30T17:42:29.636Z"
   },
   {
    "duration": 84,
    "start_time": "2023-06-30T17:42:29.650Z"
   },
   {
    "duration": 437,
    "start_time": "2023-06-30T17:42:29.736Z"
   },
   {
    "duration": 42,
    "start_time": "2023-06-30T17:42:30.175Z"
   },
   {
    "duration": 1009,
    "start_time": "2023-06-30T17:42:30.219Z"
   },
   {
    "duration": 88,
    "start_time": "2023-06-30T17:42:31.230Z"
   },
   {
    "duration": 61946,
    "start_time": "2023-06-30T17:42:31.319Z"
   },
   {
    "duration": 36,
    "start_time": "2023-06-30T17:43:33.266Z"
   },
   {
    "duration": 21,
    "start_time": "2023-06-30T17:43:33.303Z"
   },
   {
    "duration": 9,
    "start_time": "2023-06-30T17:43:33.327Z"
   },
   {
    "duration": 37,
    "start_time": "2023-06-30T17:43:33.338Z"
   },
   {
    "duration": 11,
    "start_time": "2023-06-30T17:43:33.377Z"
   },
   {
    "duration": 47,
    "start_time": "2023-06-30T17:43:33.389Z"
   },
   {
    "duration": 84,
    "start_time": "2023-06-30T17:43:33.438Z"
   },
   {
    "duration": 206,
    "start_time": "2023-06-30T17:43:33.524Z"
   },
   {
    "duration": 92,
    "start_time": "2023-06-30T17:43:33.733Z"
   },
   {
    "duration": 380,
    "start_time": "2023-06-30T17:43:33.827Z"
   },
   {
    "duration": 19,
    "start_time": "2023-06-30T17:43:34.212Z"
   },
   {
    "duration": 44,
    "start_time": "2023-06-30T17:43:34.233Z"
   },
   {
    "duration": 35,
    "start_time": "2023-06-30T17:43:34.278Z"
   },
   {
    "duration": 1032,
    "start_time": "2023-06-30T17:43:34.315Z"
   },
   {
    "duration": 576,
    "start_time": "2023-06-30T17:43:35.348Z"
   },
   {
    "duration": 1455,
    "start_time": "2023-06-30T17:43:35.926Z"
   },
   {
    "duration": 0,
    "start_time": "2023-06-30T17:43:37.688Z"
   },
   {
    "duration": 0,
    "start_time": "2023-06-30T17:43:37.689Z"
   },
   {
    "duration": 0,
    "start_time": "2023-06-30T17:43:37.691Z"
   },
   {
    "duration": 0,
    "start_time": "2023-06-30T17:43:37.692Z"
   },
   {
    "duration": 0,
    "start_time": "2023-06-30T17:43:37.693Z"
   },
   {
    "duration": 0,
    "start_time": "2023-06-30T17:43:37.694Z"
   },
   {
    "duration": 0,
    "start_time": "2023-06-30T17:43:37.696Z"
   },
   {
    "duration": 0,
    "start_time": "2023-06-30T17:43:37.713Z"
   },
   {
    "duration": 0,
    "start_time": "2023-06-30T17:43:37.715Z"
   },
   {
    "duration": 0,
    "start_time": "2023-06-30T17:43:37.716Z"
   },
   {
    "duration": 0,
    "start_time": "2023-06-30T17:43:37.718Z"
   },
   {
    "duration": 178,
    "start_time": "2023-06-30T17:44:37.292Z"
   },
   {
    "duration": 189,
    "start_time": "2023-06-30T17:45:02.847Z"
   },
   {
    "duration": 190,
    "start_time": "2023-06-30T17:45:13.613Z"
   },
   {
    "duration": 12,
    "start_time": "2023-06-30T17:45:18.537Z"
   },
   {
    "duration": 189,
    "start_time": "2023-06-30T17:45:28.174Z"
   },
   {
    "duration": 184,
    "start_time": "2023-06-30T17:45:32.507Z"
   },
   {
    "duration": 180,
    "start_time": "2023-06-30T17:45:35.385Z"
   },
   {
    "duration": 177,
    "start_time": "2023-06-30T17:46:08.562Z"
   },
   {
    "duration": 189,
    "start_time": "2023-06-30T17:46:11.399Z"
   },
   {
    "duration": 1491,
    "start_time": "2023-06-30T17:46:16.704Z"
   },
   {
    "duration": 192,
    "start_time": "2023-06-30T17:46:22.339Z"
   },
   {
    "duration": 89361,
    "start_time": "2023-06-30T17:46:54.600Z"
   },
   {
    "duration": 13,
    "start_time": "2023-06-30T17:55:22.794Z"
   },
   {
    "duration": 12,
    "start_time": "2023-06-30T17:55:36.514Z"
   },
   {
    "duration": 11,
    "start_time": "2023-06-30T17:56:08.227Z"
   },
   {
    "duration": 13,
    "start_time": "2023-06-30T17:56:13.195Z"
   },
   {
    "duration": 1435,
    "start_time": "2023-06-30T17:56:21.894Z"
   },
   {
    "duration": 42,
    "start_time": "2023-06-30T17:56:23.332Z"
   },
   {
    "duration": 29,
    "start_time": "2023-06-30T17:56:23.375Z"
   },
   {
    "duration": 14,
    "start_time": "2023-06-30T17:56:23.407Z"
   },
   {
    "duration": 22,
    "start_time": "2023-06-30T17:56:23.423Z"
   },
   {
    "duration": 10,
    "start_time": "2023-06-30T17:56:23.447Z"
   },
   {
    "duration": 20,
    "start_time": "2023-06-30T17:56:23.459Z"
   },
   {
    "duration": 94,
    "start_time": "2023-06-30T17:56:23.481Z"
   },
   {
    "duration": 4,
    "start_time": "2023-06-30T17:56:23.577Z"
   },
   {
    "duration": 8,
    "start_time": "2023-06-30T17:56:23.585Z"
   },
   {
    "duration": 18,
    "start_time": "2023-06-30T17:56:23.595Z"
   },
   {
    "duration": 18,
    "start_time": "2023-06-30T17:56:23.616Z"
   },
   {
    "duration": 201,
    "start_time": "2023-06-30T17:56:23.636Z"
   },
   {
    "duration": 979,
    "start_time": "2023-06-30T17:56:23.839Z"
   },
   {
    "duration": 187,
    "start_time": "2023-06-30T17:56:24.820Z"
   },
   {
    "duration": 11,
    "start_time": "2023-06-30T17:56:25.009Z"
   },
   {
    "duration": 14,
    "start_time": "2023-06-30T17:56:25.022Z"
   },
   {
    "duration": 17,
    "start_time": "2023-06-30T17:56:25.037Z"
   },
   {
    "duration": 108,
    "start_time": "2023-06-30T17:56:25.056Z"
   },
   {
    "duration": 4,
    "start_time": "2023-06-30T17:56:25.166Z"
   },
   {
    "duration": 16,
    "start_time": "2023-06-30T17:56:25.172Z"
   },
   {
    "duration": 35,
    "start_time": "2023-06-30T17:56:25.190Z"
   },
   {
    "duration": 18,
    "start_time": "2023-06-30T17:56:25.227Z"
   },
   {
    "duration": 5,
    "start_time": "2023-06-30T17:56:25.247Z"
   },
   {
    "duration": 369,
    "start_time": "2023-06-30T17:56:25.253Z"
   },
   {
    "duration": 91,
    "start_time": "2023-06-30T17:56:25.624Z"
   },
   {
    "duration": 13,
    "start_time": "2023-06-30T17:56:25.717Z"
   },
   {
    "duration": 884,
    "start_time": "2023-06-30T17:56:25.733Z"
   },
   {
    "duration": 915,
    "start_time": "2023-06-30T17:56:26.619Z"
   },
   {
    "duration": 4,
    "start_time": "2023-06-30T17:56:27.536Z"
   },
   {
    "duration": 24,
    "start_time": "2023-06-30T17:56:27.542Z"
   },
   {
    "duration": 67,
    "start_time": "2023-06-30T17:56:27.567Z"
   },
   {
    "duration": 417,
    "start_time": "2023-06-30T17:56:27.636Z"
   },
   {
    "duration": 36,
    "start_time": "2023-06-30T17:56:28.055Z"
   },
   {
    "duration": 1021,
    "start_time": "2023-06-30T17:56:28.094Z"
   },
   {
    "duration": 77,
    "start_time": "2023-06-30T17:56:29.117Z"
   },
   {
    "duration": 61231,
    "start_time": "2023-06-30T17:56:29.196Z"
   },
   {
    "duration": 37,
    "start_time": "2023-06-30T17:57:30.428Z"
   },
   {
    "duration": 38,
    "start_time": "2023-06-30T17:57:30.467Z"
   },
   {
    "duration": 44,
    "start_time": "2023-06-30T17:57:30.507Z"
   },
   {
    "duration": 75,
    "start_time": "2023-06-30T17:57:30.553Z"
   },
   {
    "duration": 10,
    "start_time": "2023-06-30T17:57:30.629Z"
   },
   {
    "duration": 81,
    "start_time": "2023-06-30T17:57:30.640Z"
   },
   {
    "duration": 194,
    "start_time": "2023-06-30T17:57:30.723Z"
   },
   {
    "duration": 201,
    "start_time": "2023-06-30T17:57:30.919Z"
   },
   {
    "duration": 99,
    "start_time": "2023-06-30T17:57:31.122Z"
   },
   {
    "duration": 347,
    "start_time": "2023-06-30T17:57:31.223Z"
   },
   {
    "duration": 13,
    "start_time": "2023-06-30T17:57:31.571Z"
   },
   {
    "duration": 62,
    "start_time": "2023-06-30T17:57:31.586Z"
   },
   {
    "duration": 23,
    "start_time": "2023-06-30T17:57:31.650Z"
   },
   {
    "duration": 1046,
    "start_time": "2023-06-30T17:57:31.674Z"
   },
   {
    "duration": 562,
    "start_time": "2023-06-30T17:57:32.722Z"
   },
   {
    "duration": 1487,
    "start_time": "2023-06-30T17:57:33.286Z"
   },
   {
    "duration": 89642,
    "start_time": "2023-06-30T17:57:34.775Z"
   },
   {
    "duration": 11,
    "start_time": "2023-06-30T17:59:04.418Z"
   },
   {
    "duration": 35,
    "start_time": "2023-06-30T17:59:04.431Z"
   },
   {
    "duration": 17,
    "start_time": "2023-06-30T17:59:04.468Z"
   },
   {
    "duration": 436,
    "start_time": "2023-06-30T17:59:04.486Z"
   },
   {
    "duration": 306,
    "start_time": "2023-06-30T17:59:04.924Z"
   },
   {
    "duration": 615,
    "start_time": "2023-06-30T17:59:05.231Z"
   },
   {
    "duration": 39851,
    "start_time": "2023-06-30T17:59:05.848Z"
   },
   {
    "duration": 6,
    "start_time": "2023-06-30T18:01:13.798Z"
   },
   {
    "duration": 11,
    "start_time": "2023-06-30T18:01:13.812Z"
   },
   {
    "duration": 1834,
    "start_time": "2023-06-30T18:01:13.824Z"
   },
   {
    "duration": 112862,
    "start_time": "2023-06-30T18:01:15.663Z"
   },
   {
    "duration": 1272,
    "start_time": "2023-06-30T18:03:10.962Z"
   },
   {
    "duration": 344,
    "start_time": "2023-06-30T18:12:33.026Z"
   },
   {
    "duration": 51,
    "start_time": "2023-06-30T18:13:12.907Z"
   },
   {
    "duration": 1100,
    "start_time": "2023-06-30T18:20:09.308Z"
   },
   {
    "duration": 1324,
    "start_time": "2023-06-30T18:26:01.325Z"
   },
   {
    "duration": 0,
    "start_time": "2023-06-30T18:29:58.185Z"
   },
   {
    "duration": 0,
    "start_time": "2023-06-30T18:29:58.187Z"
   },
   {
    "duration": 107048,
    "start_time": "2023-06-30T18:34:21.179Z"
   },
   {
    "duration": 106388,
    "start_time": "2023-06-30T18:36:45.262Z"
   },
   {
    "duration": 1368,
    "start_time": "2023-06-30T18:38:49.786Z"
   },
   {
    "duration": 41,
    "start_time": "2023-06-30T18:38:51.156Z"
   },
   {
    "duration": 25,
    "start_time": "2023-06-30T18:38:51.199Z"
   },
   {
    "duration": 31,
    "start_time": "2023-06-30T18:38:51.226Z"
   },
   {
    "duration": 36,
    "start_time": "2023-06-30T18:38:51.259Z"
   },
   {
    "duration": 8,
    "start_time": "2023-06-30T18:38:51.297Z"
   },
   {
    "duration": 12,
    "start_time": "2023-06-30T18:38:51.307Z"
   },
   {
    "duration": 42,
    "start_time": "2023-06-30T18:38:51.321Z"
   },
   {
    "duration": 5,
    "start_time": "2023-06-30T18:38:51.364Z"
   },
   {
    "duration": 12,
    "start_time": "2023-06-30T18:38:51.371Z"
   },
   {
    "duration": 8,
    "start_time": "2023-06-30T18:38:51.384Z"
   },
   {
    "duration": 31,
    "start_time": "2023-06-30T18:38:51.393Z"
   },
   {
    "duration": 185,
    "start_time": "2023-06-30T18:38:51.425Z"
   },
   {
    "duration": 932,
    "start_time": "2023-06-30T18:38:51.613Z"
   },
   {
    "duration": 182,
    "start_time": "2023-06-30T18:38:52.546Z"
   },
   {
    "duration": 10,
    "start_time": "2023-06-30T18:38:52.730Z"
   },
   {
    "duration": 36,
    "start_time": "2023-06-30T18:38:52.742Z"
   },
   {
    "duration": 12,
    "start_time": "2023-06-30T18:38:52.780Z"
   },
   {
    "duration": 98,
    "start_time": "2023-06-30T18:38:52.794Z"
   },
   {
    "duration": 4,
    "start_time": "2023-06-30T18:38:52.894Z"
   },
   {
    "duration": 20,
    "start_time": "2023-06-30T18:38:52.900Z"
   },
   {
    "duration": 14,
    "start_time": "2023-06-30T18:38:52.921Z"
   },
   {
    "duration": 14,
    "start_time": "2023-06-30T18:38:52.937Z"
   },
   {
    "duration": 4,
    "start_time": "2023-06-30T18:38:52.953Z"
   },
   {
    "duration": 356,
    "start_time": "2023-06-30T18:38:52.959Z"
   },
   {
    "duration": 98,
    "start_time": "2023-06-30T18:38:53.316Z"
   },
   {
    "duration": 5,
    "start_time": "2023-06-30T18:38:53.416Z"
   },
   {
    "duration": 790,
    "start_time": "2023-06-30T18:38:53.425Z"
   },
   {
    "duration": 839,
    "start_time": "2023-06-30T18:38:54.216Z"
   },
   {
    "duration": 4,
    "start_time": "2023-06-30T18:38:55.057Z"
   },
   {
    "duration": 24,
    "start_time": "2023-06-30T18:38:55.063Z"
   },
   {
    "duration": 62,
    "start_time": "2023-06-30T18:38:55.089Z"
   },
   {
    "duration": 393,
    "start_time": "2023-06-30T18:38:55.153Z"
   },
   {
    "duration": 36,
    "start_time": "2023-06-30T18:38:55.548Z"
   },
   {
    "duration": 990,
    "start_time": "2023-06-30T18:38:55.585Z"
   },
   {
    "duration": 82,
    "start_time": "2023-06-30T18:38:56.577Z"
   },
   {
    "duration": 61480,
    "start_time": "2023-06-30T18:38:56.660Z"
   },
   {
    "duration": 39,
    "start_time": "2023-06-30T18:39:58.143Z"
   },
   {
    "duration": 9,
    "start_time": "2023-06-30T18:39:58.183Z"
   },
   {
    "duration": 28,
    "start_time": "2023-06-30T18:39:58.194Z"
   },
   {
    "duration": 30,
    "start_time": "2023-06-30T18:39:58.224Z"
   },
   {
    "duration": 10,
    "start_time": "2023-06-30T18:39:58.256Z"
   },
   {
    "duration": 52,
    "start_time": "2023-06-30T18:39:58.268Z"
   },
   {
    "duration": 93,
    "start_time": "2023-06-30T18:39:58.322Z"
   },
   {
    "duration": 203,
    "start_time": "2023-06-30T18:39:58.417Z"
   },
   {
    "duration": 193,
    "start_time": "2023-06-30T18:39:58.621Z"
   },
   {
    "duration": 303,
    "start_time": "2023-06-30T18:39:58.816Z"
   },
   {
    "duration": 12,
    "start_time": "2023-06-30T18:39:59.121Z"
   },
   {
    "duration": 46,
    "start_time": "2023-06-30T18:39:59.135Z"
   },
   {
    "duration": 43,
    "start_time": "2023-06-30T18:39:59.183Z"
   },
   {
    "duration": 1086,
    "start_time": "2023-06-30T18:39:59.228Z"
   },
   {
    "duration": 566,
    "start_time": "2023-06-30T18:40:00.316Z"
   },
   {
    "duration": 1471,
    "start_time": "2023-06-30T18:40:00.884Z"
   },
   {
    "duration": 0,
    "start_time": "2023-06-30T18:41:30.700Z"
   },
   {
    "duration": 0,
    "start_time": "2023-06-30T18:41:30.701Z"
   },
   {
    "duration": 0,
    "start_time": "2023-06-30T18:41:30.702Z"
   },
   {
    "duration": 0,
    "start_time": "2023-06-30T18:41:30.704Z"
   },
   {
    "duration": 0,
    "start_time": "2023-06-30T18:41:30.705Z"
   },
   {
    "duration": 0,
    "start_time": "2023-06-30T18:41:30.713Z"
   },
   {
    "duration": 0,
    "start_time": "2023-06-30T18:41:30.714Z"
   },
   {
    "duration": 0,
    "start_time": "2023-06-30T18:41:30.716Z"
   },
   {
    "duration": 0,
    "start_time": "2023-06-30T18:41:30.717Z"
   },
   {
    "duration": 0,
    "start_time": "2023-06-30T18:41:30.718Z"
   },
   {
    "duration": 0,
    "start_time": "2023-06-30T18:41:30.718Z"
   },
   {
    "duration": 0,
    "start_time": "2023-06-30T18:41:30.719Z"
   },
   {
    "duration": 87872,
    "start_time": "2023-06-30T18:41:55.202Z"
   },
   {
    "duration": 88566,
    "start_time": "2023-06-30T18:44:45.855Z"
   },
   {
    "duration": 0,
    "start_time": "2023-06-30T18:46:14.424Z"
   },
   {
    "duration": 1474,
    "start_time": "2023-06-30T18:46:29.410Z"
   },
   {
    "duration": 42,
    "start_time": "2023-06-30T18:46:30.886Z"
   },
   {
    "duration": 26,
    "start_time": "2023-06-30T18:46:30.930Z"
   },
   {
    "duration": 40,
    "start_time": "2023-06-30T18:46:30.958Z"
   },
   {
    "duration": 43,
    "start_time": "2023-06-30T18:46:31.000Z"
   },
   {
    "duration": 44,
    "start_time": "2023-06-30T18:46:31.045Z"
   },
   {
    "duration": 41,
    "start_time": "2023-06-30T18:46:31.091Z"
   },
   {
    "duration": 101,
    "start_time": "2023-06-30T18:46:31.134Z"
   },
   {
    "duration": 163,
    "start_time": "2023-06-30T18:46:31.237Z"
   },
   {
    "duration": 108,
    "start_time": "2023-06-30T18:46:31.403Z"
   },
   {
    "duration": 25,
    "start_time": "2023-06-30T18:46:31.513Z"
   },
   {
    "duration": 90,
    "start_time": "2023-06-30T18:46:31.540Z"
   },
   {
    "duration": 252,
    "start_time": "2023-06-30T18:46:31.632Z"
   },
   {
    "duration": 1019,
    "start_time": "2023-06-30T18:46:31.885Z"
   },
   {
    "duration": 196,
    "start_time": "2023-06-30T18:46:32.905Z"
   },
   {
    "duration": 20,
    "start_time": "2023-06-30T18:46:33.103Z"
   },
   {
    "duration": 30,
    "start_time": "2023-06-30T18:46:33.125Z"
   },
   {
    "duration": 36,
    "start_time": "2023-06-30T18:46:33.157Z"
   },
   {
    "duration": 37,
    "start_time": "2023-06-30T18:46:33.195Z"
   },
   {
    "duration": 44,
    "start_time": "2023-06-30T18:46:33.234Z"
   },
   {
    "duration": 9,
    "start_time": "2023-06-30T18:46:33.363Z"
   },
   {
    "duration": 43,
    "start_time": "2023-06-30T18:46:33.374Z"
   },
   {
    "duration": 36,
    "start_time": "2023-06-30T18:46:33.419Z"
   },
   {
    "duration": 6,
    "start_time": "2023-06-30T18:46:33.457Z"
   },
   {
    "duration": 285,
    "start_time": "2023-06-30T18:46:33.464Z"
   },
   {
    "duration": 6,
    "start_time": "2023-06-30T18:46:33.816Z"
   },
   {
    "duration": 100,
    "start_time": "2023-06-30T18:46:33.824Z"
   },
   {
    "duration": 787,
    "start_time": "2023-06-30T18:46:33.929Z"
   },
   {
    "duration": 910,
    "start_time": "2023-06-30T18:46:34.722Z"
   },
   {
    "duration": 5,
    "start_time": "2023-06-30T18:46:35.635Z"
   },
   {
    "duration": 23,
    "start_time": "2023-06-30T18:46:35.642Z"
   },
   {
    "duration": 60,
    "start_time": "2023-06-30T18:46:35.667Z"
   },
   {
    "duration": 401,
    "start_time": "2023-06-30T18:46:35.729Z"
   },
   {
    "duration": 38,
    "start_time": "2023-06-30T18:46:36.132Z"
   },
   {
    "duration": 1051,
    "start_time": "2023-06-30T18:46:36.172Z"
   },
   {
    "duration": 74,
    "start_time": "2023-06-30T18:46:37.225Z"
   },
   {
    "duration": 61380,
    "start_time": "2023-06-30T18:46:37.301Z"
   },
   {
    "duration": 45,
    "start_time": "2023-06-30T18:47:38.683Z"
   },
   {
    "duration": 9,
    "start_time": "2023-06-30T18:47:38.730Z"
   },
   {
    "duration": 9,
    "start_time": "2023-06-30T18:47:38.741Z"
   },
   {
    "duration": 21,
    "start_time": "2023-06-30T18:47:38.752Z"
   },
   {
    "duration": 39,
    "start_time": "2023-06-30T18:47:38.775Z"
   },
   {
    "duration": 24,
    "start_time": "2023-06-30T18:47:38.816Z"
   },
   {
    "duration": 80,
    "start_time": "2023-06-30T18:47:38.841Z"
   },
   {
    "duration": 303,
    "start_time": "2023-06-30T18:47:38.923Z"
   },
   {
    "duration": 101,
    "start_time": "2023-06-30T18:47:39.314Z"
   },
   {
    "duration": 368,
    "start_time": "2023-06-30T18:47:39.421Z"
   },
   {
    "duration": 24,
    "start_time": "2023-06-30T18:47:39.791Z"
   },
   {
    "duration": 60,
    "start_time": "2023-06-30T18:47:39.818Z"
   },
   {
    "duration": 52,
    "start_time": "2023-06-30T18:47:39.880Z"
   },
   {
    "duration": 1108,
    "start_time": "2023-06-30T18:47:39.935Z"
   },
   {
    "duration": 605,
    "start_time": "2023-06-30T18:47:41.045Z"
   },
   {
    "duration": 1487,
    "start_time": "2023-06-30T18:47:41.651Z"
   },
   {
    "duration": 0,
    "start_time": "2023-06-30T18:49:14.928Z"
   },
   {
    "duration": 0,
    "start_time": "2023-06-30T18:49:14.929Z"
   },
   {
    "duration": 0,
    "start_time": "2023-06-30T18:49:14.931Z"
   },
   {
    "duration": 0,
    "start_time": "2023-06-30T18:49:14.932Z"
   },
   {
    "duration": 0,
    "start_time": "2023-06-30T18:49:14.934Z"
   },
   {
    "duration": 0,
    "start_time": "2023-06-30T18:49:14.935Z"
   },
   {
    "duration": 0,
    "start_time": "2023-06-30T18:49:14.936Z"
   },
   {
    "duration": 0,
    "start_time": "2023-06-30T18:49:14.938Z"
   },
   {
    "duration": 0,
    "start_time": "2023-06-30T18:49:14.939Z"
   },
   {
    "duration": 0,
    "start_time": "2023-06-30T18:49:14.940Z"
   },
   {
    "duration": 0,
    "start_time": "2023-06-30T18:49:14.941Z"
   },
   {
    "duration": 0,
    "start_time": "2023-06-30T18:49:14.942Z"
   },
   {
    "duration": 92682,
    "start_time": "2023-06-30T18:50:30.457Z"
   },
   {
    "duration": 89959,
    "start_time": "2023-06-30T18:52:29.269Z"
   },
   {
    "duration": 12,
    "start_time": "2023-06-30T18:54:20.154Z"
   },
   {
    "duration": 12,
    "start_time": "2023-06-30T18:54:25.744Z"
   },
   {
    "duration": 12,
    "start_time": "2023-06-30T18:54:39.380Z"
   },
   {
    "duration": 1522,
    "start_time": "2023-06-30T18:54:48.387Z"
   },
   {
    "duration": 42,
    "start_time": "2023-06-30T18:54:49.911Z"
   },
   {
    "duration": 25,
    "start_time": "2023-06-30T18:54:49.955Z"
   },
   {
    "duration": 13,
    "start_time": "2023-06-30T18:54:49.982Z"
   },
   {
    "duration": 15,
    "start_time": "2023-06-30T18:54:49.997Z"
   },
   {
    "duration": 8,
    "start_time": "2023-06-30T18:54:50.014Z"
   },
   {
    "duration": 12,
    "start_time": "2023-06-30T18:54:50.024Z"
   },
   {
    "duration": 44,
    "start_time": "2023-06-30T18:54:50.037Z"
   },
   {
    "duration": 4,
    "start_time": "2023-06-30T18:54:50.082Z"
   },
   {
    "duration": 31,
    "start_time": "2023-06-30T18:54:50.088Z"
   },
   {
    "duration": 9,
    "start_time": "2023-06-30T18:54:50.120Z"
   },
   {
    "duration": 121,
    "start_time": "2023-06-30T18:54:50.131Z"
   },
   {
    "duration": 263,
    "start_time": "2023-06-30T18:54:50.254Z"
   },
   {
    "duration": 940,
    "start_time": "2023-06-30T18:54:50.520Z"
   },
   {
    "duration": 200,
    "start_time": "2023-06-30T18:54:51.463Z"
   },
   {
    "duration": 10,
    "start_time": "2023-06-30T18:54:51.665Z"
   },
   {
    "duration": 35,
    "start_time": "2023-06-30T18:54:51.677Z"
   },
   {
    "duration": 22,
    "start_time": "2023-06-30T18:54:51.713Z"
   },
   {
    "duration": 30,
    "start_time": "2023-06-30T18:54:51.737Z"
   },
   {
    "duration": 6,
    "start_time": "2023-06-30T18:54:51.769Z"
   },
   {
    "duration": 9,
    "start_time": "2023-06-30T18:54:51.856Z"
   },
   {
    "duration": 40,
    "start_time": "2023-06-30T18:54:51.867Z"
   },
   {
    "duration": 42,
    "start_time": "2023-06-30T18:54:51.908Z"
   },
   {
    "duration": 19,
    "start_time": "2023-06-30T18:54:51.952Z"
   },
   {
    "duration": 283,
    "start_time": "2023-06-30T18:54:51.973Z"
   },
   {
    "duration": 61,
    "start_time": "2023-06-30T18:54:52.257Z"
   },
   {
    "duration": 6,
    "start_time": "2023-06-30T18:54:52.412Z"
   },
   {
    "duration": 792,
    "start_time": "2023-06-30T18:54:52.423Z"
   },
   {
    "duration": 828,
    "start_time": "2023-06-30T18:54:53.217Z"
   },
   {
    "duration": 3,
    "start_time": "2023-06-30T18:54:54.047Z"
   },
   {
    "duration": 17,
    "start_time": "2023-06-30T18:54:54.052Z"
   },
   {
    "duration": 84,
    "start_time": "2023-06-30T18:54:54.071Z"
   },
   {
    "duration": 400,
    "start_time": "2023-06-30T18:54:54.157Z"
   },
   {
    "duration": 38,
    "start_time": "2023-06-30T18:54:54.559Z"
   },
   {
    "duration": 1000,
    "start_time": "2023-06-30T18:54:54.599Z"
   },
   {
    "duration": 88,
    "start_time": "2023-06-30T18:54:55.601Z"
   },
   {
    "duration": 63004,
    "start_time": "2023-06-30T18:54:55.691Z"
   },
   {
    "duration": 43,
    "start_time": "2023-06-30T18:55:58.697Z"
   },
   {
    "duration": 8,
    "start_time": "2023-06-30T18:55:58.742Z"
   },
   {
    "duration": 25,
    "start_time": "2023-06-30T18:55:58.751Z"
   },
   {
    "duration": 34,
    "start_time": "2023-06-30T18:55:58.777Z"
   },
   {
    "duration": 10,
    "start_time": "2023-06-30T18:55:58.812Z"
   },
   {
    "duration": 90,
    "start_time": "2023-06-30T18:55:58.824Z"
   },
   {
    "duration": 103,
    "start_time": "2023-06-30T18:55:58.916Z"
   },
   {
    "duration": 294,
    "start_time": "2023-06-30T18:55:59.021Z"
   },
   {
    "duration": 106,
    "start_time": "2023-06-30T18:55:59.321Z"
   },
   {
    "duration": 345,
    "start_time": "2023-06-30T18:55:59.513Z"
   },
   {
    "duration": 11,
    "start_time": "2023-06-30T18:55:59.860Z"
   },
   {
    "duration": 68,
    "start_time": "2023-06-30T18:55:59.872Z"
   },
   {
    "duration": 31,
    "start_time": "2023-06-30T18:55:59.942Z"
   },
   {
    "duration": 1043,
    "start_time": "2023-06-30T18:55:59.975Z"
   },
   {
    "duration": 566,
    "start_time": "2023-06-30T18:56:01.020Z"
   },
   {
    "duration": 1496,
    "start_time": "2023-06-30T18:56:01.588Z"
   },
   {
    "duration": 88766,
    "start_time": "2023-06-30T18:56:03.086Z"
   },
   {
    "duration": 11,
    "start_time": "2023-06-30T18:57:31.855Z"
   },
   {
    "duration": 38,
    "start_time": "2023-06-30T18:57:31.868Z"
   },
   {
    "duration": 21,
    "start_time": "2023-06-30T18:57:31.908Z"
   },
   {
    "duration": 488,
    "start_time": "2023-06-30T18:57:31.931Z"
   },
   {
    "duration": 326,
    "start_time": "2023-06-30T18:57:32.421Z"
   },
   {
    "duration": 667,
    "start_time": "2023-06-30T18:57:32.750Z"
   },
   {
    "duration": 5,
    "start_time": "2023-06-30T18:58:16.524Z"
   },
   {
    "duration": 13,
    "start_time": "2023-06-30T18:58:16.531Z"
   },
   {
    "duration": 1175,
    "start_time": "2023-06-30T18:58:16.546Z"
   },
   {
    "duration": 1445,
    "start_time": "2023-06-30T18:58:17.723Z"
   },
   {
    "duration": 41303,
    "start_time": "2023-06-30T18:59:02.198Z"
   },
   {
    "duration": 1198,
    "start_time": "2023-06-30T19:03:49.221Z"
   },
   {
    "duration": 1759,
    "start_time": "2023-07-01T06:29:21.308Z"
   },
   {
    "duration": 77,
    "start_time": "2023-07-01T06:29:23.069Z"
   },
   {
    "duration": 21,
    "start_time": "2023-07-01T06:29:23.148Z"
   },
   {
    "duration": 11,
    "start_time": "2023-07-01T06:29:23.171Z"
   },
   {
    "duration": 12,
    "start_time": "2023-07-01T06:29:23.183Z"
   },
   {
    "duration": 8,
    "start_time": "2023-07-01T06:29:23.196Z"
   },
   {
    "duration": 11,
    "start_time": "2023-07-01T06:29:23.205Z"
   },
   {
    "duration": 39,
    "start_time": "2023-07-01T06:29:23.217Z"
   },
   {
    "duration": 3,
    "start_time": "2023-07-01T06:29:23.258Z"
   },
   {
    "duration": 10,
    "start_time": "2023-07-01T06:29:23.264Z"
   },
   {
    "duration": 8,
    "start_time": "2023-07-01T06:29:23.275Z"
   },
   {
    "duration": 11,
    "start_time": "2023-07-01T06:29:23.300Z"
   },
   {
    "duration": 160,
    "start_time": "2023-07-01T06:29:23.313Z"
   },
   {
    "duration": 804,
    "start_time": "2023-07-01T06:29:23.475Z"
   },
   {
    "duration": 164,
    "start_time": "2023-07-01T06:29:24.281Z"
   },
   {
    "duration": 10,
    "start_time": "2023-07-01T06:29:24.447Z"
   },
   {
    "duration": 24,
    "start_time": "2023-07-01T06:29:24.458Z"
   },
   {
    "duration": 45,
    "start_time": "2023-07-01T06:29:24.483Z"
   },
   {
    "duration": 49,
    "start_time": "2023-07-01T06:29:24.530Z"
   },
   {
    "duration": 18,
    "start_time": "2023-07-01T06:29:24.581Z"
   },
   {
    "duration": 9,
    "start_time": "2023-07-01T06:29:24.661Z"
   },
   {
    "duration": 15,
    "start_time": "2023-07-01T06:29:24.671Z"
   },
   {
    "duration": 15,
    "start_time": "2023-07-01T06:29:24.699Z"
   },
   {
    "duration": 5,
    "start_time": "2023-07-01T06:29:24.715Z"
   },
   {
    "duration": 289,
    "start_time": "2023-07-01T06:29:24.721Z"
   },
   {
    "duration": 91,
    "start_time": "2023-07-01T06:29:25.012Z"
   },
   {
    "duration": 95,
    "start_time": "2023-07-01T06:29:25.105Z"
   },
   {
    "duration": 804,
    "start_time": "2023-07-01T06:29:25.203Z"
   },
   {
    "duration": 838,
    "start_time": "2023-07-01T06:29:26.009Z"
   },
   {
    "duration": 4,
    "start_time": "2023-07-01T06:29:26.849Z"
   },
   {
    "duration": 20,
    "start_time": "2023-07-01T06:29:26.854Z"
   },
   {
    "duration": 55,
    "start_time": "2023-07-01T06:29:26.876Z"
   },
   {
    "duration": 377,
    "start_time": "2023-07-01T06:29:26.934Z"
   },
   {
    "duration": 27,
    "start_time": "2023-07-01T06:29:27.312Z"
   },
   {
    "duration": 1011,
    "start_time": "2023-07-01T06:29:27.340Z"
   },
   {
    "duration": 65,
    "start_time": "2023-07-01T06:29:28.353Z"
   },
   {
    "duration": 59569,
    "start_time": "2023-07-01T06:29:28.419Z"
   },
   {
    "duration": 39,
    "start_time": "2023-07-01T06:30:27.989Z"
   },
   {
    "duration": 8,
    "start_time": "2023-07-01T06:30:28.029Z"
   },
   {
    "duration": 12,
    "start_time": "2023-07-01T06:30:28.038Z"
   },
   {
    "duration": 19,
    "start_time": "2023-07-01T06:30:28.051Z"
   },
   {
    "duration": 35,
    "start_time": "2023-07-01T06:30:28.071Z"
   },
   {
    "duration": 100,
    "start_time": "2023-07-01T06:30:28.108Z"
   },
   {
    "duration": 100,
    "start_time": "2023-07-01T06:30:28.210Z"
   },
   {
    "duration": 188,
    "start_time": "2023-07-01T06:30:28.312Z"
   },
   {
    "duration": 99,
    "start_time": "2023-07-01T06:30:28.502Z"
   },
   {
    "duration": 303,
    "start_time": "2023-07-01T06:30:28.602Z"
   },
   {
    "duration": 10,
    "start_time": "2023-07-01T06:30:28.906Z"
   },
   {
    "duration": 45,
    "start_time": "2023-07-01T06:30:28.917Z"
   },
   {
    "duration": 40,
    "start_time": "2023-07-01T06:30:28.964Z"
   },
   {
    "duration": 1020,
    "start_time": "2023-07-01T06:30:29.005Z"
   },
   {
    "duration": 544,
    "start_time": "2023-07-01T06:30:30.027Z"
   },
   {
    "duration": 1429,
    "start_time": "2023-07-01T06:30:30.572Z"
   },
   {
    "duration": 85161,
    "start_time": "2023-07-01T06:30:32.002Z"
   },
   {
    "duration": 11,
    "start_time": "2023-07-01T06:31:57.167Z"
   },
   {
    "duration": 32,
    "start_time": "2023-07-01T06:31:57.179Z"
   },
   {
    "duration": 15,
    "start_time": "2023-07-01T06:31:57.212Z"
   },
   {
    "duration": 401,
    "start_time": "2023-07-01T06:31:57.228Z"
   },
   {
    "duration": 258,
    "start_time": "2023-07-01T06:31:57.630Z"
   },
   {
    "duration": 572,
    "start_time": "2023-07-01T06:31:57.890Z"
   },
   {
    "duration": 37666,
    "start_time": "2023-07-01T06:31:58.463Z"
   },
   {
    "duration": 5,
    "start_time": "2023-07-01T06:32:36.132Z"
   },
   {
    "duration": 32,
    "start_time": "2023-07-01T06:32:36.139Z"
   },
   {
    "duration": 1115,
    "start_time": "2023-07-01T06:32:36.173Z"
   }
  ],
  "kernelspec": {
   "display_name": "Python 3 (ipykernel)",
   "language": "python",
   "name": "python3"
  },
  "language_info": {
   "codemirror_mode": {
    "name": "ipython",
    "version": 3
   },
   "file_extension": ".py",
   "mimetype": "text/x-python",
   "name": "python",
   "nbconvert_exporter": "python",
   "pygments_lexer": "ipython3",
   "version": "3.9.5"
  },
  "toc": {
   "base_numbering": 1,
   "nav_menu": {},
   "number_sections": true,
   "sideBar": true,
   "skip_h1_title": true,
   "title_cell": "Содержание",
   "title_sidebar": "Contents",
   "toc_cell": true,
   "toc_position": {
    "height": "calc(100% - 180px)",
    "left": "10px",
    "top": "150px",
    "width": "287.594px"
   },
   "toc_section_display": true,
   "toc_window_display": true
  }
 },
 "nbformat": 4,
 "nbformat_minor": 2
}
